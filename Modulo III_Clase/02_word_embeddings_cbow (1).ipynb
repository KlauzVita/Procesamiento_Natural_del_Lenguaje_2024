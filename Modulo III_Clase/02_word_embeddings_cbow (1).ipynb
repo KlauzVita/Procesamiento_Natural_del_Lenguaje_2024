{
  "cells": [
    {
      "cell_type": "markdown",
      "metadata": {
        "id": "Hkz_-RWSsaqf"
      },
      "source": [
        "<img style=\"float: left;;\" src='https://github.com/gdesirena/Procesamiento_Natural_del_Lenguaje_2024/blob/main/Modulo%20III/Figures/alinco.png?raw=1' /></a>\n",
        "\n",
        "# Modulo III: Vectores Palabra (Word Embeddings) y CBOW 02\n"
      ]
    },
    {
      "cell_type": "markdown",
      "metadata": {
        "id": "6kZ8DtXosaqg"
      },
      "source": [
        "Veremos cómo preparar los datos para aplicar:\n",
        "\n",
        "\n",
        "- Propagación hacia adelante (Forward propagation).\n",
        "\n",
        "- Pérdida de entropía cruzada (crosss-entropy loss).\n",
        "\n",
        "- Retropropagación (Backpropagation).\n",
        "\n",
        "- Descenso de gradiente (gradient descent).\n"
      ]
    },
    {
      "cell_type": "code",
      "execution_count": 1,
      "metadata": {
        "id": "2M5tVGUFsaqg"
      },
      "outputs": [],
      "source": [
        "import numpy as np"
      ]
    },
    {
      "cell_type": "markdown",
      "metadata": {
        "id": "Y2w1_Wj6saqh"
      },
      "source": [
        "## Forward propagation"
      ]
    },
    {
      "cell_type": "markdown",
      "metadata": {
        "id": "bhInu3nbsaqh"
      },
      "source": [
        "\n",
        "<div style=\"width:image width px; font-size:100%; text-align:center;\"><img src='https://github.com/gdesirena/Procesamiento_Natural_del_Lenguaje_2024/blob/main/Modulo%20III/Figures/cbow_model_dimensions_single_input.png?raw=1' alt=\"alternate text\" width=\"width\" height=\"height\" style=\"width:839;height:349;\" /> Figure 2 </div>"
      ]
    },
    {
      "cell_type": "code",
      "execution_count": 2,
      "metadata": {
        "id": "fyZMpcq1saqh"
      },
      "outputs": [],
      "source": [
        "N= 3\n",
        "V = 5"
      ]
    },
    {
      "cell_type": "markdown",
      "metadata": {
        "id": "zjlGY6Y3saqh"
      },
      "source": [
        "### Inicialización de pesos y bías"
      ]
    },
    {
      "cell_type": "code",
      "execution_count": 3,
      "metadata": {
        "id": "QEoH7Dfmsaqh"
      },
      "outputs": [],
      "source": [
        "W1 = np.array([[ 0.41687358,  0.08854191, -0.23495225,  0.28320538,  0.41800106],\n",
        "               [ 0.32735501,  0.22795148, -0.23951958,  0.4117634 , -0.23924344],\n",
        "               [ 0.26637602, -0.23846886, -0.37770863, -0.11399446,  0.34008124]])\n",
        "\n",
        "\n",
        "W2 = np.array([[-0.22182064, -0.43008631,  0.13310965],\n",
        "               [ 0.08476603,  0.08123194,  0.1772054 ],\n",
        "               [ 0.1871551 , -0.06107263, -0.1790735 ],\n",
        "               [ 0.07055222, -0.02015138,  0.36107434],\n",
        "               [ 0.33480474, -0.39423389, -0.43959196]])\n",
        "\n",
        "\n",
        "b1 = np.array([[ 0.09688219],\n",
        "               [ 0.29239497],\n",
        "               [-0.27364426]])\n",
        "\n",
        "\n",
        "b2 = np.array([[ 0.0352008 ],\n",
        "               [-0.36393384],\n",
        "               [-0.12775555],\n",
        "               [-0.34802326],\n",
        "               [-0.07017815]])"
      ]
    },
    {
      "cell_type": "code",
      "source": [
        "#W1 = np.random.normal(3,5) # vectores o matrices que se generan aleatoriamente\n",
        "#W2 = np.random.normal(5,3) # vectores o matrices que se generan aleatoriamente\n"
      ],
      "metadata": {
        "id": "GTbqw1fWZ5XM"
      },
      "execution_count": null,
      "outputs": []
    },
    {
      "cell_type": "markdown",
      "metadata": {
        "id": "X9UazbXgsaqh"
      },
      "source": [
        "Agregar las funciones vistas en los notebooks pasados"
      ]
    },
    {
      "cell_type": "code",
      "execution_count": 6,
      "metadata": {
        "id": "GbYdxY1Fsaqh"
      },
      "outputs": [],
      "source": [
        "def get_dict(data):\n",
        "    words = sorted(list(set(data)))\n",
        "    n = len(words)\n",
        "    idx = 0\n",
        "    # return these correctly\n",
        "    word2Ind = {}\n",
        "    Ind2word = {}\n",
        "    for k in words:\n",
        "        word2Ind[k] = idx\n",
        "        Ind2word[idx] = k\n",
        "        idx += 1\n",
        "    return word2Ind, Ind2word\n",
        "\n",
        "def get_windows(words, C):\n",
        "    i = C\n",
        "    while i < len(words) - C:\n",
        "        center_word = words[i]\n",
        "        context_words = words[(i - C):i] + words[(i+1):(i+C+1)]\n",
        "        yield context_words, center_word\n",
        "        i += 1\n",
        "\n",
        "def word_to_one_hot_vector(word, word2Ind, V):\n",
        "    one_hot_vector = np.zeros(V)\n",
        "    one_hot_vector[word2Ind[word]] = 1\n",
        "    return one_hot_vector\n",
        "\n",
        "def context_words_to_vector(context_words, word2Ind, V):\n",
        "    context_words_vectors = [word_to_one_hot_vector(w, word2Ind, V) for w in context_words]\n",
        "    context_words_vectors = np.mean(context_words_vectors, axis=0)\n",
        "    return context_words_vectors\n",
        "\n",
        "def get_training_example(words, C, word2Ind, V):\n",
        "    for context_words, center_word in get_windows(words, C):\n",
        "        yield context_words_to_vector(context_words, word2Ind, V), word_to_one_hot_vector(center_word, word2Ind, V)\n"
      ]
    },
    {
      "cell_type": "code",
      "execution_count": 4,
      "metadata": {
        "id": "I5dnJwlYsaqh"
      },
      "outputs": [],
      "source": [
        "words = ['i', 'am', 'happy','because', 'i', 'am', 'learning']"
      ]
    },
    {
      "cell_type": "code",
      "source": [
        " word2Ind, Ind2word = get_dict(words)\n"
      ],
      "metadata": {
        "id": "lwULdWHwbHiK"
      },
      "execution_count": 8,
      "outputs": []
    },
    {
      "cell_type": "code",
      "source": [
        "word2Ind, Ind2word"
      ],
      "metadata": {
        "id": "zepO_wonbHkq",
        "outputId": "87464462-7487-4807-b91b-5ffafdebe2fa",
        "colab": {
          "base_uri": "https://localhost:8080/"
        }
      },
      "execution_count": 9,
      "outputs": [
        {
          "output_type": "execute_result",
          "data": {
            "text/plain": [
              "({'am': 0, 'because': 1, 'happy': 2, 'i': 3, 'learning': 4},\n",
              " {0: 'am', 1: 'because', 2: 'happy', 3: 'i', 4: 'learning'})"
            ]
          },
          "metadata": {},
          "execution_count": 9
        }
      ]
    },
    {
      "cell_type": "code",
      "source": [],
      "metadata": {
        "id": "zbtFAEdabHmq"
      },
      "execution_count": null,
      "outputs": []
    },
    {
      "cell_type": "markdown",
      "metadata": {
        "id": "4DRiSaHUsaqi"
      },
      "source": [
        "## Datos de entrenamiento"
      ]
    },
    {
      "cell_type": "code",
      "source": [
        "training_examples = get_training_example(words, 2, word2Ind, V)"
      ],
      "metadata": {
        "id": "-3DMQOsMbbTI"
      },
      "execution_count": 10,
      "outputs": []
    },
    {
      "cell_type": "code",
      "source": [
        "training_examples"
      ],
      "metadata": {
        "id": "OpYezWxrbbWg",
        "outputId": "e4bac14e-7f54-450f-d044-ea1dab020b9a",
        "colab": {
          "base_uri": "https://localhost:8080/"
        }
      },
      "execution_count": 11,
      "outputs": [
        {
          "output_type": "execute_result",
          "data": {
            "text/plain": [
              "<generator object get_training_example at 0x7ca35a0bceb0>"
            ]
          },
          "metadata": {},
          "execution_count": 11
        }
      ]
    },
    {
      "cell_type": "code",
      "source": [
        "x_array, y_array = next(training_examples)"
      ],
      "metadata": {
        "id": "Oe1NuUZlbsxY"
      },
      "execution_count": 12,
      "outputs": []
    },
    {
      "cell_type": "code",
      "source": [
        "x_array"
      ],
      "metadata": {
        "id": "B1SdhFB0bxYH",
        "outputId": "548ae82e-5ed8-40bf-a7f8-9be8c87eadb6",
        "colab": {
          "base_uri": "https://localhost:8080/"
        }
      },
      "execution_count": 13,
      "outputs": [
        {
          "output_type": "execute_result",
          "data": {
            "text/plain": [
              "array([0.25, 0.25, 0.  , 0.5 , 0.  ])"
            ]
          },
          "metadata": {},
          "execution_count": 13
        }
      ]
    },
    {
      "cell_type": "code",
      "source": [
        "y_array"
      ],
      "metadata": {
        "id": "Y0O3iMakbxbI",
        "outputId": "82052de6-6398-435e-f66d-b17f4c25f41b",
        "colab": {
          "base_uri": "https://localhost:8080/"
        }
      },
      "execution_count": 14,
      "outputs": [
        {
          "output_type": "execute_result",
          "data": {
            "text/plain": [
              "array([0., 0., 1., 0., 0.])"
            ]
          },
          "metadata": {},
          "execution_count": 14
        }
      ]
    },
    {
      "cell_type": "code",
      "source": [
        "x = x_array.copy()"
      ],
      "metadata": {
        "id": "uqAY2XBbcdYX"
      },
      "execution_count": 16,
      "outputs": []
    },
    {
      "cell_type": "code",
      "source": [
        "x.reshape(V,1)"
      ],
      "metadata": {
        "id": "NlNg46aXbxdg",
        "outputId": "e473e3e3-1fed-4fb8-867c-4f8f65daf1fe",
        "colab": {
          "base_uri": "https://localhost:8080/"
        }
      },
      "execution_count": 17,
      "outputs": [
        {
          "output_type": "execute_result",
          "data": {
            "text/plain": [
              "array([[0.25],\n",
              "       [0.25],\n",
              "       [0.  ],\n",
              "       [0.5 ],\n",
              "       [0.  ]])"
            ]
          },
          "metadata": {},
          "execution_count": 17
        }
      ]
    },
    {
      "cell_type": "code",
      "source": [
        "x.shape=(V,1)"
      ],
      "metadata": {
        "id": "vcmZbZHjciyX"
      },
      "execution_count": 18,
      "outputs": []
    },
    {
      "cell_type": "code",
      "source": [
        "x"
      ],
      "metadata": {
        "id": "fl3ghyX_clPP",
        "outputId": "2e58e34c-8eaf-4021-cbc9-acdc82eda5b3",
        "colab": {
          "base_uri": "https://localhost:8080/"
        }
      },
      "execution_count": 19,
      "outputs": [
        {
          "output_type": "execute_result",
          "data": {
            "text/plain": [
              "array([[0.25],\n",
              "       [0.25],\n",
              "       [0.  ],\n",
              "       [0.5 ],\n",
              "       [0.  ]])"
            ]
          },
          "metadata": {},
          "execution_count": 19
        }
      ]
    },
    {
      "cell_type": "code",
      "source": [
        "y = y_array.copy()"
      ],
      "metadata": {
        "id": "a6Dnb6JacnnQ"
      },
      "execution_count": 20,
      "outputs": []
    },
    {
      "cell_type": "code",
      "source": [
        "y.shape= (V,1)"
      ],
      "metadata": {
        "id": "wknHKf--cq9n"
      },
      "execution_count": 22,
      "outputs": []
    },
    {
      "cell_type": "code",
      "source": [],
      "metadata": {
        "id": "2IyEGpXJcwuT"
      },
      "execution_count": null,
      "outputs": []
    },
    {
      "cell_type": "markdown",
      "source": [
        "Funciones de Activación"
      ],
      "metadata": {
        "id": "t1oesT4-c2FG"
      }
    },
    {
      "cell_type": "code",
      "execution_count": 23,
      "metadata": {
        "id": "jsIADczQsaqi"
      },
      "outputs": [],
      "source": [
        "def relu(z):\n",
        "    result = z.copy()\n",
        "    result[result<0] = 0\n",
        "    return result\n",
        "\n",
        "def softmax(z):\n",
        "    e_z = np.exp(z)\n",
        "    sum_e_z = np.sum(e_z)\n",
        "    return e_z / sum_e_z"
      ]
    },
    {
      "cell_type": "markdown",
      "metadata": {
        "id": "_D7dxJ6Qsaqi"
      },
      "source": [
        "## Forward"
      ]
    },
    {
      "cell_type": "markdown",
      "metadata": {
        "id": "ByK11v2Qsaqi"
      },
      "source": [
        "### Valores de la capa oculta"
      ]
    },
    {
      "cell_type": "markdown",
      "metadata": {
        "id": "tpk7RRetsaqi"
      },
      "source": [
        "\\begin{align}\n",
        "\\mathbf{z_1} = \\mathbf{W_1}\\mathbf{x} + \\mathbf{b1} \\\\\n",
        "\\mathbf{h} = \\mathbf{ReLu}(\\mathbf{z_1)} \\\\\n",
        "\\end{align}"
      ]
    },
    {
      "cell_type": "code",
      "execution_count": 24,
      "metadata": {
        "id": "5aYw2PTFsaqi"
      },
      "outputs": [],
      "source": [
        "z1 = np.dot(W1,x) + b1"
      ]
    },
    {
      "cell_type": "code",
      "source": [
        "z1"
      ],
      "metadata": {
        "id": "Xug0V-nMd_48",
        "outputId": "e25f27c4-4c4f-4abe-e999-26897ac0f277",
        "colab": {
          "base_uri": "https://localhost:8080/"
        }
      },
      "execution_count": 25,
      "outputs": [
        {
          "output_type": "execute_result",
          "data": {
            "text/plain": [
              "array([[ 0.36483875],\n",
              "       [ 0.63710329],\n",
              "       [-0.3236647 ]])"
            ]
          },
          "metadata": {},
          "execution_count": 25
        }
      ]
    },
    {
      "cell_type": "code",
      "source": [
        "h = relu(z1)\n",
        "h"
      ],
      "metadata": {
        "id": "kjRArglNeCRt",
        "outputId": "a24b1a8c-b1eb-4158-e6e2-63067581e490",
        "colab": {
          "base_uri": "https://localhost:8080/"
        }
      },
      "execution_count": 26,
      "outputs": [
        {
          "output_type": "execute_result",
          "data": {
            "text/plain": [
              "array([[0.36483875],\n",
              "       [0.63710329],\n",
              "       [0.        ]])"
            ]
          },
          "metadata": {},
          "execution_count": 26
        }
      ]
    },
    {
      "cell_type": "markdown",
      "metadata": {
        "id": "7GfH6UhBsaqi"
      },
      "source": [
        "### Valores de la capa de salida"
      ]
    },
    {
      "cell_type": "code",
      "source": [
        "z2 = np.dot(W2, h)+b2\n",
        "z2"
      ],
      "metadata": {
        "id": "8bmCXavkd_aC",
        "outputId": "49d4dc3f-77e7-46b9-9e14-f75767ca61ff",
        "colab": {
          "base_uri": "https://localhost:8080/"
        }
      },
      "execution_count": 27,
      "outputs": [
        {
          "output_type": "execute_result",
          "data": {
            "text/plain": [
              "array([[-0.31973737],\n",
              "       [-0.28125477],\n",
              "       [-0.09838369],\n",
              "       [-0.33512159],\n",
              "       [-0.19919612]])"
            ]
          },
          "metadata": {},
          "execution_count": 27
        }
      ]
    },
    {
      "cell_type": "code",
      "source": [],
      "metadata": {
        "id": "qpWwg8h_eV_q"
      },
      "execution_count": null,
      "outputs": []
    },
    {
      "cell_type": "markdown",
      "metadata": {
        "id": "VZK5c05isaqi"
      },
      "source": [
        "\\begin{align}\n",
        "\\mathbf{z_2} = \\mathbf{W_2}\\mathbf{h} + \\mathbf{b2} \\\\\n",
        "\\mathbf{\\hat{y}} = \\mathbf{softmax}(\\mathbf{z_2)} \\\\\n",
        "\\end{align}"
      ]
    },
    {
      "cell_type": "code",
      "execution_count": 29,
      "metadata": {
        "id": "aZ2cUr8Isaqi",
        "outputId": "73a2ce8f-b5e9-4ed6-d749-7d5e7c8730be",
        "colab": {
          "base_uri": "https://localhost:8080/"
        }
      },
      "outputs": [
        {
          "output_type": "execute_result",
          "data": {
            "text/plain": [
              "array([[0.18519074],\n",
              "       [0.19245626],\n",
              "       [0.23107446],\n",
              "       [0.18236353],\n",
              "       [0.20891502]])"
            ]
          },
          "metadata": {},
          "execution_count": 29
        }
      ],
      "source": [
        "y_hat = softmax(z2)\n",
        "y_hat"
      ]
    },
    {
      "cell_type": "code",
      "source": [
        "y"
      ],
      "metadata": {
        "id": "U0-WztkheeLm",
        "outputId": "acf9a9b2-7752-4cb3-ca16-4c3a47bc0136",
        "colab": {
          "base_uri": "https://localhost:8080/"
        }
      },
      "execution_count": 30,
      "outputs": [
        {
          "output_type": "execute_result",
          "data": {
            "text/plain": [
              "array([[0.],\n",
              "       [0.],\n",
              "       [1.],\n",
              "       [0.],\n",
              "       [0.]])"
            ]
          },
          "metadata": {},
          "execution_count": 30
        }
      ]
    },
    {
      "cell_type": "markdown",
      "metadata": {
        "id": "8UwADaxssaqi"
      },
      "source": [
        "### Cross-entropy loss"
      ]
    },
    {
      "cell_type": "markdown",
      "metadata": {
        "id": "qFYvDhemsaqi"
      },
      "source": [
        "$$ J = -\\sum\\limits_{k=1}^{V} y_k \\log{\\hat{y}_k}$$"
      ]
    },
    {
      "cell_type": "code",
      "execution_count": 31,
      "metadata": {
        "id": "f0SrQeR6saqj"
      },
      "outputs": [],
      "source": [
        "def cross_entropy_loss(y_predicted, y_actual):\n",
        "    loss = np.sum(-np.log(y_predicted)*y_actual)\n",
        "    return loss"
      ]
    },
    {
      "cell_type": "code",
      "execution_count": 32,
      "metadata": {
        "id": "uAkLD0bWsaqj",
        "outputId": "e6d0ee2f-378a-4dcf-a7cc-d5569a177460",
        "colab": {
          "base_uri": "https://localhost:8080/"
        }
      },
      "outputs": [
        {
          "output_type": "execute_result",
          "data": {
            "text/plain": [
              "1.4650152923611106"
            ]
          },
          "metadata": {},
          "execution_count": 32
        }
      ],
      "source": [
        "cross_entropy_loss(y_hat, y)\n"
      ]
    },
    {
      "cell_type": "markdown",
      "metadata": {
        "id": "D-GA7RLfsaqj"
      },
      "source": [
        "### Backpropagation"
      ]
    },
    {
      "cell_type": "markdown",
      "metadata": {
        "id": "JMwcVVXUsaqj"
      },
      "source": [
        "Las formulas que necesitamos para implementar el backpropagation son:\n",
        "\n",
        "\n",
        "\\begin{align}\n",
        " \\frac{\\partial J}{\\partial \\mathbf{W_1}} &= \\rm{ReLU}\\left ( \\mathbf{W_2^\\top} (\\mathbf{\\hat{y}} - \\mathbf{y})\\right )\\mathbf{x}^\\top \\tag{7}\\\\\n",
        " \\frac{\\partial J}{\\partial \\mathbf{W_2}} &= (\\mathbf{\\hat{y}} - \\mathbf{y})\\mathbf{h^\\top} \\tag{8}\\\\\n",
        " \\frac{\\partial J}{\\partial \\mathbf{b_1}} &= \\rm{ReLU}\\left ( \\mathbf{W_2^\\top} (\\mathbf{\\hat{y}} - \\mathbf{y})\\right ) \\tag{9}\\\\\n",
        " \\frac{\\partial J}{\\partial \\mathbf{b_2}} &= \\mathbf{\\hat{y}} - \\mathbf{y} \\tag{10}\n",
        "\\end{align}\n"
      ]
    },
    {
      "cell_type": "markdown",
      "metadata": {
        "id": "Da1lVDwYsaqj"
      },
      "source": [
        "Calcule la derivada parcial de la función de pérdida con respecto a $ \\mathbf {b_2} $ y almacene el resultado en `grad_b2`.\n",
        "\n",
        "\n",
        "$$\\frac{\\partial J}{\\partial \\mathbf{b_2}} = \\mathbf{\\hat{y}} - \\mathbf{y} \\tag{10}$$"
      ]
    },
    {
      "cell_type": "code",
      "execution_count": 34,
      "metadata": {
        "id": "O3xl1vc3saqj"
      },
      "outputs": [],
      "source": [
        "grad_b2 = y_hat - y"
      ]
    },
    {
      "cell_type": "markdown",
      "metadata": {
        "id": "TVS7hBjSsaqj"
      },
      "source": [
        "Calcular la derivada parcial de la función con respecto a $ \\mathbf {w_2} $, y guardarlo en `grad_W2`\n",
        "\n",
        "$$\\frac{\\partial J}{\\partial \\mathbf{W_2}} = (\\mathbf{\\hat{y}} - \\mathbf{y})\\mathbf{h^\\top} \\tag{8}$$\n"
      ]
    },
    {
      "cell_type": "code",
      "execution_count": 35,
      "metadata": {
        "id": "A3Sm9S_Gsaqj",
        "outputId": "b22d3f81-0dd7-4c3b-c0b0-0bcdf34251b2",
        "colab": {
          "base_uri": "https://localhost:8080/"
        }
      },
      "outputs": [
        {
          "output_type": "execute_result",
          "data": {
            "text/plain": [
              "array([[ 0.06756476,  0.11798563,  0.        ],\n",
              "       [ 0.0702155 ,  0.12261452,  0.        ],\n",
              "       [-0.28053384, -0.48988499,  0.        ],\n",
              "       [ 0.06653328,  0.1161844 ,  0.        ],\n",
              "       [ 0.07622029,  0.13310045,  0.        ]])"
            ]
          },
          "metadata": {},
          "execution_count": 35
        }
      ],
      "source": [
        "grad_w2 = np.dot((y_hat - y), h.T)\n",
        "grad_w2"
      ]
    },
    {
      "cell_type": "markdown",
      "metadata": {
        "id": "k4EA3JOpsaqj"
      },
      "source": [
        "**Ahora, calcule la derivada con respecto a $\\mathbf{b_1}$ y guardar el resultado en `grad_b1`.**\n",
        "\n",
        "$$\\frac{\\partial J}{\\partial \\mathbf{b_1}} = \\rm{ReLU}\\left ( \\mathbf{W_2^\\top} (\\mathbf{\\hat{y}} - \\mathbf{y})\\right ) \\tag{9}$$"
      ]
    },
    {
      "cell_type": "code",
      "execution_count": 36,
      "metadata": {
        "id": "lP1ZNlDrsaqj",
        "outputId": "5921bfc4-3004-489e-a683-3cca8873de16",
        "colab": {
          "base_uri": "https://localhost:8080/"
        }
      },
      "outputs": [
        {
          "output_type": "execute_result",
          "data": {
            "text/plain": [
              "array([[0.        ],\n",
              "       [0.        ],\n",
              "       [0.17045858]])"
            ]
          },
          "metadata": {},
          "execution_count": 36
        }
      ],
      "source": [
        "grad_b1 = relu(np.dot(W2.T, (y_hat - y)))\n",
        "grad_b1"
      ]
    },
    {
      "cell_type": "markdown",
      "metadata": {
        "id": "rnFcgIM4saqj"
      },
      "source": [
        "**Finalmente, calcular la derivada parcial del loss con respecto a $\\mathbf{W_1}$, y guardarlo en`grad_W1`.**\n",
        "\n",
        "$$\\frac{\\partial J}{\\partial \\mathbf{W_1}} = \\rm{ReLU}\\left ( \\mathbf{W_2^\\top} (\\mathbf{\\hat{y}} - \\mathbf{y})\\right )\\mathbf{x}^\\top \\tag{7}$$"
      ]
    },
    {
      "cell_type": "code",
      "execution_count": 37,
      "metadata": {
        "id": "nWy4QIl2saqj",
        "outputId": "ab0b5834-cbc6-4614-acca-6990f6a7671a",
        "colab": {
          "base_uri": "https://localhost:8080/"
        }
      },
      "outputs": [
        {
          "output_type": "execute_result",
          "data": {
            "text/plain": [
              "array([[0.        , 0.        , 0.        , 0.        , 0.        ],\n",
              "       [0.        , 0.        , 0.        , 0.        , 0.        ],\n",
              "       [0.04261464, 0.04261464, 0.        , 0.08522929, 0.        ]])"
            ]
          },
          "metadata": {},
          "execution_count": 37
        }
      ],
      "source": [
        "grad_w1 = np.dot(relu(np.dot(W2.T, grad_b2)), x.T)\n",
        "grad_w1"
      ]
    },
    {
      "cell_type": "markdown",
      "metadata": {
        "id": "wo9K7vEBsaqj"
      },
      "source": [
        "## Gradiante descendente\n",
        "\n",
        "Durante la fase del gradiante descendente, actualizará los pesos y los bías $ \\alpha $ veces el gradiente de las matrices y vectores originales, utilizando las siguientes fórmulas.\n",
        "\n",
        "\n",
        "\\begin{align}\n",
        " \\mathbf{W_1} &:= \\mathbf{W_1} - \\alpha \\frac{\\partial J}{\\partial \\mathbf{W_1}} \\tag{11}\\\\\n",
        " \\mathbf{W_2} &:= \\mathbf{W_2} - \\alpha \\frac{\\partial J}{\\partial \\mathbf{W_2}} \\tag{12}\\\\\n",
        " \\mathbf{b_1} &:= \\mathbf{b_1} - \\alpha \\frac{\\partial J}{\\partial \\mathbf{b_1}} \\tag{13}\\\\\n",
        " \\mathbf{b_2} &:= \\mathbf{b_2} - \\alpha \\frac{\\partial J}{\\partial \\mathbf{b_2}} \\tag{14}\\\\\n",
        "\\end{align}\n"
      ]
    },
    {
      "cell_type": "code",
      "execution_count": 38,
      "metadata": {
        "id": "59eotXHnsaqk"
      },
      "outputs": [],
      "source": [
        "alpha = 0.03"
      ]
    },
    {
      "cell_type": "code",
      "source": [
        "W1_n = W1 - alpha*grad_w1\n",
        "W2_n = W2 - alpha*grad_w2\n",
        "b1_n = b1 - alpha*grad_b1\n",
        "b2_n = b2 - alpha*grad_b2"
      ],
      "metadata": {
        "id": "4zGWV41lghlV"
      },
      "execution_count": 39,
      "outputs": []
    },
    {
      "cell_type": "code",
      "source": [
        "W1_n"
      ],
      "metadata": {
        "id": "RnYnYCjDghpE",
        "outputId": "f064502a-50b6-4748-ab7d-21b2d768a5ac",
        "colab": {
          "base_uri": "https://localhost:8080/"
        }
      },
      "execution_count": 40,
      "outputs": [
        {
          "output_type": "execute_result",
          "data": {
            "text/plain": [
              "array([[ 0.41687358,  0.08854191, -0.23495225,  0.28320538,  0.41800106],\n",
              "       [ 0.32735501,  0.22795148, -0.23951958,  0.4117634 , -0.23924344],\n",
              "       [ 0.26509758, -0.2397473 , -0.37770863, -0.11655134,  0.34008124]])"
            ]
          },
          "metadata": {},
          "execution_count": 40
        }
      ]
    },
    {
      "cell_type": "code",
      "source": [
        "W1"
      ],
      "metadata": {
        "id": "k3FNV5vZghrZ",
        "outputId": "d0685a90-afe8-4dd8-d81d-cf45983d08a6",
        "colab": {
          "base_uri": "https://localhost:8080/"
        }
      },
      "execution_count": 41,
      "outputs": [
        {
          "output_type": "execute_result",
          "data": {
            "text/plain": [
              "array([[ 0.41687358,  0.08854191, -0.23495225,  0.28320538,  0.41800106],\n",
              "       [ 0.32735501,  0.22795148, -0.23951958,  0.4117634 , -0.23924344],\n",
              "       [ 0.26637602, -0.23846886, -0.37770863, -0.11399446,  0.34008124]])"
            ]
          },
          "metadata": {},
          "execution_count": 41
        }
      ]
    },
    {
      "cell_type": "code",
      "source": [
        "W1_n - W1"
      ],
      "metadata": {
        "id": "PMSku2b7g8xW",
        "outputId": "82942d7f-ec58-4caa-b9af-b679f6f6d343",
        "colab": {
          "base_uri": "https://localhost:8080/"
        }
      },
      "execution_count": 42,
      "outputs": [
        {
          "output_type": "execute_result",
          "data": {
            "text/plain": [
              "array([[ 0.        ,  0.        ,  0.        ,  0.        ,  0.        ],\n",
              "       [ 0.        ,  0.        ,  0.        ,  0.        ,  0.        ],\n",
              "       [-0.00127844, -0.00127844,  0.        , -0.00255688,  0.        ]])"
            ]
          },
          "metadata": {},
          "execution_count": 42
        }
      ]
    },
    {
      "cell_type": "markdown",
      "metadata": {
        "id": "1IXFAYU5saqk"
      },
      "source": [
        "**Ahora Calcule los nuevo valores de $\\mathbf{W_2}$ (que serán guardados en `W2_new`), $\\mathbf{b_1}$ (en `b1_new`), y $\\mathbf{b_2}$ (en `b2_new`).**\n",
        "\n",
        "\\begin{align}\n",
        " \\mathbf{W_2} &:= \\mathbf{W_2} - \\alpha \\frac{\\partial J}{\\partial \\mathbf{W_2}} \\tag{12}\\\\\n",
        " \\mathbf{b_1} &:= \\mathbf{b_1} - \\alpha \\frac{\\partial J}{\\partial \\mathbf{b_1}} \\tag{13}\\\\\n",
        " \\mathbf{b_2} &:= \\mathbf{b_2} - \\alpha \\frac{\\partial J}{\\partial \\mathbf{b_2}} \\tag{14}\\\\\n",
        "\\end{align}"
      ]
    },
    {
      "cell_type": "code",
      "execution_count": null,
      "metadata": {
        "id": "Qa5xCmT6saqk"
      },
      "outputs": [],
      "source": []
    },
    {
      "cell_type": "code",
      "execution_count": null,
      "metadata": {
        "id": "ayWizA0msaqk"
      },
      "outputs": [],
      "source": []
    },
    {
      "cell_type": "markdown",
      "metadata": {
        "id": "L8JRm6fYsaqk"
      },
      "source": [
        "## Opción 1: extraer los embeddings de W1"
      ]
    },
    {
      "cell_type": "code",
      "execution_count": 44,
      "metadata": {
        "id": "IpdWaUy4saql",
        "outputId": "1f6a25a7-97c1-4f60-efa9-4ebb673a056a",
        "colab": {
          "base_uri": "https://localhost:8080/"
        }
      },
      "outputs": [
        {
          "output_type": "execute_result",
          "data": {
            "text/plain": [
              "array([[ 0.41687358,  0.08854191, -0.23495225,  0.28320538,  0.41800106],\n",
              "       [ 0.32735501,  0.22795148, -0.23951958,  0.4117634 , -0.23924344],\n",
              "       [ 0.26509758, -0.2397473 , -0.37770863, -0.11655134,  0.34008124]])"
            ]
          },
          "metadata": {},
          "execution_count": 44
        }
      ],
      "source": [
        "W1_n"
      ]
    },
    {
      "cell_type": "code",
      "source": [
        "for i in range(V):\n",
        "  print(Ind2word[i])"
      ],
      "metadata": {
        "id": "9xmiB5MwhY3T",
        "outputId": "e2919405-f595-4938-e76c-c6ad7a9cb968",
        "colab": {
          "base_uri": "https://localhost:8080/"
        }
      },
      "execution_count": 45,
      "outputs": [
        {
          "output_type": "stream",
          "name": "stdout",
          "text": [
            "am\n",
            "because\n",
            "happy\n",
            "i\n",
            "learning\n"
          ]
        }
      ]
    },
    {
      "cell_type": "code",
      "source": [
        "word2Ind"
      ],
      "metadata": {
        "id": "JihYOMRKhY6T",
        "outputId": "7980c38d-8e0a-4f22-90be-428559b21c0f",
        "colab": {
          "base_uri": "https://localhost:8080/"
        }
      },
      "execution_count": 46,
      "outputs": [
        {
          "output_type": "execute_result",
          "data": {
            "text/plain": [
              "{'am': 0, 'because': 1, 'happy': 2, 'i': 3, 'learning': 4}"
            ]
          },
          "metadata": {},
          "execution_count": 46
        }
      ]
    },
    {
      "cell_type": "markdown",
      "metadata": {
        "id": "4roAC4yKsaql"
      },
      "source": [
        "## Opción 2: extraer los embeddings de W2"
      ]
    },
    {
      "cell_type": "code",
      "execution_count": 47,
      "metadata": {
        "id": "HajqtMsDsaql",
        "outputId": "df424ba5-14c1-47e3-e096-e342a59c57c9",
        "colab": {
          "base_uri": "https://localhost:8080/"
        }
      },
      "outputs": [
        {
          "output_type": "execute_result",
          "data": {
            "text/plain": [
              "array([[-0.22384758, -0.43362588,  0.13310965],\n",
              "       [ 0.08265956,  0.0775535 ,  0.1772054 ],\n",
              "       [ 0.19557112, -0.04637608, -0.1790735 ],\n",
              "       [ 0.06855622, -0.02363691,  0.36107434],\n",
              "       [ 0.33251813, -0.3982269 , -0.43959196]])"
            ]
          },
          "metadata": {},
          "execution_count": 47
        }
      ],
      "source": [
        "W2_n"
      ]
    },
    {
      "cell_type": "code",
      "execution_count": null,
      "metadata": {
        "id": "i-cANImRsaql"
      },
      "outputs": [],
      "source": []
    },
    {
      "cell_type": "markdown",
      "metadata": {
        "id": "xsb1SRyHsaql"
      },
      "source": [
        "## Opción 3: extraer los embeddings de W1 y W2"
      ]
    },
    {
      "cell_type": "code",
      "execution_count": 49,
      "metadata": {
        "id": "3LsMjYrusaql"
      },
      "outputs": [],
      "source": [
        "w3 = (W1 + W2.T)/3"
      ]
    },
    {
      "cell_type": "code",
      "execution_count": 50,
      "metadata": {
        "id": "lWywnahVsaql",
        "outputId": "7bf7ef09-dcf3-47e8-da01-5523c2075995",
        "colab": {
          "base_uri": "https://localhost:8080/"
        }
      },
      "outputs": [
        {
          "output_type": "execute_result",
          "data": {
            "text/plain": [
              "array([[ 0.06501765,  0.05776931, -0.01593238,  0.1179192 ,  0.25093527],\n",
              "       [-0.03424377,  0.10306114, -0.1001974 ,  0.13053734, -0.21115911],\n",
              "       [ 0.13316189, -0.02042115, -0.18559404,  0.08235996, -0.03317024]])"
            ]
          },
          "metadata": {},
          "execution_count": 50
        }
      ],
      "source": [
        "w3"
      ]
    },
    {
      "cell_type": "code",
      "execution_count": null,
      "metadata": {
        "id": "4PoX_rfrsaql"
      },
      "outputs": [],
      "source": [
        "def gradient_descent(xtrain,ytrain, N, V, numiter, alpha):\n",
        "\n"
      ]
    }
  ],
  "metadata": {
    "kernelspec": {
      "display_name": "Python 3 (ipykernel)",
      "language": "python",
      "name": "python3"
    },
    "language_info": {
      "codemirror_mode": {
        "name": "ipython",
        "version": 3
      },
      "file_extension": ".py",
      "mimetype": "text/x-python",
      "name": "python",
      "nbconvert_exporter": "python",
      "pygments_lexer": "ipython3",
      "version": "3.8.8"
    },
    "colab": {
      "provenance": []
    }
  },
  "nbformat": 4,
  "nbformat_minor": 0
}