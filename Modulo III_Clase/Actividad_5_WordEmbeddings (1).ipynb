{
  "cells": [
    {
      "cell_type": "markdown",
      "metadata": {
        "id": "86aOWqDfcrJq"
      },
      "source": [
        "<img style=\"float: left;;\" src='Figures/alinco.png' /></a>\n",
        "\n",
        "# Actividad 5: WordEmbeddings (Modelo CBOW)\n"
      ]
    },
    {
      "cell_type": "markdown",
      "metadata": {
        "id": "_IYSALMdcrJs"
      },
      "source": [
        "\n",
        "En esta acividad, practicarás cómo calcular wordembedding y utilizarlas para el análisis de sentimientos.\n",
        "\n",
        "- Para implementar el análisis de sentimientos, podemos ir más allá de contar el número de palabras positivas y negativas.\n",
        "- Podrás encontrar una manera de representar cada palabra numéricamente, mediante un vector.\n",
        "- El vector podría entonces representar estructuras sintácticas (es decir, partes del discurso) y semánticas (es decir, significado).\n",
        "\n",
        "En esta actividad, explorarás una forma clásica de generar wordembeddings de palabras.\n",
        "- Implementarás un modelo famoso llamado modelo de bolsa continua de palabras (CBOW).\n",
        "\n",
        "\n",
        "Saber cómo entrenar estos modelos te brindará una mejor comprensión de los vectores palabras, que son los componentes básicos de muchas aplicaciones en el procesamiento del lenguaje natural."
      ]
    },
    {
      "cell_type": "markdown",
      "metadata": {
        "id": "DEWrv5b_crJs"
      },
      "source": [
        "<a name='1'></a>\n",
        "# Continuous bag of words (CBOW)\n",
        "\n",
        "Observemos la siguiente sentencia:\n",
        ">**'I am happy because I am learning'**.\n",
        "\n",
        "- En el modelado de bolsa continua de palabras (CBOW), intentamos predecir la palabra central dadas algunas palabras de contexto (las palabras alrededor de la palabra central).\n",
        "\n",
        "- Por ejemplo, si tuviera que elegir un contexto de tamaño medio, digamos $C = 2$, entonces intentaría predecir la palabra **happy** dado el contexto que incluye 2 palabras antes y 2 palabras después de la palabra central. :\n",
        "\n",
        "> $C$ words before: [I, am]\n",
        "\n",
        "> $C$ words after: [because, I]\n",
        "\n",
        "- en otras palabras:\n",
        "\n",
        "$$context = [I,am, because, I]$$\n",
        "$$target = happy$$\n",
        "\n",
        "La estructura del modelo se ve como sigue:\n",
        "\n",
        "<div style=\"width:image width px; font-size:100%; text-align:center;\"><img src='Figures/word2.png' alt=\"alternate text\" width=\"width\" height=\"height\" style=\"width:600px;height:250px;\" /> Figure 1 </div>\n",
        "\n",
        "dond $\\bar x$ es el promedio de todos los vectores one-hot de las palabras de contexto.\n",
        "\n",
        "<div style=\"width:image width px; font-size:100%; text-align:center;\"><img src='mean_vec2.png' alt=\"alternate text\" width=\"width\" height=\"height\" style=\"width:600px;height:250px;\" /> Figure 2 </div>\n",
        "\n",
        "Una vez que ya tenemos los vectores contextos, podemos usar $\\bar x$  como la entrada al modelo\n",
        "\n",
        "La arquitectura a implementar es la siguiente:\n",
        "\n",
        "\\begin{align}\n",
        " h &= W_1 \\  X + b_1  \\tag{1} \\\\\n",
        " a &= ReLU(h)  \\tag{2} \\\\\n",
        " z &= W_2 \\  a + b_2   \\tag{3} \\\\\n",
        " \\hat y &= softmax(z)   \\tag{4} \\\\\n",
        "\\end{align}"
      ]
    },
    {
      "cell_type": "code",
      "execution_count": 1,
      "metadata": {
        "id": "uj3fLKdOcrJt"
      },
      "outputs": [],
      "source": [
        "# Importar librerias y funciones de ayuda (utils2)\n",
        "import nltk\n",
        "from nltk.tokenize import word_tokenize\n",
        "import numpy as np\n",
        "from collections import Counter\n",
        "from utils2 import sigmoid, get_batches, compute_pca, get_dict"
      ]
    },
    {
      "cell_type": "code",
      "execution_count": 2,
      "metadata": {
        "id": "bG0TaS7pcrJt"
      },
      "outputs": [],
      "source": [
        "\n",
        "nltk.data.path.append('.')"
      ]
    },
    {
      "cell_type": "code",
      "source": [
        "nltk.download('punkt')"
      ],
      "metadata": {
        "colab": {
          "base_uri": "https://localhost:8080/"
        },
        "id": "HSmmc6pbdILP",
        "outputId": "6d69bdbf-9fd0-4582-c958-452b820e6aa2"
      },
      "execution_count": 3,
      "outputs": [
        {
          "output_type": "stream",
          "name": "stderr",
          "text": [
            "[nltk_data] Downloading package punkt to /root/nltk_data...\n",
            "[nltk_data]   Unzipping tokenizers/punkt.zip.\n"
          ]
        },
        {
          "output_type": "execute_result",
          "data": {
            "text/plain": [
              "True"
            ]
          },
          "metadata": {},
          "execution_count": 3
        }
      ]
    },
    {
      "cell_type": "code",
      "execution_count": 4,
      "metadata": {
        "id": "anP_wpa7crJt"
      },
      "outputs": [],
      "source": [
        "# cargar y tokenizar\n",
        "import re"
      ]
    },
    {
      "cell_type": "code",
      "source": [
        "# Leer el archivo txt shakespeare.txt\n",
        "with open('shakespeare.txt') as f:\n",
        "  data = f.read()\n",
        "#Limpiar los elementos del archivo\n",
        "data = re.sub(r'[,!?;-]', '.', data)      #remplazando símbolos de puntuación por un .\n",
        "data = nltk.word_tokenize(data)           #Tokenizando las palabras\n",
        "data = [ch.lower() for ch in data if ch.isalpha() or ch=='.']\n",
        "print('Num de tokens: ', len(data),'\\n', data[:15])"
      ],
      "metadata": {
        "colab": {
          "base_uri": "https://localhost:8080/"
        },
        "id": "dLvRbekxJK5s",
        "outputId": "2866a3af-e748-4f9a-e1d1-2c4e1fc01679"
      },
      "execution_count": 5,
      "outputs": [
        {
          "output_type": "stream",
          "name": "stdout",
          "text": [
            "Num de tokens:  60976 \n",
            " ['o', 'for', 'a', 'muse', 'of', 'fire', '.', 'that', 'would', 'ascend', 'the', 'brightest', 'heaven', 'of', 'invention']\n"
          ]
        }
      ]
    },
    {
      "cell_type": "code",
      "source": [],
      "metadata": {
        "id": "r-gxE1gGJK7a"
      },
      "execution_count": null,
      "outputs": []
    },
    {
      "cell_type": "code",
      "execution_count": 7,
      "metadata": {
        "colab": {
          "base_uri": "https://localhost:8080/"
        },
        "id": "I2f4-xeZcrJu",
        "outputId": "c778432c-de11-4f6a-cb0e-2a7212e06b5a"
      },
      "outputs": [
        {
          "output_type": "stream",
          "name": "stdout",
          "text": [
            "tamaño del vocabulario (V):  5775\n",
            "algunas de los tokens más frecuentes son:  [('.', 9630), ('the', 1521), ('and', 1394), ('i', 1257), ('to', 1159), ('of', 1093), ('my', 857), ('that', 781), ('in', 770), ('a', 752), ('you', 748), ('is', 630), ('not', 559), ('for', 467), ('it', 460), ('with', 441), ('his', 434), ('but', 417), ('me', 417), ('your', 397)]\n"
          ]
        }
      ],
      "source": [
        "# obtener la distribucion de frecuencias en el vocabulario\n",
        "fdist = nltk.FreqDist(word for word in data)\n",
        "print('tamaño del vocabulario (V): ', len(fdist))\n",
        "print('algunas de los tokens más frecuentes son: ', fdist.most_common(20))"
      ]
    },
    {
      "cell_type": "code",
      "source": [],
      "metadata": {
        "id": "yIRfm0_eKoVB"
      },
      "execution_count": null,
      "outputs": []
    },
    {
      "cell_type": "markdown",
      "metadata": {
        "id": "4n5nLEt3crJu"
      },
      "source": [
        "#### Mapear las palabras a sus indices y de indices a palabras\n"
      ]
    },
    {
      "cell_type": "code",
      "execution_count": 8,
      "metadata": {
        "id": "vcUteXLIcrJu"
      },
      "outputs": [],
      "source": [
        "# get_dict obtener los diccionarios ind2vec, vec2ind\n",
        "word2Ind, Ind2word = get_dict(data)"
      ]
    },
    {
      "cell_type": "code",
      "source": [
        "word2Ind['king']"
      ],
      "metadata": {
        "colab": {
          "base_uri": "https://localhost:8080/"
        },
        "id": "g-NL0R7ELIY_",
        "outputId": "85a4a6be-1df4-47c0-93c9-1cbcdbff8ec6"
      },
      "execution_count": 9,
      "outputs": [
        {
          "output_type": "execute_result",
          "data": {
            "text/plain": [
              "2744"
            ]
          },
          "metadata": {},
          "execution_count": 9
        }
      ]
    },
    {
      "cell_type": "code",
      "source": [
        "Ind2word[2744]"
      ],
      "metadata": {
        "colab": {
          "base_uri": "https://localhost:8080/",
          "height": 35
        },
        "id": "L27Ltne-LMeK",
        "outputId": "63ec2c47-9ddd-4394-ba25-0aaf0b0a1aca"
      },
      "execution_count": 11,
      "outputs": [
        {
          "output_type": "execute_result",
          "data": {
            "text/plain": [
              "'king'"
            ],
            "application/vnd.google.colaboratory.intrinsic+json": {
              "type": "string"
            }
          },
          "metadata": {},
          "execution_count": 11
        }
      ]
    },
    {
      "cell_type": "code",
      "source": [
        "V = len(word2Ind)\n",
        "V"
      ],
      "metadata": {
        "colab": {
          "base_uri": "https://localhost:8080/"
        },
        "id": "Wj4TfAt6LYnY",
        "outputId": "f3456cd1-0bd9-4816-c87c-5618da1cf285"
      },
      "execution_count": 12,
      "outputs": [
        {
          "output_type": "execute_result",
          "data": {
            "text/plain": [
              "5775"
            ]
          },
          "metadata": {},
          "execution_count": 12
        }
      ]
    },
    {
      "cell_type": "markdown",
      "metadata": {
        "id": "0aJhAZ8UcrJv"
      },
      "source": [
        "<a name='2'></a>\n",
        "# Entrenando el Modelo\n",
        "\n",
        "###  Inicialización del modelo\n",
        "\n",
        "Ahora inicializarás dos matrices y dos vectores.\n",
        "- La primera matriz ($W_1$) es de dimensión $N \\times V$, donde $V$ es el número de palabras en tu vocabulario y $N$ es la dimensión de tu vector de palabras.\n",
        "- La segunda matriz ($W_2$) es de dimensión $V \\times N$.\n",
        "- El vector $b_1$ tiene dimensiones $N\\times 1$\n",
        "- El vector $b_2$ tiene dimensiones $V\\times 1$.\n",
        "- $b_1$ y $b_2$ son los vectores bias.\n",
        "\n",
        "La estructura general del modelo se verá como en la Figura 1, pero en esta etapa solo estamos inicializando los parámetros.\n"
      ]
    },
    {
      "cell_type": "code",
      "execution_count": 13,
      "metadata": {
        "id": "fqHr4tdecrJv"
      },
      "outputs": [],
      "source": [
        "def initialize_model(N,V, random_seed=1):\n",
        "    '''\n",
        "    Inputs:\n",
        "        N:  dimension of hidden vector\n",
        "        V:  dimension of vocabulary\n",
        "        random_seed: random seed for consistent results in the unit tests\n",
        "     Outputs:\n",
        "        W1, W2, b1, b2: initialized weights and biases\n",
        "    '''\n",
        "\n",
        "    np.random.seed(random_seed)\n",
        "\n",
        "    # W1 shape (N,V)\n",
        "    W1 = np.random.rand(N,V)\n",
        "    # W2  shape (V,N)\n",
        "    W2 = np.random.rand(V,N)\n",
        "    # b1  shape (N,1)\n",
        "    b1 = np.random.rand(N,1)\n",
        "    # b2  shape (V,1)\n",
        "    b2 = np.random.rand(V,1)\n",
        "\n",
        "    return W1, W2, b1, b2"
      ]
    },
    {
      "cell_type": "code",
      "execution_count": 14,
      "metadata": {
        "id": "BbqcMOpycrJv"
      },
      "outputs": [],
      "source": [
        "# Testear la función.\n",
        "temp_N = 4\n",
        "temp_V = 10\n",
        "W1_temp, W2_temp, b1_temp, b2_temp = initialize_model(temp_N,temp_V, random_seed=1)"
      ]
    },
    {
      "cell_type": "code",
      "source": [
        "W1_temp.shape, W2_temp.shape, b1_temp.shape, b2_temp.shape"
      ],
      "metadata": {
        "colab": {
          "base_uri": "https://localhost:8080/"
        },
        "id": "VfNkJQiLLzxD",
        "outputId": "0c38c73c-1a6a-49e8-ecae-c2e6a23eb300"
      },
      "execution_count": 16,
      "outputs": [
        {
          "output_type": "execute_result",
          "data": {
            "text/plain": [
              "((4, 10), (10, 4), (4, 1), (10, 1))"
            ]
          },
          "metadata": {},
          "execution_count": 16
        }
      ]
    },
    {
      "cell_type": "code",
      "source": [
        "W1_temp"
      ],
      "metadata": {
        "colab": {
          "base_uri": "https://localhost:8080/"
        },
        "id": "JwP5_GG7L-od",
        "outputId": "a626f889-67de-476d-b9b9-7b3a9519de41"
      },
      "execution_count": 17,
      "outputs": [
        {
          "output_type": "execute_result",
          "data": {
            "text/plain": [
              "array([[4.17022005e-01, 7.20324493e-01, 1.14374817e-04, 3.02332573e-01,\n",
              "        1.46755891e-01, 9.23385948e-02, 1.86260211e-01, 3.45560727e-01,\n",
              "        3.96767474e-01, 5.38816734e-01],\n",
              "       [4.19194514e-01, 6.85219500e-01, 2.04452250e-01, 8.78117436e-01,\n",
              "        2.73875932e-02, 6.70467510e-01, 4.17304802e-01, 5.58689828e-01,\n",
              "        1.40386939e-01, 1.98101489e-01],\n",
              "       [8.00744569e-01, 9.68261576e-01, 3.13424178e-01, 6.92322616e-01,\n",
              "        8.76389152e-01, 8.94606664e-01, 8.50442114e-02, 3.90547832e-02,\n",
              "        1.69830420e-01, 8.78142503e-01],\n",
              "       [9.83468338e-02, 4.21107625e-01, 9.57889530e-01, 5.33165285e-01,\n",
              "        6.91877114e-01, 3.15515631e-01, 6.86500928e-01, 8.34625672e-01,\n",
              "        1.82882773e-02, 7.50144315e-01]])"
            ]
          },
          "metadata": {},
          "execution_count": 17
        }
      ]
    },
    {
      "cell_type": "markdown",
      "metadata": {
        "id": "VCeGebILcrJv"
      },
      "source": [
        "<a name='2.1'></a>\n",
        "### 2.1 Softmax\n",
        "Antes de que podamos comenzar a entrenar el modelo, debemos implementar la función softmax como se define en la ecuación 5:  \n",
        "\n",
        "<br>\n",
        "$$ \\text{softmax}(z_i) = \\frac{e^{z_i} }{\\sum_{i=0}^{V-1} e^{z_i} }  \\tag{5} $$\n",
        "\n",
        "- La indexación de matrices en el código comienza en 0.\n",
        "- $V$ es el número de palabras en el vocabulario (que también es el número de filas de $z$).\n",
        "- $i$ va de 0 a |V| - 1.\n",
        "\n",
        "\n",
        "**Implemente la función softmax a continuación. **\n",
        "\n",
        "- Supongamos que la entrada $z$ a `softmax` es una matriz 2D\n",
        "- Cada ejemplo de entrenamiento está representado por una columna de forma (V, 1) en esta matriz 2D.\n",
        "- Puede haber más de una columna en la matriz 2D, porque puede incluir un lote de ejemplos para aumentar la eficiencia. Llamemos al tamaño del lote $m$ en minúsculas, por lo que la matriz $z$ tiene la forma (V, m)\n",
        "- Al tomar la suma de $i=1 \\cdots V-1$, toma la suma de cada columna (cada ejemplo) por separado.\n"
      ]
    },
    {
      "cell_type": "code",
      "execution_count": 18,
      "metadata": {
        "id": "7a95UwqPcrJw"
      },
      "outputs": [],
      "source": [
        "def softmax(z):\n",
        "    '''\n",
        "    Inputs:\n",
        "        z: output scores from the hidden layer\n",
        "    Outputs:\n",
        "        yhat: prediction (estimate of y)\n",
        "    '''\n",
        "    e_z = np.exp(z)\n",
        "    yhat = e_z/np.sum(e_z, axis=0)\n",
        "\n",
        "    return yhat"
      ]
    },
    {
      "cell_type": "code",
      "execution_count": 19,
      "metadata": {
        "id": "EW3eMX50crJw"
      },
      "outputs": [],
      "source": [
        "# Testear la función\n",
        "tmp = np.array([[1,2,3],\n",
        "                [1,1,1]])\n",
        "tmp_sm = softmax(tmp)"
      ]
    },
    {
      "cell_type": "code",
      "source": [
        "tmp_sm"
      ],
      "metadata": {
        "colab": {
          "base_uri": "https://localhost:8080/"
        },
        "id": "IZhvQz5AM9Gu",
        "outputId": "60f801c6-a33f-4aa2-f112-57a22be1a067"
      },
      "execution_count": 20,
      "outputs": [
        {
          "output_type": "execute_result",
          "data": {
            "text/plain": [
              "array([[0.5       , 0.73105858, 0.88079708],\n",
              "       [0.5       , 0.26894142, 0.11920292]])"
            ]
          },
          "metadata": {},
          "execution_count": 20
        }
      ]
    },
    {
      "cell_type": "markdown",
      "metadata": {
        "id": "fIaUdUclcrJw"
      },
      "source": [
        "<a name='2.2'></a>\n",
        "### Forward propagation\n",
        "\n",
        "Implemente la propagación directa $z$ según las ecuaciones (1) a (3). <br>\n",
        "\n",
        "\\begin{align}\n",
        " h &= W_1 \\  X + b_1  \\tag{1} \\\\\n",
        " a &= ReLU(h)  \\tag{2} \\\\\n",
        " z &= W_2 \\  a + b_2   \\tag{3} \\\\\n",
        "\\end{align}\n",
        "\n",
        "Para ello utilizarás como función de activación la ReLU dada por::\n",
        "\n",
        "$$f(h)=\\max (0,h) \\tag{6}$$"
      ]
    },
    {
      "cell_type": "code",
      "execution_count": 21,
      "metadata": {
        "id": "VOCUetsxcrJw"
      },
      "outputs": [],
      "source": [
        "def forward_prop(x, W1, W2, b1, b2):\n",
        "    '''\n",
        "    Inputs:\n",
        "        x:  average one hot vector for the context\n",
        "        W1, W2, b1, b2:  matrices and biases to be learned\n",
        "     Outputs:\n",
        "        z:  output score vector\n",
        "    '''\n",
        "    # Calcular h\n",
        "    h = np.dot(W1,x) + b1\n",
        "\n",
        "    #Aplicar la relu a h\n",
        "    h = np.maximum(0,h)\n",
        "\n",
        "    #Calcular z\n",
        "    z = np.dot(W2, h) + b2\n",
        "\n",
        "    return z, h"
      ]
    },
    {
      "cell_type": "code",
      "execution_count": 26,
      "metadata": {
        "id": "ubhvcvMTcrJw"
      },
      "outputs": [],
      "source": [
        "# Testear la función\n",
        "tmp_N = 2\n",
        "tmp_V = 3\n",
        "tmp_x = np.array([[0,1,0]]).T\n",
        "tmp_W1,tmp_W2,tmp_b1,tmp_b2 = initialize_model(N = tmp_N, V = tmp_V, random_seed=1)\n",
        "#Llamar a la funcion forward_propagation\n",
        "tmp_z, tmp_h = forward_prop(tmp_x, tmp_W1, tmp_W2, tmp_b1, tmp_b2)"
      ]
    },
    {
      "cell_type": "code",
      "source": [
        "tmp_z.shape, tmp_h.shape"
      ],
      "metadata": {
        "colab": {
          "base_uri": "https://localhost:8080/"
        },
        "id": "7z9fFEU3ORIU",
        "outputId": "2a7961d6-bd00-4efe-c168-2d208226ad49"
      },
      "execution_count": 27,
      "outputs": [
        {
          "output_type": "execute_result",
          "data": {
            "text/plain": [
              "((3, 1), (2, 1))"
            ]
          },
          "metadata": {},
          "execution_count": 27
        }
      ]
    },
    {
      "cell_type": "code",
      "source": [
        "tmp_z"
      ],
      "metadata": {
        "colab": {
          "base_uri": "https://localhost:8080/"
        },
        "id": "pXndIvR7ORKq",
        "outputId": "777db4de-7dbd-4375-8811-d6483e15cfaa"
      },
      "execution_count": 28,
      "outputs": [
        {
          "output_type": "execute_result",
          "data": {
            "text/plain": [
              "array([[0.55379268],\n",
              "       [1.58960774],\n",
              "       [1.50722933]])"
            ]
          },
          "metadata": {},
          "execution_count": 28
        }
      ]
    },
    {
      "cell_type": "code",
      "source": [
        "tmp_h"
      ],
      "metadata": {
        "colab": {
          "base_uri": "https://localhost:8080/"
        },
        "id": "Ud_InyvNOmz_",
        "outputId": "5c8fb61b-790d-4cc1-a5d8-a2df64071cc1"
      },
      "execution_count": 29,
      "outputs": [
        {
          "output_type": "execute_result",
          "data": {
            "text/plain": [
              "array([[0.92477674],\n",
              "       [1.02487333]])"
            ]
          },
          "metadata": {},
          "execution_count": 29
        }
      ]
    },
    {
      "cell_type": "markdown",
      "metadata": {
        "id": "1W31B670crJx"
      },
      "source": [
        "\n",
        "## Función de Costo\n"
      ]
    },
    {
      "cell_type": "code",
      "execution_count": 30,
      "metadata": {
        "id": "8zh9ldeBcrJx"
      },
      "outputs": [],
      "source": [
        "# cross-entropy cost functioN\n",
        "def compute_cost(y, yhat, batch_size):\n",
        "    # cost function\n",
        "    logprobs = np.multiply(np.log(yhat),y) + np.multiply(np.log(1 - yhat), 1 - y)\n",
        "    cost = - 1/batch_size * np.sum(logprobs)\n",
        "    cost = np.squeeze(cost)\n",
        "    return cost"
      ]
    },
    {
      "cell_type": "code",
      "execution_count": 31,
      "metadata": {
        "id": "LcsjmLtccrJx"
      },
      "outputs": [],
      "source": [
        "# Testear la función\n",
        "tmp_C = 2 #ventana para las palanbras de contexto\n",
        "tmp_N = 50\n",
        "tmp_batch_size=4\n",
        "tmp_word2ind, tmp_Ind2word = get_dict(data)\n",
        "tmp_V = len(tmp_word2ind)\n",
        "# Generacion de batches\n",
        "tmp_x, tmp_y = next(get_batches(data, tmp_word2ind, tmp_V, tmp_C, tmp_batch_size))\n",
        "\n"
      ]
    },
    {
      "cell_type": "code",
      "source": [
        "tmp_x.shape, tmp_y.shape"
      ],
      "metadata": {
        "colab": {
          "base_uri": "https://localhost:8080/"
        },
        "id": "IqHJAdT_QFER",
        "outputId": "0fe1b098-8591-412d-88a0-a36aaff38857"
      },
      "execution_count": 32,
      "outputs": [
        {
          "output_type": "execute_result",
          "data": {
            "text/plain": [
              "((5775, 4), (5775, 4))"
            ]
          },
          "metadata": {},
          "execution_count": 32
        }
      ]
    },
    {
      "cell_type": "code",
      "source": [
        "#Inicializar el modelo\n",
        "tmp_W1,tmp_W2,tmp_b1,tmp_b2 = initialize_model(N = tmp_N, V = tmp_V, random_seed=1)"
      ],
      "metadata": {
        "id": "jr9PPKKqQKXh"
      },
      "execution_count": 36,
      "outputs": []
    },
    {
      "cell_type": "code",
      "source": [
        "tmp_W1.shape, tmp_W2.shape, tmp_b1.shape, tmp_b2.shape"
      ],
      "metadata": {
        "colab": {
          "base_uri": "https://localhost:8080/"
        },
        "id": "Sgmc3F1dQSFq",
        "outputId": "788c5a52-bb58-4b11-9034-526c2bb9c908"
      },
      "execution_count": 35,
      "outputs": [
        {
          "output_type": "execute_result",
          "data": {
            "text/plain": [
              "((50, 5775), (5775, 50), (50, 1), (5775, 1))"
            ]
          },
          "metadata": {},
          "execution_count": 35
        }
      ]
    },
    {
      "cell_type": "code",
      "source": [
        "#Llama la funcion forward_prop\n",
        "tmp_z, tmp_h = forward_prop(tmp_x, tmp_W1, tmp_W2, tmp_b1, tmp_b2)"
      ],
      "metadata": {
        "id": "M4vDgHCPQSJF"
      },
      "execution_count": 37,
      "outputs": []
    },
    {
      "cell_type": "code",
      "source": [
        "tmp_z.shape, tmp_h.shape"
      ],
      "metadata": {
        "colab": {
          "base_uri": "https://localhost:8080/"
        },
        "id": "ojl99pvfQ1tT",
        "outputId": "5667fbe1-4270-4ec6-83c0-90aecb6991ec"
      },
      "execution_count": 38,
      "outputs": [
        {
          "output_type": "execute_result",
          "data": {
            "text/plain": [
              "((5775, 4), (50, 4))"
            ]
          },
          "metadata": {},
          "execution_count": 38
        }
      ]
    },
    {
      "cell_type": "code",
      "source": [
        "#oBTENIENDO LA SALIDA con softmax\n",
        "tmp_yhat = softmax(tmp_z)\n",
        "tmp_yhat"
      ],
      "metadata": {
        "colab": {
          "base_uri": "https://localhost:8080/"
        },
        "id": "GOE2IrFZQ7o0",
        "outputId": "565ae28d-04fd-441d-e674-1bf96674cbf5"
      },
      "execution_count": 39,
      "outputs": [
        {
          "output_type": "execute_result",
          "data": {
            "text/plain": [
              "array([[1.57362258e-04, 1.57362258e-04, 1.57362258e-04, 1.57362258e-04],\n",
              "       [3.02069033e-05, 3.02069033e-05, 3.02069033e-05, 3.02069033e-05],\n",
              "       [6.37370382e-05, 6.37370382e-05, 6.37370382e-05, 6.37370382e-05],\n",
              "       ...,\n",
              "       [1.61885109e-04, 1.61885109e-04, 1.61885109e-04, 1.61885109e-04],\n",
              "       [1.86710849e-05, 1.86710849e-05, 1.86710849e-05, 1.86710849e-05],\n",
              "       [6.17182995e-05, 6.17182995e-05, 6.17182995e-05, 6.17182995e-05]])"
            ]
          },
          "metadata": {},
          "execution_count": 39
        }
      ]
    },
    {
      "cell_type": "code",
      "source": [
        "tmp_yhat.shape\n"
      ],
      "metadata": {
        "colab": {
          "base_uri": "https://localhost:8080/"
        },
        "id": "DxqOKVJNREf4",
        "outputId": "9d7abc86-f336-4450-f41b-dbda936800f4"
      },
      "execution_count": 40,
      "outputs": [
        {
          "output_type": "execute_result",
          "data": {
            "text/plain": [
              "(5775, 4)"
            ]
          },
          "metadata": {},
          "execution_count": 40
        }
      ]
    },
    {
      "cell_type": "code",
      "source": [
        "#Obtener el valor de la función de costo\n",
        "tmp_cost = compute_cost(tmp_y, tmp_yhat, tmp_batch_size)\n",
        "tmp_cost"
      ],
      "metadata": {
        "colab": {
          "base_uri": "https://localhost:8080/"
        },
        "id": "oIn_UpmjRNLB",
        "outputId": "97f0cd99-5d98-439e-9926-6f3c3b8ee124"
      },
      "execution_count": 41,
      "outputs": [
        {
          "output_type": "execute_result",
          "data": {
            "text/plain": [
              "11.409481698203312"
            ]
          },
          "metadata": {},
          "execution_count": 41
        }
      ]
    },
    {
      "cell_type": "code",
      "source": [],
      "metadata": {
        "id": "tPtqdpxARXnA"
      },
      "execution_count": null,
      "outputs": []
    },
    {
      "cell_type": "markdown",
      "metadata": {
        "id": "fkAzo2tGcrJx"
      },
      "source": [
        "\n",
        "## Entrenar al modelo - Backpropagation\n",
        "\n",
        "Ahora que has entendido cómo funciona el modelo CBOW, lo entrenarás. <br>\n",
        "Creaste una función para la propagación hacia adelante. Ahora implementará una función que calcula los gradientes para propagar los errores hacia atrás."
      ]
    },
    {
      "cell_type": "code",
      "source": [
        "def relu(z):\n",
        "    result = z.copy()\n",
        "    result[result<0]=0\n",
        "    return result"
      ],
      "metadata": {
        "id": "3jh_OmGTg34n"
      },
      "execution_count": 42,
      "outputs": []
    },
    {
      "cell_type": "code",
      "source": [
        "l1=np.array([[0.52727857,  0.52727857,  0.52727857,  0.52727857],\n",
        " [-0.1259346,  -0.1259346,  -0.1259346 , -0.1259346 ],\n",
        " [ 0.39739328,  0.39739328,  0.39739328,  0.39739328],\n",
        " [-0.33644763, -0.33644763, -0.33644763, -0.33644763]])"
      ],
      "metadata": {
        "id": "qzN6_QE1hTYB"
      },
      "execution_count": 43,
      "outputs": []
    },
    {
      "cell_type": "code",
      "source": [
        "relu(np.array([-1,0,0.2,-0.3]))"
      ],
      "metadata": {
        "colab": {
          "base_uri": "https://localhost:8080/"
        },
        "id": "44EGxaV1RpTz",
        "outputId": "9796b052-d753-4a9d-ce8c-6ed5f2f42395"
      },
      "execution_count": 44,
      "outputs": [
        {
          "output_type": "execute_result",
          "data": {
            "text/plain": [
              "array([0. , 0. , 0.2, 0. ])"
            ]
          },
          "metadata": {},
          "execution_count": 44
        }
      ]
    },
    {
      "cell_type": "code",
      "source": [
        "np.apply_along_axis(relu, 0, l1)"
      ],
      "metadata": {
        "colab": {
          "base_uri": "https://localhost:8080/"
        },
        "id": "hs_c2SksR03g",
        "outputId": "c63aca2f-19b2-45cd-c3aa-9f2704f6f09c"
      },
      "execution_count": 45,
      "outputs": [
        {
          "output_type": "execute_result",
          "data": {
            "text/plain": [
              "array([[0.52727857, 0.52727857, 0.52727857, 0.52727857],\n",
              "       [0.        , 0.        , 0.        , 0.        ],\n",
              "       [0.39739328, 0.39739328, 0.39739328, 0.39739328],\n",
              "       [0.        , 0.        , 0.        , 0.        ]])"
            ]
          },
          "metadata": {},
          "execution_count": 45
        }
      ]
    },
    {
      "cell_type": "code",
      "execution_count": 47,
      "metadata": {
        "id": "oByUH6MCcrJx"
      },
      "outputs": [],
      "source": [
        "def back_prop(x, yhat, y, h, W1, W2, b1, b2, batch_size):\n",
        "    '''\n",
        "    Inputs:\n",
        "        x:  average one hot vector for the context\n",
        "        yhat: prediction (estimate of y)\n",
        "        y:  target vector\n",
        "        h:  hidden vector (see eq. 1)\n",
        "        W1, W2, b1, b2:  matrices and biases\n",
        "        batch_size: batch size\n",
        "     Outputs:\n",
        "        grad_W1, grad_W2, grad_b1, grad_b2:  gradients of matrices and biases\n",
        "    '''\n",
        "    l1 = np.dot(W2.T, (yhat-y))\n",
        "    #aplicar la función de activación relu\n",
        "    l1 = np.apply_along_axis(relu,0,l1)\n",
        "    #Calcular el gradiente de w1\n",
        "    grad_W1 = (1/batch_size)*np.dot(l1,x.T)\n",
        "    #Calcular el gradiente de w2\n",
        "    grad_W2 = (1/batch_size)*np.dot(yhat-y, h.T)\n",
        "    #Calcular el gradiente de b1\n",
        "    grad_b1 = np.sum((1/batch_size)*np.dot(l1,x.T), axis=1, keepdims=True)\n",
        "    #Calcular el gradiente de b2\n",
        "    grad_b2 = np.sum((1/batch_size)*np.dot(yhat-y,h.T), axis=1, keepdims=True)\n",
        "\n",
        "    return grad_W1, grad_W2, grad_b1, grad_b2\n"
      ]
    },
    {
      "cell_type": "code",
      "execution_count": 48,
      "metadata": {
        "id": "vBYdDSSzcrJy"
      },
      "outputs": [],
      "source": [
        "# Testear la función\n",
        "tmp_grad_W1, tmp_grad_W2, tmp_grad_b1, tmp_grad_b2 =back_prop(tmp_x, tmp_yhat, tmp_y, tmp_h,\n",
        "                                                              tmp_W1, tmp_W2, tmp_b1, tmp_b2, tmp_batch_size)"
      ]
    },
    {
      "cell_type": "code",
      "source": [
        "tmp_grad_W1.shape, tmp_grad_W2.shape, tmp_grad_b1.shape, tmp_grad_b2.shape"
      ],
      "metadata": {
        "colab": {
          "base_uri": "https://localhost:8080/"
        },
        "id": "M54RJC4nTom1",
        "outputId": "639457cb-54b3-4760-e630-28254cd24dc3"
      },
      "execution_count": 49,
      "outputs": [
        {
          "output_type": "execute_result",
          "data": {
            "text/plain": [
              "((50, 5775), (5775, 50), (50, 1), (5775, 1))"
            ]
          },
          "metadata": {},
          "execution_count": 49
        }
      ]
    },
    {
      "cell_type": "code",
      "source": [],
      "metadata": {
        "id": "DWm6GfhUTopf"
      },
      "execution_count": null,
      "outputs": []
    },
    {
      "cell_type": "markdown",
      "metadata": {
        "id": "J8nD0_vOcrJy"
      },
      "source": [
        "\n",
        "## Gradient Descent\n",
        "\n",
        "Ahora que ha implementado una función para calcular los gradientes, implementará el descenso de gradientes por **lotes** en su conjunto de entrenamiento.\n",
        "\n",
        "**Hint:** Para eso, usarás `initialize_model` y las funciones `back_prop` que acabas de crear (y la función `compute_cost`). También puedes utilizar la función auxiliar `get_batches` proporcionada:\n",
        "\n",
        "```for x, y in get_batches(data, word2Ind, V, C, batch_size):```\n",
        "\n",
        "```...```\n",
        "Además: imprima el costo después de procesar cada lote (use el tamaño de lote = 128)"
      ]
    },
    {
      "cell_type": "code",
      "execution_count": 52,
      "metadata": {
        "id": "O94VF0v4crJy"
      },
      "outputs": [],
      "source": [
        "\n",
        "def gradient_descent(data, word2Ind, N, V, num_iters, alpha=0.03):\n",
        "\n",
        "    '''\n",
        "    This is the gradient_descent function\n",
        "\n",
        "      Inputs:\n",
        "        data:      text\n",
        "        word2Ind:  words to Indices\n",
        "        N:         dimension of hidden vector\n",
        "        V:         dimension of vocabulary\n",
        "        num_iters: number of iterations\n",
        "     Outputs:\n",
        "        W1, W2, b1, b2:  updated matrices and biases\n",
        "\n",
        "    '''\n",
        "    W1,W2,b1,b2 = initialize_model(N,V, random_seed=282)\n",
        "    batch_size=128\n",
        "    iters=0\n",
        "    C=2\n",
        "\n",
        "    for x, y in get_batches(data, word2Ind, V, C, batch_size):\n",
        "      z, h = forward_prop(x, W1,W2, b1, b2)\n",
        "      yhat = softmax(z)\n",
        "      cost = compute_cost(y, yhat, batch_size)\n",
        "\n",
        "      if ((iters+1)%10 ==0):\n",
        "        print(f'iteraciones: {iters+1} costo: {cost:.6f}')\n",
        "\n",
        "      grad_W1, grad_W2, grad_b1, grad_b2 = back_prop(x, yhat, y, h, W1, W2, b1, b2, batch_size)\n",
        "\n",
        "      #Actualizar los pesos\n",
        "      W1-=alpha*grad_W1\n",
        "      W2-=alpha*grad_W2\n",
        "      b1-=alpha*grad_b1\n",
        "      b2-=alpha*grad_b2\n",
        "\n",
        "      iters+=1\n",
        "      if iters == num_iters:\n",
        "        break\n",
        "      if iters %100==0:\n",
        "        alpha *=0.66\n",
        "\n",
        "    return W1, W2, b1, b2"
      ]
    },
    {
      "cell_type": "code",
      "execution_count": 53,
      "metadata": {
        "colab": {
          "base_uri": "https://localhost:8080/"
        },
        "id": "KIhRMf1QcrJy",
        "outputId": "d202e0c5-cc81-4e71-f7cb-3d8a9b2abfdb"
      },
      "outputs": [
        {
          "output_type": "stream",
          "name": "stdout",
          "text": [
            "iteraciones: 10 costo: 0.106780\n",
            "iteraciones: 20 costo: 0.040070\n",
            "iteraciones: 30 costo: 0.024766\n",
            "iteraciones: 40 costo: 0.017940\n",
            "iteraciones: 50 costo: 0.014070\n",
            "iteraciones: 60 costo: 0.011577\n",
            "iteraciones: 70 costo: 0.009835\n",
            "iteraciones: 80 costo: 0.008550\n",
            "iteraciones: 90 costo: 0.007563\n",
            "iteraciones: 100 costo: 0.006780\n",
            "iteraciones: 110 costo: 0.006327\n",
            "iteraciones: 120 costo: 0.005948\n",
            "iteraciones: 130 costo: 0.005613\n",
            "iteraciones: 140 costo: 0.005313\n",
            "iteraciones: 150 costo: 0.005044\n"
          ]
        }
      ],
      "source": [
        "# testear la función\n",
        "C=2\n",
        "N=50\n",
        "word2Ind, Ind2word = get_dict(data)\n",
        "V= len(word2Ind)\n",
        "num_iters=150\n",
        "\n",
        "W1, W2, b1, b2 = gradient_descent(data, word2Ind, N, V, num_iters, alpha=0.03)"
      ]
    },
    {
      "cell_type": "markdown",
      "metadata": {
        "id": "clDrvXLncrJz"
      },
      "source": [
        "\n",
        "## Visualización de los vectores palabra\n",
        "En esta parte visualizarás los vectores de palabras entrenados usando la función que acabas de codificar arriba."
      ]
    },
    {
      "cell_type": "code",
      "execution_count": 54,
      "metadata": {
        "id": "9v8KSKUOcrJz"
      },
      "outputs": [],
      "source": [
        "# visualizar las palabras\n",
        "from matplotlib import pyplot as pyplot"
      ]
    },
    {
      "cell_type": "code",
      "execution_count": 55,
      "metadata": {
        "id": "snBc5kuNcrJz"
      },
      "outputs": [],
      "source": [
        "embs = (W1.T + W2)/2"
      ]
    },
    {
      "cell_type": "code",
      "source": [
        "words=['king', 'queen', 'lord', 'man']"
      ],
      "metadata": {
        "id": "JQcXpbwDWnjz"
      },
      "execution_count": 57,
      "outputs": []
    },
    {
      "cell_type": "code",
      "execution_count": 58,
      "metadata": {
        "id": "Jw0f6cmycrJz"
      },
      "outputs": [],
      "source": [
        "idx = [word2Ind[word] for word in words]"
      ]
    },
    {
      "cell_type": "code",
      "source": [
        "X = embs[idx, :]"
      ],
      "metadata": {
        "id": "C6t6AAgSh71g"
      },
      "execution_count": 59,
      "outputs": []
    },
    {
      "cell_type": "code",
      "source": [
        "X"
      ],
      "metadata": {
        "colab": {
          "base_uri": "https://localhost:8080/"
        },
        "id": "hWk3R9huWxVh",
        "outputId": "4bf7581c-9dfb-4a2e-f139-618e5876a3a4"
      },
      "execution_count": 60,
      "outputs": [
        {
          "output_type": "execute_result",
          "data": {
            "text/plain": [
              "array([[0.54521446, 0.41014684, 0.41737463, 0.29086396, 0.47370344,\n",
              "        0.38804025, 0.16611713, 0.0675407 , 0.54882368, 0.50095014,\n",
              "        0.30666447, 0.37014731, 0.81487152, 0.16622548, 0.52666188,\n",
              "        0.34889787, 0.31079976, 0.41048643, 0.41657351, 0.32937671,\n",
              "        0.34793808, 0.76784687, 0.62225475, 0.59038878, 0.50140923,\n",
              "        0.85203053, 0.37792251, 0.46264225, 0.73724502, 0.55377457,\n",
              "        0.47764351, 0.61771315, 0.26853993, 0.45079032, 0.22959347,\n",
              "        0.23329301, 0.2039222 , 0.14412412, 0.24056453, 0.42619437,\n",
              "        0.78883867, 0.86044288, 0.58462057, 0.34632325, 0.77916666,\n",
              "        0.1079032 , 0.78175782, 0.89290965, 0.28650022, 0.23362268],\n",
              "       [0.80354897, 0.83606993, 0.34871405, 0.42569186, 0.40437955,\n",
              "        0.40157391, 0.35057797, 0.68894489, 0.31512585, 0.67068405,\n",
              "        0.57703794, 0.35542856, 0.55043073, 0.37642296, 0.57522282,\n",
              "        0.50835822, 0.57720865, 0.91022614, 0.56313168, 0.40183679,\n",
              "        0.38102435, 0.44578884, 0.53772782, 0.28589748, 0.43355911,\n",
              "        0.68586084, 0.36305766, 0.29795473, 0.29105336, 0.39426085,\n",
              "        0.64814867, 0.36945931, 0.19055252, 0.66655414, 0.29060897,\n",
              "        0.25535786, 0.50333572, 0.54574857, 0.4297441 , 0.72968282,\n",
              "        0.62587871, 0.73039223, 0.31925374, 0.4420558 , 0.21717669,\n",
              "        0.12372643, 0.1662391 , 0.42762949, 0.26795272, 0.60358531],\n",
              "       [0.62220894, 0.66332284, 0.56062789, 0.42457686, 0.61633111,\n",
              "        0.57062288, 0.68078516, 0.2684386 , 0.7988562 , 0.46358382,\n",
              "        0.05721355, 0.43511434, 0.29951835, 0.36351598, 0.60630586,\n",
              "        0.56544809, 0.80422546, 0.7633221 , 0.56923228, 0.13532078,\n",
              "        0.58547828, 0.74730134, 0.2378421 , 0.25507261, 0.58268345,\n",
              "        0.5062159 , 0.37955869, 0.29127671, 0.93714082, 0.49747759,\n",
              "        0.56241589, 0.12075081, 0.42493765, 0.57116831, 0.33650552,\n",
              "        0.50650297, 0.48937681, 0.23138956, 0.58748894, 0.39117017,\n",
              "        0.72140687, 0.55163234, 0.7673472 , 0.44267687, 0.27028869,\n",
              "        0.53527003, 0.35437308, 0.54090183, 0.63662604, 0.33514198],\n",
              "       [0.48025458, 0.33562888, 0.44482423, 0.15582371, 0.45581505,\n",
              "        0.09701087, 0.37276069, 0.39751579, 0.73275938, 0.29836972,\n",
              "        0.88167254, 0.22076853, 0.26136999, 0.66225991, 0.7076547 ,\n",
              "        0.61094142, 0.46070805, 0.71279717, 0.20585959, 0.3037143 ,\n",
              "        0.38938841, 0.2864495 , 0.78607851, 0.47178566, 0.42787002,\n",
              "        0.75818356, 0.23405142, 0.30824015, 0.51590014, 0.73863783,\n",
              "        0.65134399, 0.53543429, 0.83355805, 0.48720855, 0.52673202,\n",
              "        0.33298392, 0.29326446, 0.58477456, 0.37546666, 0.26546852,\n",
              "        0.61648459, 0.66009735, 0.32576161, 0.42341835, 0.72375283,\n",
              "        0.70037067, 0.84931579, 0.79147124, 0.77621269, 0.67134729]])"
            ]
          },
          "metadata": {},
          "execution_count": 60
        }
      ]
    },
    {
      "cell_type": "code",
      "source": [
        "# Como visualizar los vectores\n"
      ],
      "metadata": {
        "id": "AH7cNIwcWx6T"
      },
      "execution_count": null,
      "outputs": []
    }
  ],
  "metadata": {
    "coursera": {
      "schema_names": [
        "NLPC2-4"
      ]
    },
    "kernelspec": {
      "display_name": "Python 3 (ipykernel)",
      "language": "python",
      "name": "python3"
    },
    "language_info": {
      "codemirror_mode": {
        "name": "ipython",
        "version": 3
      },
      "file_extension": ".py",
      "mimetype": "text/x-python",
      "name": "python",
      "nbconvert_exporter": "python",
      "pygments_lexer": "ipython3",
      "version": "3.8.8"
    },
    "colab": {
      "provenance": []
    }
  },
  "nbformat": 4,
  "nbformat_minor": 0
}