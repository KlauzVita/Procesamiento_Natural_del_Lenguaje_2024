{
 "cells": [
  {
   "cell_type": "markdown",
   "metadata": {},
   "source": [
    "<img style=\"float: left;;\" src='Figures/alinco.png' /></a>\n",
    "\n",
    "# Modulo III: Manipulación de Vectores"
   ]
  },
  {
   "cell_type": "markdown",
   "metadata": {},
   "source": [
    "## Transformación de Vectores\n",
    "\n",
    "Hay tres transformaciones vectoriales principales:\n",
    "* Escalado\n",
    "* Traslación\n",
    "* Rotación\n",
    "\n",
    "En clases pasadas hemos aplicado los dos primeros tipos de transformaciones. Ahora, aprendamos a utilizar una transformación fundamental en vectores llamada _rotación_.\n",
    "\n",
    "La operación de rotación cambia la dirección de un vector, sin afectar su dimensionalidad y su norma. \n"
   ]
  },
  {
   "cell_type": "code",
   "execution_count": null,
   "metadata": {},
   "outputs": [],
   "source": []
  },
  {
   "cell_type": "markdown",
   "metadata": {},
   "source": [
    "### Ejemplo1"
   ]
  },
  {
   "cell_type": "code",
   "execution_count": null,
   "metadata": {},
   "outputs": [],
   "source": []
  },
  {
   "cell_type": "code",
   "execution_count": null,
   "metadata": {},
   "outputs": [],
   "source": []
  },
  {
   "cell_type": "markdown",
   "metadata": {},
   "source": [
    "El producto escalar entre un vector y una matriz cuadrada produce una rotación y un escalamiento del vector original.\n",
    "\n",
    "Recuerde que para obtener el producto escalar en Python: np.dot(a, b):"
   ]
  },
  {
   "cell_type": "code",
   "execution_count": null,
   "metadata": {},
   "outputs": [],
   "source": []
  },
  {
   "cell_type": "markdown",
   "metadata": {},
   "source": [
    "Usaremos Pyplot para inspeccionar visualmente el efecto de la rotación en vectores 2D. Para eso, tenemos una función `plot_vectors()`. El código para esta función está dentro del archivo `utils_nb.py`.\n",
    "\n",
    "Ahora podemos trazar el vector $\\vec x = [1, 1]$ en un plano cartesiano. El plano cartesiano estará centrado en `[0,0]` y sus límites xey estarán entre `[-4, +4]`"
   ]
  },
  {
   "cell_type": "code",
   "execution_count": null,
   "metadata": {},
   "outputs": [],
   "source": []
  },
  {
   "cell_type": "markdown",
   "metadata": {},
   "source": [
    "Ahora, graficamos en el mismo sistema nuestro vector $\\vec x = [1, 1]$ y su producto escalar con la matriz\n",
    "\n",
    "$$Ro = \\begin{bmatrix} 2 & 0 \\\\ 0 & -2 \\end{bmatrix}$$\n",
    "\n",
    "$$y = x \\cdot Ro = [[-2, 2]]$$"
   ]
  },
  {
   "cell_type": "code",
   "execution_count": null,
   "metadata": {},
   "outputs": [],
   "source": []
  },
  {
   "cell_type": "markdown",
   "metadata": {},
   "source": [
    "Note que el vector de salida `y` (azul) se transforma en otro vector."
   ]
  },
  {
   "cell_type": "markdown",
   "metadata": {},
   "source": [
    "### Ejemplo 2\n",
    "\n",
    "Los datos que se componen de 2 atributos reales indican que pertenecen a un espacio $ RxR $ o $ R^2 $. Las matrices de rotación en $R^2$ rotan un vector dado $\\vec x$ en un ángulo en sentido antihorario $\\theta$ en un sistema de coordenadas fijo. Las matrices de rotación tienen la forma:\n",
    "\n",
    "$$Ro = \\begin{bmatrix} cos \\theta & -sin \\theta \\\\ sin \\theta & cos \\theta \\end{bmatrix}$$\n",
    "\n",
    "Las funciones trigonométricas en Numpy requieren el ángulo en radianes, no en grados. En la siguiente celda, definimos una matriz de rotación que rota los vectores $45^o$.\n"
   ]
  },
  {
   "cell_type": "code",
   "execution_count": null,
   "metadata": {},
   "outputs": [],
   "source": []
  },
  {
   "cell_type": "code",
   "execution_count": null,
   "metadata": {},
   "outputs": [],
   "source": []
  },
  {
   "cell_type": "markdown",
   "metadata": {},
   "source": [
    "Algunos puntos a tener en cuenta:\n",
    "\n",
    "* La norma del vector de entrada es la misma que la norma del vector de salida. Las matrices de rotaciones no modifican la norma del vector, sólo su dirección.\n",
    "* La norma de cualquier matriz de rotación $R^2$ es siempre $\\sqrt 2 = 1.414221$\n"
   ]
  },
  {
   "cell_type": "markdown",
   "metadata": {},
   "source": [
    "## Norma de Frobenius \n",
    "\n",
    "La norma de Frobenius es la generalización a $R^2$ de la función norma ya conocida para vectores.\n",
    "\n",
    "$$\\| \\vec a \\| = \\sqrt {{\\vec a} \\cdot {\\vec a}} $$\n",
    "\n",
    "Para una matriz A $R^2$ dada, la norma de frobenius se define como:\n",
    "\n",
    "$$\\|\\mathrm{A}\\|_{F} \\equiv \\sqrt{\\sum_{i=1}^{m} \\sum_{j=1}^{n}\\left|a_{i j}\\right|^{2}}$$\n"
   ]
  },
  {
   "cell_type": "code",
   "execution_count": null,
   "metadata": {},
   "outputs": [],
   "source": []
  },
  {
   "cell_type": "markdown",
   "metadata": {},
   "source": [
    "`np.square()` es una forma de elevar al cuadrado cada elemento de una matriz. Debe ser equivalente a utilizar el operador * en matrices Numpy."
   ]
  },
  {
   "cell_type": "code",
   "execution_count": null,
   "metadata": {},
   "outputs": [],
   "source": []
  },
  {
   "cell_type": "markdown",
   "metadata": {},
   "source": [
    "Ahora puedes sumar los elementos de la matriz resultante y luego obtener la raíz cuadrada de la suma."
   ]
  },
  {
   "cell_type": "code",
   "execution_count": null,
   "metadata": {},
   "outputs": [],
   "source": []
  },
  {
   "cell_type": "markdown",
   "metadata": {},
   "source": [
    "Esa era la versión extendida de la función `np.linalg.norm()`. Puedes comprobar que arroja el mismo resultado."
   ]
  },
  {
   "cell_type": "code",
   "execution_count": null,
   "metadata": {},
   "outputs": [],
   "source": []
  }
 ],
 "metadata": {
  "kernelspec": {
   "display_name": "Python 3 (ipykernel)",
   "language": "python",
   "name": "python3"
  },
  "language_info": {
   "codemirror_mode": {
    "name": "ipython",
    "version": 3
   },
   "file_extension": ".py",
   "mimetype": "text/x-python",
   "name": "python",
   "nbconvert_exporter": "python",
   "pygments_lexer": "ipython3",
   "version": "3.8.8"
  }
 },
 "nbformat": 4,
 "nbformat_minor": 2
}
