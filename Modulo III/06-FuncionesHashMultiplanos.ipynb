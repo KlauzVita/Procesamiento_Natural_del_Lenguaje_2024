{
 "cells": [
  {
   "cell_type": "markdown",
   "metadata": {},
   "source": [
    "<img style=\"float: left;;\" src='Figures/alinco.png' /></a>\n",
    "\n",
    "# Modulo III: Funciones Hash y Multiplanos"
   ]
  },
  {
   "cell_type": "markdown",
   "metadata": {},
   "source": [
    "En este cuaderno de jupyter vamos a estudiarlos conceptos más importantes relacionados con las funciones hash.\n",
    "\n",
    "Un punto clave para la búsqueda utilizando funciones hash es el cálculo de la clave hash o ID del bucket que asignamos para una entrada determinada. En este cuaderno, cubriremos:\n",
    "\n",
    "* Tablas hash básicas\n",
    "* Multiplanos\n",
    "* Planos aleatorios"
   ]
  },
  {
   "cell_type": "markdown",
   "metadata": {},
   "source": [
    "## Tablas Hash básicas \n",
    "\n",
    "Las tablas hash son estructuras de datos que permiten indexar datos para hacer que las tareas de búsqueda sean más eficientes.\n",
    "En esta parte, veremos la implementación de la función hash más simple."
   ]
  },
  {
   "cell_type": "code",
   "execution_count": null,
   "metadata": {},
   "outputs": [],
   "source": []
  },
  {
   "cell_type": "markdown",
   "metadata": {},
   "source": [
    "En la siguiente celda, definiremos una función hash sencilla para números enteros. La función recibirá una lista de números enteros y la cantidad deseada de buckets. La función producirá una tabla hash almacenada como un diccionario, donde las claves contienen las claves hash y los valores proporcionarán los elementos hash de la lista de entrada.\n",
    "\n",
    "La función hash es solo el resto de la división entera entre cada elemento y la cantidad deseada de depósitos."
   ]
  },
  {
   "cell_type": "code",
   "execution_count": null,
   "metadata": {},
   "outputs": [],
   "source": []
  },
  {
   "cell_type": "markdown",
   "metadata": {},
   "source": [
    "Ahora veamos la función hash en acción."
   ]
  },
  {
   "cell_type": "code",
   "execution_count": null,
   "metadata": {},
   "outputs": [],
   "source": []
  },
  {
   "cell_type": "markdown",
   "metadata": {},
   "source": [
    "En este caso, la clave del bucket debe ser el dígito más a la derecha de cada número."
   ]
  },
  {
   "cell_type": "markdown",
   "metadata": {},
   "source": [
    "## Planos\n",
    "\n",
    "Las funciones hash multiplano son otros tipos de funciones hash. Las funciones hash multiplano se basan en la idea de numerar cada región formada por la intersección de n planos. En el siguiente código, mostramos las formas más básicas del principio de multiplanos. Primero, con un solo plano:"
   ]
  },
  {
   "cell_type": "code",
   "execution_count": null,
   "metadata": {},
   "outputs": [],
   "source": [
    "\n"
   ]
  },
  {
   "cell_type": "markdown",
   "metadata": {},
   "source": [
    "Lo primero que hay que tener en cuenta es que el vector que define el plano no marca el límite entre los dos lados del plano. Marca la dirección en la que se encuentra el lado \"positivo\" del plano. \n",
    "\n",
    "Si queremos trazar el plano de separación, necesitamos trazar una línea que sea perpendicular a nuestro vector \"P\". Podemos obtener dicha línea usando una matriz de rotación de $90^o$.\n",
    "\n"
   ]
  },
  {
   "cell_type": "code",
   "execution_count": null,
   "metadata": {},
   "outputs": [],
   "source": [
    "\n"
   ]
  },
  {
   "cell_type": "code",
   "execution_count": null,
   "metadata": {},
   "outputs": [],
   "source": []
  },
  {
   "cell_type": "markdown",
   "metadata": {},
   "source": [
    "Crearemos una función que verifica en qué lado del plano P se encuentra el vector `v`"
   ]
  },
  {
   "cell_type": "code",
   "execution_count": null,
   "metadata": {},
   "outputs": [],
   "source": []
  },
  {
   "cell_type": "markdown",
   "metadata": {},
   "source": [
    "## Función hash con múltiples planos\n",
    "\n",
    "En la siguiente sección, definiremos una función hash con una lista de tres planos en 2D."
   ]
  },
  {
   "cell_type": "code",
   "execution_count": null,
   "metadata": {},
   "outputs": [],
   "source": []
  },
  {
   "cell_type": "markdown",
   "metadata": {},
   "source": [
    "Crearemos una función que obtenga un valor hash basado en un conjunto de planos. El valor de salida es una combinación del lado del plano donde se localiza el vector con respecto al conjunto de planos.\n",
    "\n",
    "Podemos pensar en esta lista de planos como un conjunto de funciones hash básicas, cada una de las cuales puede producir sólo 1 o 0 como salida."
   ]
  },
  {
   "cell_type": "code",
   "execution_count": null,
   "metadata": {},
   "outputs": [],
   "source": []
  },
  {
   "cell_type": "code",
   "execution_count": null,
   "metadata": {},
   "outputs": [],
   "source": []
  },
  {
   "cell_type": "markdown",
   "metadata": {},
   "source": [
    "## Planos Aleatorios\n",
    "\n",
    "Creamos un conjunto de 3 planos:"
   ]
  },
  {
   "cell_type": "code",
   "execution_count": null,
   "metadata": {},
   "outputs": [],
   "source": []
  },
  {
   "cell_type": "code",
   "execution_count": null,
   "metadata": {},
   "outputs": [],
   "source": []
  },
  {
   "cell_type": "markdown",
   "metadata": {},
   "source": [
    "Crearemos una función similar a `side_of_plane()`, pero ahora esta función evaluará más de un plano cada vez. El resultado es un arreglo con el lado del plano de `v`, para el conjunto de planos `P`"
   ]
  },
  {
   "cell_type": "code",
   "execution_count": null,
   "metadata": {},
   "outputs": [],
   "source": []
  },
  {
   "cell_type": "markdown",
   "metadata": {},
   "source": [
    "Obtenga el lado del plano del vector `[2, 2]` para el conjunto de planos aleatorios."
   ]
  },
  {
   "cell_type": "code",
   "execution_count": null,
   "metadata": {},
   "outputs": [],
   "source": []
  },
  {
   "cell_type": "markdown",
   "metadata": {},
   "source": [
    "Ahora, usemos la función anterior para definir nuestra función hash multiplano."
   ]
  },
  {
   "cell_type": "code",
   "execution_count": null,
   "metadata": {},
   "outputs": [],
   "source": []
  },
  {
   "cell_type": "code",
   "execution_count": null,
   "metadata": {},
   "outputs": [],
   "source": []
  },
  {
   "cell_type": "markdown",
   "metadata": {},
   "source": [
    "## Vectores Documento\n",
    "\n",
    "Recordemos que podemos representar un documento como un vector sumando los vectores de palabras de las palabras dentro del documento. En este ejemplo, nuestros vectores embedings contienen solo tres palabras, cada una representada por una matriz 3D."
   ]
  },
  {
   "cell_type": "code",
   "execution_count": null,
   "metadata": {},
   "outputs": [],
   "source": []
  }
 ],
 "metadata": {
  "kernelspec": {
   "display_name": "Python 3 (ipykernel)",
   "language": "python",
   "name": "python3"
  },
  "language_info": {
   "codemirror_mode": {
    "name": "ipython",
    "version": 3
   },
   "file_extension": ".py",
   "mimetype": "text/x-python",
   "name": "python",
   "nbconvert_exporter": "python",
   "pygments_lexer": "ipython3",
   "version": "3.8.8"
  }
 },
 "nbformat": 4,
 "nbformat_minor": 2
}
