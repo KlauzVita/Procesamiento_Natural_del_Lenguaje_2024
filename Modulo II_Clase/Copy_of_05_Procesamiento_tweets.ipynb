{
  "cells": [
    {
      "cell_type": "markdown",
      "metadata": {
        "id": "JXEdsp0Apz2y"
      },
      "source": [
        "<img style=\"float: left;;\" src='https://github.com/gdesirena/Procesamiento_Natural_del_Lenguaje_2024/blob/main/Modulo%20II/Figures/alinco.png?raw=1' /></a>\n",
        "\n",
        "# Modulo I: Preprocesamiento de Tweets para el Análisis de Sentimientos"
      ]
    },
    {
      "cell_type": "markdown",
      "metadata": {
        "id": "JaP5LXLTpz21"
      },
      "source": [
        "## Configuración\n",
        "\n",
        "Realizaremos un análisis de sentimientos de tweets usando el paquete [Kit de herramientas de lenguaje natural (NLTK)](http://www.nltk.org/howto/twitter.html), una biblioteca Python de código abierto para el procesamiento del lenguaje natural.\n",
        "\n",
        "Para este ejercicio, usaremos un conjunto de datos de Twitter que vienen con NLTK. Este conjunto de datos se ha anotado manualmente y sirve como base para desarrollar algunos modelos rápidamente. Vamos a importarlos ahora, así como algunas otras bibliotecas que usaremos."
      ]
    },
    {
      "cell_type": "code",
      "execution_count": null,
      "metadata": {
        "id": "tWtdwJ35pz22"
      },
      "outputs": [],
      "source": [
        "# librería para NLP\n",
        "import nltk\n",
        "# Ejemplo de conjunto de datos de Twitter de NLTK\n",
        "from nltk.corpus import twitter_samples\n",
        "# biblioteca para visualización\n",
        "import matplotlib.pyplot as plt\n",
        "# generador de números pseudoaleatorios\n",
        "import random\n"
      ]
    },
    {
      "cell_type": "markdown",
      "metadata": {
        "id": "ErR04Ss7pz22"
      },
      "source": [
        "## Acerca del conjunto de datos de Twitter\n",
        "\n",
        "El conjunto de datos de muestra de NLTK se divide en tweets positivos y negativos. Contiene 5000 tweets positivos y 5000 tweets negativos exactamente. La intención es tener un conjunto de datos equilibrado. Eso no refleja las distribuciones reales de clases positivas y negativas en la base de datos que tiene Twitter. Es solo porque los conjuntos de datos equilibrados simplifican el diseño de la mayoría de los métodos computacionales que se requieren para el análisis de sentimientos.\n",
        "\n",
        "Para descargar los datos hay que hacer lo siguiente:"
      ]
    },
    {
      "cell_type": "code",
      "execution_count": null,
      "metadata": {
        "id": "jeQYAgTgpz23",
        "outputId": "f706442a-99a9-481d-8bf8-bb5c8b8506a8",
        "colab": {
          "base_uri": "https://localhost:8080/"
        }
      },
      "outputs": [
        {
          "output_type": "stream",
          "name": "stderr",
          "text": [
            "[nltk_data] Downloading package twitter_samples to /root/nltk_data...\n",
            "[nltk_data]   Unzipping corpora/twitter_samples.zip.\n"
          ]
        },
        {
          "output_type": "execute_result",
          "data": {
            "text/plain": [
              "True"
            ]
          },
          "metadata": {},
          "execution_count": 4
        }
      ],
      "source": [
        "nltk.download('twitter_samples')"
      ]
    },
    {
      "cell_type": "markdown",
      "metadata": {
        "id": "VJsYAR6Cpz23"
      },
      "source": [
        "Podemos cargar los campos de texto de los tweets positivos y negativos usando el método `strings ()` del módulo como este:"
      ]
    },
    {
      "cell_type": "code",
      "execution_count": null,
      "metadata": {
        "id": "PtFj63Xgpz23"
      },
      "outputs": [],
      "source": [
        "# seleccione el conjunto de tweets positivos y negativos\n",
        "all_positive_tweets = twitter_samples.strings('positive_tweets.json')\n",
        "all_negative_tweets = twitter_samples.strings('negative_tweets.json')"
      ]
    },
    {
      "cell_type": "markdown",
      "metadata": {
        "id": "__pcjdwtpz24"
      },
      "source": [
        "A continuación, imprimiremos un informe con la cantidad de tweets positivos y negativos. También es fundamental conocer la estructura de datos de los conjuntos de datos"
      ]
    },
    {
      "cell_type": "code",
      "execution_count": null,
      "metadata": {
        "id": "f_x7Irxvpz24",
        "outputId": "de223777-7794-482a-8ef5-4a0cbcf17eda",
        "colab": {
          "base_uri": "https://localhost:8080/"
        }
      },
      "outputs": [
        {
          "output_type": "stream",
          "name": "stdout",
          "text": [
            "Número de tweets positivos 5000\n",
            "Número de tweets negativos 5000\n"
          ]
        }
      ],
      "source": [
        "print('Número de tweets positivos', len(all_positive_tweets))\n",
        "print('Número de tweets negativos', len(all_negative_tweets))"
      ]
    },
    {
      "cell_type": "code",
      "source": [
        "type(all_positive_tweets)"
      ],
      "metadata": {
        "id": "yv5s0rM_rDGQ",
        "outputId": "771198d1-0ac4-46b4-9aff-e0449afbd816",
        "colab": {
          "base_uri": "https://localhost:8080/"
        }
      },
      "execution_count": null,
      "outputs": [
        {
          "output_type": "execute_result",
          "data": {
            "text/plain": [
              "list"
            ]
          },
          "metadata": {},
          "execution_count": 7
        }
      ]
    },
    {
      "cell_type": "code",
      "source": [
        "type(all_positive_tweets[4])"
      ],
      "metadata": {
        "id": "o5uyP0_erJPn",
        "outputId": "d26a9833-464f-46cc-a4ed-667eaaaa5543",
        "colab": {
          "base_uri": "https://localhost:8080/"
        }
      },
      "execution_count": null,
      "outputs": [
        {
          "output_type": "execute_result",
          "data": {
            "text/plain": [
              "str"
            ]
          },
          "metadata": {},
          "execution_count": 10
        }
      ]
    },
    {
      "cell_type": "code",
      "source": [
        "all_negative_tweets[8]"
      ],
      "metadata": {
        "id": "muE08PBZrJRr",
        "outputId": "c8eab480-c3c7-4054-c935-177b60dad15a",
        "colab": {
          "base_uri": "https://localhost:8080/",
          "height": 35
        }
      },
      "execution_count": null,
      "outputs": [
        {
          "output_type": "execute_result",
          "data": {
            "text/plain": [
              "'why?:(\"@tahuodyy: sialan:( https://t.co/Hv1i0xcrL2\"'"
            ],
            "application/vnd.google.colaboratory.intrinsic+json": {
              "type": "string"
            }
          },
          "metadata": {},
          "execution_count": 12
        }
      ]
    },
    {
      "cell_type": "markdown",
      "metadata": {
        "id": "Z3lRgcNlpz24"
      },
      "source": [
        "\n",
        "Podemos ver que los datos se almacenan en una lista y, como era de esperar, los tweets individuales se almacenan como cadenas.\n",
        "\n",
        "se puede hacer un reporte gráfico tilizando la librería [pyplot](https://matplotlib.org/tutorials/introductory/pyplot.html) de Matplotlib . Veamos cómo crear un gráfico circular para mostrar la misma información que la anterior."
      ]
    },
    {
      "cell_type": "code",
      "execution_count": null,
      "metadata": {
        "id": "j4H6cWUlpz24",
        "outputId": "4e479ffa-cc99-4985-e520-2cab39bb2c69",
        "colab": {
          "base_uri": "https://localhost:8080/",
          "height": 422
        }
      },
      "outputs": [
        {
          "output_type": "display_data",
          "data": {
            "text/plain": [
              "<Figure size 500x500 with 1 Axes>"
            ],
            "image/png": "[encoded data removed]"
          },
          "metadata": {}
        }
      ],
      "source": [
        "fig= plt.figure(figsize=(5,5))\n",
        "labels='positives', 'negatives'\n",
        "sizes=[len(all_positive_tweets), len(all_negative_tweets)]\n",
        "\n",
        "plt.pie(sizes, labels= labels, autopct = '%1.1f%%',shadow=True)\n",
        "plt.show()"
      ]
    },
    {
      "cell_type": "markdown",
      "metadata": {
        "id": "yUFSUBwnpz24"
      },
      "source": [
        "## Exploración de los textos\n",
        "\n",
        "Antes que nada, podemos imprimir un par de tweets del conjunto de datos para ver cómo se ven. Comprender los datos nos da el 80% del éxito o fracaso en los proyectos de ineligencia artificial. Podemos utilizar este tiempo para observar aspectos que nos gustaría considerar al preprocesar nuestros datos.\n",
        "\n",
        "A continuación, imprimiremos un tweet positivo aleatorio y un tweet negativo aleatorio."
      ]
    },
    {
      "cell_type": "code",
      "execution_count": null,
      "metadata": {
        "id": "SChNP0tlpz25",
        "outputId": "f9f96575-0328-4d3f-a650-8c0ff81c59a6",
        "colab": {
          "base_uri": "https://localhost:8080/"
        }
      },
      "outputs": [
        {
          "output_type": "stream",
          "name": "stdout",
          "text": [
            "\u001b[92mFriday!:) http://t.co/HUoq4txhmb\n",
            "\u001b[91mAnnnd, now not going to Winchester {:-(\n"
          ]
        }
      ],
      "source": [
        "# imprimir positivo en verde\n",
        "\n",
        "print('\\033[92m'+all_positive_tweets[random.randint(0,5000)])\n",
        "# imprimir positivo en rojo\n",
        "print('\\033[91m'+all_negative_tweets[random.randint(0,5000)])"
      ]
    },
    {
      "cell_type": "markdown",
      "metadata": {
        "id": "orJS-4Ywpz25"
      },
      "source": [
        "Una observación que puede tener es la presencia de [emoticones] (https://en.wikipedia.org/wiki/Emoticon) y URL en muchos de los tweets. Esta información será útil en los próximos pasos."
      ]
    },
    {
      "cell_type": "markdown",
      "metadata": {
        "id": "DVKeQyGZpz25"
      },
      "source": [
        "## Procesar previamente el texto para el análisis de sentimientos"
      ]
    },
    {
      "cell_type": "markdown",
      "metadata": {
        "id": "pVFa0jJipz25"
      },
      "source": [
        "El preprocesamiento de datos es uno de los pasos críticos en cualquier proyecto de aprendizaje automático. Incluye limpiar y formatear los datos antes de introducirlos en un algoritmo de aprendizaje automático. Para NLP, los pasos de preprocesamiento se componen de las siguientes tareas:\n",
        "\n",
        "* Tokenizando la cadena\n",
        "* Minúsculas\n",
        "* Eliminación de stopwords\n",
        "* Stemming,lematización\n",
        "\n"
      ]
    },
    {
      "cell_type": "code",
      "execution_count": null,
      "metadata": {
        "id": "vJykJLgipz25"
      },
      "outputs": [],
      "source": [
        "\n"
      ]
    },
    {
      "cell_type": "code",
      "execution_count": null,
      "metadata": {
        "id": "5ESYfBbxpz26",
        "outputId": "68dde88e-12a9-4c0e-afe8-64886d074cee",
        "colab": {
          "base_uri": "https://localhost:8080/"
        }
      },
      "outputs": [
        {
          "output_type": "stream",
          "name": "stderr",
          "text": [
            "[nltk_data] Downloading package stopwords to /root/nltk_data...\n",
            "[nltk_data]   Unzipping corpora/stopwords.zip.\n"
          ]
        },
        {
          "output_type": "execute_result",
          "data": {
            "text/plain": [
              "True"
            ]
          },
          "metadata": {},
          "execution_count": 17
        }
      ],
      "source": [
        "# descargamos los stopwords de NLTK\n",
        "nltk.download('stopwords')"
      ]
    },
    {
      "cell_type": "code",
      "execution_count": null,
      "metadata": {
        "id": "9nSmt7twpz26"
      },
      "outputs": [],
      "source": [
        "import re # biblioteca para operaciones de expresiones regulares\n",
        "import string # Operaciones con strings\n",
        "\n",
        "from nltk.corpus import stopwords # módulo para palabras vacías que vienen con NLTK\n",
        "from nltk.stem import PorterStemmer # módulo para stemming\n",
        "from nltk.tokenize import TweetTokenizer # módulo para tokenizar cadenas"
      ]
    },
    {
      "cell_type": "markdown",
      "metadata": {
        "id": "qYCxtQ_lpz26"
      },
      "source": [
        "### Eliminar hipervínculos, marcas y estilos de Twitter\n",
        "\n",
        "Dado que tenemos un conjunto de datos de Twitter, nos gustaría eliminar algunas subcadenas de uso común en la plataforma, como el hashtag, las marcas de retweet y los hipervínculos. Usaremos la biblioteca [re](https://docs.python.org/3/library/re.html) para realizar operaciones de expresión regular en nuestro tweet. Definiremos nuestro patrón de búsqueda y usaremos el método `sub ()` para eliminar coincidencias sustituyéndolo con un carácter vacío (es decir, `` '' ``)"
      ]
    },
    {
      "cell_type": "code",
      "execution_count": null,
      "metadata": {
        "id": "8tlEJkNYpz26",
        "outputId": "16b8cab5-241b-42cf-efd0-3b951d9839a8",
        "colab": {
          "base_uri": "https://localhost:8080/"
        }
      },
      "outputs": [
        {
          "output_type": "stream",
          "name": "stdout",
          "text": [
            "\u001b[92mMy beautiful sunflowers on a sunny Friday morning off :) #sunflowers #favourites #happy #Friday off… https://t.co/3tfYom0N1i\n"
          ]
        }
      ],
      "source": [
        "tweet = all_positive_tweets[2277]\n",
        "print('\\033[92m'+tweet)"
      ]
    },
    {
      "cell_type": "code",
      "source": [
        "#remover los estilos de retweet \"RT\"\n",
        "tweet2 = re.sub(r'^RT[\\s]+', '', tweet)\n",
        "#remover  los hypervínculos\n",
        "tweet2 = re.sub(r'https?:\\/\\/.*[\\r\\n]*', '', tweet2)\n",
        "#remover hashtags\n",
        "tweet2 = re.sub(r'#', \"\", tweet2)\n",
        "\n",
        "print('\\033[94m'+tweet2)"
      ],
      "metadata": {
        "id": "zDRtmVouurkj",
        "outputId": "11d982b4-1f6d-4be5-82af-340a02176d5e",
        "colab": {
          "base_uri": "https://localhost:8080/"
        }
      },
      "execution_count": null,
      "outputs": [
        {
          "output_type": "stream",
          "name": "stdout",
          "text": [
            "\u001b[94mMy beautiful sunflowers on a sunny Friday morning off :) sunflowers favourites happy Friday off… \n"
          ]
        }
      ]
    },
    {
      "cell_type": "code",
      "source": [],
      "metadata": {
        "id": "UUhxiAQdurpz"
      },
      "execution_count": null,
      "outputs": []
    },
    {
      "cell_type": "markdown",
      "metadata": {
        "id": "TGYR7kjLpz26"
      },
      "source": [
        "### Tokenizar la cadena\n",
        "\n",
        "Tokenizar significa dividir las cadenas en palabras individuales sin espacios en blanco ni tabulaciones. En este mismo paso, también convertiremos cada palabra de la cadena a minúsculas. El módulo [tokenize](https://www.nltk.org/api/nltk.tokenize.html#module-nltk.tokenize.casual) de NLTK nos permite hacer esto fácilmente:"
      ]
    },
    {
      "cell_type": "code",
      "execution_count": null,
      "metadata": {
        "id": "LksRg6Ikpz27",
        "outputId": "f2921ca4-dc67-417a-8b9f-289d4fcd327d",
        "colab": {
          "base_uri": "https://localhost:8080/"
        }
      },
      "outputs": [
        {
          "output_type": "stream",
          "name": "stdout",
          "text": [
            "Tweet tokenizado\n",
            "['my', 'beautiful', 'sunflowers', 'on', 'a', 'sunny', 'friday', 'morning', 'off', ':)', 'sunflowers', 'favourites', 'happy', 'friday', 'off', '…']\n"
          ]
        }
      ],
      "source": [
        "#instanciar la clase tokenizer\n",
        "tokenizer = TweetTokenizer(preserve_case=False, strip_handles=True, reduce_len=True)\n",
        "\n",
        "tweet_tokens = tokenizer.tokenize(tweet2)\n",
        "\n",
        "print('Tweet tokenizado')\n",
        "print(tweet_tokens)"
      ]
    },
    {
      "cell_type": "markdown",
      "metadata": {
        "id": "vSisDuPXpz27"
      },
      "source": [
        "### Remover stopwords y signos de puntuación\n",
        "\n",
        "El siguiente paso es eliminar los stopwords y signos de puntuación."
      ]
    },
    {
      "cell_type": "code",
      "execution_count": null,
      "metadata": {
        "id": "rTZrqlyipz27",
        "outputId": "de48508c-09d4-4a70-9544-288fd8c9a459",
        "colab": {
          "base_uri": "https://localhost:8080/"
        }
      },
      "outputs": [
        {
          "output_type": "stream",
          "name": "stdout",
          "text": [
            "['i', 'me', 'my', 'myself', 'we', 'our', 'ours', 'ourselves', 'you', \"you're\", \"you've\", \"you'll\", \"you'd\", 'your', 'yours', 'yourself', 'yourselves', 'he', 'him', 'his', 'himself', 'she', \"she's\", 'her', 'hers', 'herself', 'it', \"it's\", 'its', 'itself', 'they', 'them', 'their', 'theirs', 'themselves', 'what', 'which', 'who', 'whom', 'this', 'that', \"that'll\", 'these', 'those', 'am', 'is', 'are', 'was', 'were', 'be', 'been', 'being', 'have', 'has', 'had', 'having', 'do', 'does', 'did', 'doing', 'a', 'an', 'the', 'and', 'but', 'if', 'or', 'because', 'as', 'until', 'while', 'of', 'at', 'by', 'for', 'with', 'about', 'against', 'between', 'into', 'through', 'during', 'before', 'after', 'above', 'below', 'to', 'from', 'up', 'down', 'in', 'out', 'on', 'off', 'over', 'under', 'again', 'further', 'then', 'once', 'here', 'there', 'when', 'where', 'why', 'how', 'all', 'any', 'both', 'each', 'few', 'more', 'most', 'other', 'some', 'such', 'no', 'nor', 'not', 'only', 'own', 'same', 'so', 'than', 'too', 'very', 's', 't', 'can', 'will', 'just', 'don', \"don't\", 'should', \"should've\", 'now', 'd', 'll', 'm', 'o', 're', 've', 'y', 'ain', 'aren', \"aren't\", 'couldn', \"couldn't\", 'didn', \"didn't\", 'doesn', \"doesn't\", 'hadn', \"hadn't\", 'hasn', \"hasn't\", 'haven', \"haven't\", 'isn', \"isn't\", 'ma', 'mightn', \"mightn't\", 'mustn', \"mustn't\", 'needn', \"needn't\", 'shan', \"shan't\", 'shouldn', \"shouldn't\", 'wasn', \"wasn't\", 'weren', \"weren't\", 'won', \"won't\", 'wouldn', \"wouldn't\"]\n"
          ]
        }
      ],
      "source": [
        "stopwords_eng = stopwords.words('english')\n",
        "print(stopwords_eng)"
      ]
    },
    {
      "cell_type": "code",
      "source": [
        "print(string.punctuation)"
      ],
      "metadata": {
        "id": "eC7KaF-fwtMy",
        "outputId": "0e521e76-e72c-40d2-f02d-3210b2f20a27",
        "colab": {
          "base_uri": "https://localhost:8080/"
        }
      },
      "execution_count": null,
      "outputs": [
        {
          "output_type": "stream",
          "name": "stdout",
          "text": [
            "!\"#$%&'()*+,-./:;<=>?@[\\]^_`{|}~\n"
          ]
        }
      ]
    },
    {
      "cell_type": "markdown",
      "metadata": {
        "id": "gVoXRQkmpz27"
      },
      "source": [
        "\n",
        "Es hora de limpiar nuestro tweet tokenizado!"
      ]
    },
    {
      "cell_type": "code",
      "execution_count": null,
      "metadata": {
        "id": "1NikHPinpz27",
        "outputId": "c3035a75-36bc-4af4-dc69-dae8b0e68dcc",
        "colab": {
          "base_uri": "https://localhost:8080/"
        }
      },
      "outputs": [
        {
          "output_type": "stream",
          "name": "stdout",
          "text": [
            "['my', 'beautiful', 'sunflowers', 'on', 'a', 'sunny', 'friday', 'morning', 'off', ':)', 'sunflowers', 'favourites', 'happy', 'friday', 'off', '…']\n",
            "['beautiful', 'sunflowers', 'sunny', 'friday', 'morning', ':)', 'sunflowers', 'favourites', 'happy', 'friday', '…']\n"
          ]
        }
      ],
      "source": [
        "print(tweet_tokens)\n",
        "tweets_clean = []\n",
        "for word in tweet_tokens:\n",
        "  if (word not in stopwords_eng) and (word not in string.punctuation):\n",
        "    tweets_clean.append(word)\n",
        "\n",
        "print(tweets_clean)"
      ]
    },
    {
      "cell_type": "markdown",
      "metadata": {
        "id": "Aq_37PJspz27"
      },
      "source": [
        "\n",
        "Tenga en cuenta que las palabras **happy** y **sunny** en esta lista están escritas correctamente."
      ]
    },
    {
      "cell_type": "markdown",
      "metadata": {
        "id": "ZzjfMUg3pz27"
      },
      "source": [
        "### Stemming\n",
        "\n",
        "es el proceso de convertir una palabra a su forma más general, o raíz. Esto ayuda a reducir el tamaño de nuestro vocabulario.\n",
        "\n",
        "Considerando las siguientes palabras:\n",
        " * **learn**\n",
        " * **learn**ing\n",
        " * **learn**ed\n",
        " * **learn**t\n",
        "\n",
        "Todas estas palabras se derivan de su raíz común **aprender**. Sin embargo, en algunos casos, el proceso de derivación produce palabras que no tienen la ortografía correcta de la palabra raíz. Por ejemplo, **happi** y **sunni**. Por ejemplo, podemos observar el conjunto de palabras que componen las diferentes formas de `happy`:\n",
        "\n",
        " * **happ**y\n",
        " * **happi**ness\n",
        " * **happi**er\n",
        "\n",
        "Podemos ver que el prefijo **happi** se usa más comúnmente. No podemos elegir **happ** porque es la raíz de palabras no relacionadas como **happen**.\n",
        "\n",
        "\n",
        "NLTK tiene diferentes módulos para derivar y usaremos el módulo [PorterStemmer](https://www.nltk.org/api/nltk.stem.html#module-nltk.stem.porter)  que implementa el algoritmo [Porter Stemming Algorithm](https://tartarus.org/martin/PorterStemmer/)."
      ]
    },
    {
      "cell_type": "code",
      "execution_count": null,
      "metadata": {
        "id": "2eRMpfsUpz28",
        "outputId": "9bf6e1be-4948-4038-abca-252c033d6fda",
        "colab": {
          "base_uri": "https://localhost:8080/"
        }
      },
      "outputs": [
        {
          "output_type": "stream",
          "name": "stdout",
          "text": [
            "['beauti', 'sunflow', 'sunni', 'friday', 'morn', ':)', 'sunflow', 'favourit', 'happi', 'friday', '…']\n"
          ]
        }
      ],
      "source": [
        "stemmer = PorterStemmer()\n",
        "\n",
        "tweets_stem = []\n",
        "\n",
        "for word in tweets_clean:\n",
        "  stem_word = stemmer.stem(word) #haciendo el stemming de la palabra\n",
        "  tweets_stem.append(stem_word)\n",
        "\n",
        "print(tweets_stem)"
      ]
    },
    {
      "cell_type": "markdown",
      "metadata": {
        "id": "NuYK1Q7upz28"
      },
      "source": [
        "Ahora tenemos un conjunto de palabras que podemos incorporar a la siguiente etapa de nuestro proyecto de aprendizaje automático."
      ]
    },
    {
      "cell_type": "markdown",
      "metadata": {
        "id": "SOj3yNAmpz28"
      },
      "source": [
        "## process_tweet()\n",
        "\n",
        "Como se muestra arriba, el preprocesamiento consta de varios pasos antes de llegar a la lista final de palabras. Sin embargo, podemos  utilizar la función `process_tweet (tweet)` disponible en _utils.py_.\n",
        "\n",
        "Para obtener el mismo resultado que en las celdas de código anteriores, solo necesitará llamar a la función `process_tweet ()`. Hagámoslo en la siguiente celda."
      ]
    },
    {
      "cell_type": "code",
      "execution_count": null,
      "metadata": {
        "id": "zuOTApdUpz28"
      },
      "outputs": [],
      "source": []
    },
    {
      "cell_type": "code",
      "execution_count": null,
      "metadata": {
        "id": "s_GNCop1pz28"
      },
      "outputs": [],
      "source": []
    }
  ],
  "metadata": {
    "kernelspec": {
      "display_name": "Python 3 (ipykernel)",
      "language": "python",
      "name": "python3"
    },
    "language_info": {
      "codemirror_mode": {
        "name": "ipython",
        "version": 3
      },
      "file_extension": ".py",
      "mimetype": "text/x-python",
      "name": "python",
      "nbconvert_exporter": "python",
      "pygments_lexer": "ipython3",
      "version": "3.8.8"
    },
    "colab": {
      "provenance": []
    }
  },
  "nbformat": 4,
  "nbformat_minor": 0
}