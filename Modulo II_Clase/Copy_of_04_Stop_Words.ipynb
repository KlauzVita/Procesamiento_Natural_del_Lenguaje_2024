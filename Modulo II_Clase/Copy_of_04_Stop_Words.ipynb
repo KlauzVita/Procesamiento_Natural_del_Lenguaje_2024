{
  "cells": [
    {
      "cell_type": "markdown",
      "metadata": {
        "id": "zbDBDh4Am7sL"
      },
      "source": [
        "<img style=\"float: left;;\" src='https://github.com/gdesirena/Procesamiento_Natural_del_Lenguaje_2024/blob/main/Modulo%20II/Figures/alinco.png?raw=1' /></a>\n",
        "\n",
        "# Modulo I: Stopwords"
      ]
    },
    {
      "cell_type": "markdown",
      "metadata": {
        "id": "qtzaQJ_4m7sN"
      },
      "source": [
        "\n",
        "Palabras como \"a\" y \"the\" aparecen con tanta frecuencia que no requieren etiquetarse como sustantivos, verbos y modificadores. A estas las llamamos *stopwords* y se pueden filtrar del texto que se va a procesar. spaCy tiene una lista incorporada de unas 326 stopwords en inglés."
      ]
    },
    {
      "cell_type": "code",
      "execution_count": null,
      "metadata": {
        "id": "pVRC0Ikxm7sN"
      },
      "outputs": [],
      "source": [
        "# importar librería:\n",
        "import spacy\n",
        "nlp = spacy.load('en_core_web_sm')"
      ]
    },
    {
      "cell_type": "code",
      "execution_count": null,
      "metadata": {
        "id": "fer3CVgCm7sO",
        "outputId": "47ab1d45-dab0-42ce-c1bd-a0474cbe4f2b",
        "colab": {
          "base_uri": "https://localhost:8080/"
        }
      },
      "outputs": [
        {
          "output_type": "stream",
          "name": "stdout",
          "text": [
            "{'next', 'toward', 'should', 'upon', 'since', 'give', 'thereafter', 'already', 'n’t', 'regarding', 'to', 'either', 'ten', 'through', 'alone', 'whereby', 'none', 'everything', 'say', 'myself', 'third', 'used', 'six', 'seems', 'within', 'we', 'perhaps', 'please', 'therefore', 'same', 'if', 'amongst', 'around', 'before', '’re', 'not', 'my', 'where', 'whereas', 'us', 'its', 'some', 'across', 'an', 'down', 'mostly', 'many', 'becomes', 'with', '‘d', 'thru', 'cannot', 'there', 'she', 'now', 'must', 'your', 'just', 'this', 'much', 'meanwhile', 'hence', 'might', '‘ll', 'another', 'then', 'whence', 'moreover', 'serious', 'wherein', 'whatever', 'back', 'which', 'unless', 'i', 'be', 'why', 'though', \"'m\", 'that', 'somewhere', 'behind', 'herein', 'several', 'forty', 'sometime', 'ever', 'below', 'their', 'fifty', \"'ll\", 'against', 'never', 'any', 'than', 'anyone', 'btw', 'whom', 'empty', 'the', 'still', 'so', 'really', 'under', 'afterwards', 'themselves', 'anyway', 'whereafter', 'own', 'nothing', 'anywhere', 'of', 'became', 'due', 'n‘t', 'becoming', 'very', 'latterly', 'nobody', 'otherwise', 'who', 'amount', 'everyone', 'from', '‘ve', 'full', 'ourselves', 'become', 'could', 'least', 'twelve', \"'ve\", 'whoever', \"'s\", 'while', 'at', 'above', 'sometimes', 'elsewhere', 'noone', 'first', 'three', 'ours', 'were', 'various', 'besides', 'his', 'made', 'how', 'off', 'whereupon', 'always', 'put', 'only', 'else', 'hers', 'no', 'using', 'me', 'also', 'whenever', 'ca', 'neither', 'those', 'others', 'thereupon', 'done', 'eleven', 'less', 'over', 'beside', \"'d\", 'after', 'mine', 'bottom', 'nowhere', 'by', 'without', 'seeming', 'can', 'yours', '’d', 'itself', 're', 'something', 'sixty', 'yet', 'together', 'among', 'wherever', 'they', 'call', 'take', 'again', 'former', 'them', 'get', 'hereafter', 'during', 'someone', 'nor', 'thus', 'whither', 'well', \"n't\", 'or', 'is', 'one', 'therein', 'make', '‘re', 'in', '’s', 'few', 'been', 'two', 'see', 'enough', 'twenty', 'rather', 'throughout', 'everywhere', 'would', 'keep', 'more', 'herself', 'beforehand', 'latter', '’m', 'formerly', 'every', 'once', 'these', 'but', 'nine', 'onto', 'even', 'do', 'often', 'up', 'almost', '‘s', 'am', 'here', 'four', 'indeed', 'has', 'may', 'and', 'anything', 'too', 'anyhow', 'had', 'whose', 'does', 'doing', 'was', 'thence', 'all', '’ll', 'because', '‘m', 'into', 'our', '’ve', 'you', 'hereupon', 'although', 'via', 'along', 'part', 'somehow', 'seem', 'as', \"'re\", 'out', 'until', 'yourselves', 'eight', 'front', 'such', 'it', 'each', 'him', 'further', 'thereby', 'move', 'namely', 'last', 'have', 'other', 'her', 'nevertheless', 'hundred', 'are', 'per', 'most', 'fifteen', 'about', 'himself', 'when', 'on', 'however', 'top', 'both', 'show', 'between', 'will', 'yourself', 'name', 'for', 'what', 'five', 'he', 'quite', 'side', 'whether', 'being', 'a', 'seemed', 'except', 'go', 'hereby', 'whole', 'did', 'towards'}\n"
          ]
        }
      ],
      "source": [
        "#imprimir los stopwords:\n",
        "print(nlp.Defaults.stop_words)"
      ]
    },
    {
      "cell_type": "code",
      "execution_count": null,
      "metadata": {
        "id": "zUFVtJfNm7sO",
        "outputId": "4ec9cca7-d339-4fdf-92a9-62154767e820",
        "colab": {
          "base_uri": "https://localhost:8080/"
        }
      },
      "outputs": [
        {
          "output_type": "execute_result",
          "data": {
            "text/plain": [
              "326"
            ]
          },
          "metadata": {},
          "execution_count": 23
        }
      ],
      "source": [
        "len(nlp.Defaults.stop_words)"
      ]
    },
    {
      "cell_type": "markdown",
      "metadata": {
        "id": "zaVhJfKmm7sO"
      },
      "source": [
        "## Ver si una palabra es stopwords"
      ]
    },
    {
      "cell_type": "code",
      "execution_count": null,
      "metadata": {
        "id": "hDI_34XGm7sP",
        "outputId": "7f8bb6bf-5fe8-4dff-9bbd-4210359de08d",
        "colab": {
          "base_uri": "https://localhost:8080/"
        }
      },
      "outputs": [
        {
          "output_type": "execute_result",
          "data": {
            "text/plain": [
              "True"
            ]
          },
          "metadata": {},
          "execution_count": 24
        }
      ],
      "source": [
        "nlp.vocab['myself'].is_stop"
      ]
    },
    {
      "cell_type": "code",
      "execution_count": null,
      "metadata": {
        "id": "WisGxrpbm7sP",
        "outputId": "514073a3-5758-441f-f6f3-f5f525fb1ab8",
        "colab": {
          "base_uri": "https://localhost:8080/"
        }
      },
      "outputs": [
        {
          "output_type": "execute_result",
          "data": {
            "text/plain": [
              "False"
            ]
          },
          "metadata": {},
          "execution_count": 25
        }
      ],
      "source": [
        "nlp.vocab['mystery'].is_stop"
      ]
    },
    {
      "cell_type": "code",
      "source": [
        "nlp.vocab['any'].is_stop"
      ],
      "metadata": {
        "id": "ZFoA1wjFns8I",
        "outputId": "b38ad8be-6695-4b02-d385-84c617ef946a",
        "colab": {
          "base_uri": "https://localhost:8080/"
        }
      },
      "execution_count": null,
      "outputs": [
        {
          "output_type": "execute_result",
          "data": {
            "text/plain": [
              "True"
            ]
          },
          "metadata": {},
          "execution_count": 26
        }
      ]
    },
    {
      "cell_type": "markdown",
      "metadata": {
        "id": "zAhV-eLUm7sP"
      },
      "source": [
        "## Añadir un stopword\n",
        "Puede haber ocasiones en las que desee agregar una palabra de parada al conjunto predeterminado. Quizás decida que \"by the way\" (abreviatura común de \"btw\") debe considerarse un stopword."
      ]
    },
    {
      "cell_type": "code",
      "execution_count": null,
      "metadata": {
        "id": "gyq_AfLtm7sP"
      },
      "outputs": [],
      "source": [
        "# añadir un stopword. en minúsculas!\n",
        "nlp.Defaults.stop_words.add('btw')\n",
        "# Agregar el tag del stopword en el lexema\n",
        "nlp.vocab['btw'].is_stop=True"
      ]
    },
    {
      "cell_type": "code",
      "execution_count": null,
      "metadata": {
        "id": "nwqVQmPGm7sP",
        "outputId": "236451be-7108-49f8-da50-f6996d28f0ee",
        "colab": {
          "base_uri": "https://localhost:8080/"
        }
      },
      "outputs": [
        {
          "output_type": "execute_result",
          "data": {
            "text/plain": [
              "326"
            ]
          },
          "metadata": {},
          "execution_count": 28
        }
      ],
      "source": [
        "len(nlp.Defaults.stop_words)"
      ]
    },
    {
      "cell_type": "code",
      "execution_count": null,
      "metadata": {
        "id": "j5to01uWm7sQ"
      },
      "outputs": [],
      "source": []
    },
    {
      "cell_type": "markdown",
      "metadata": {
        "id": "DHz3GTqkm7sQ"
      },
      "source": [
        "<font color=green>Al agregar stopwords, utilice siempre minúsculas. Los lexemas se convierten a minúsculas antes de agregarlos al **vocabulario**.</font>"
      ]
    },
    {
      "cell_type": "markdown",
      "metadata": {
        "id": "dOnGaEAlm7sQ"
      },
      "source": [
        "## Removiendo un stopword\n",
        "Alternativamente, puede decidir que \"beyond\" no debe considerarse un stopword."
      ]
    },
    {
      "cell_type": "code",
      "execution_count": null,
      "metadata": {
        "id": "rhgS1LAam7sQ",
        "outputId": "edc9db0a-fee8-46bd-f636-81cfa0d2257b",
        "colab": {
          "base_uri": "https://localhost:8080/",
          "height": 211
        }
      },
      "outputs": [
        {
          "output_type": "error",
          "ename": "KeyError",
          "evalue": "'beyond'",
          "traceback": [
            "\u001b[0;31m---------------------------------------------------------------------------\u001b[0m",
            "\u001b[0;31mKeyError\u001b[0m                                  Traceback (most recent call last)",
            "\u001b[0;32m<ipython-input-29-5485f138f0bd>\u001b[0m in \u001b[0;36m<cell line: 2>\u001b[0;34m()\u001b[0m\n\u001b[1;32m      1\u001b[0m \u001b[0;31m# remover un stopword\u001b[0m\u001b[0;34m\u001b[0m\u001b[0;34m\u001b[0m\u001b[0m\n\u001b[0;32m----> 2\u001b[0;31m \u001b[0mnlp\u001b[0m\u001b[0;34m.\u001b[0m\u001b[0mDefaults\u001b[0m\u001b[0;34m.\u001b[0m\u001b[0mstop_words\u001b[0m\u001b[0;34m.\u001b[0m\u001b[0mremove\u001b[0m\u001b[0;34m(\u001b[0m\u001b[0;34m'beyond'\u001b[0m\u001b[0;34m)\u001b[0m\u001b[0;34m\u001b[0m\u001b[0;34m\u001b[0m\u001b[0m\n\u001b[0m\u001b[1;32m      3\u001b[0m \u001b[0;31m# Remover el stopwords del lexema\u001b[0m\u001b[0;34m\u001b[0m\u001b[0;34m\u001b[0m\u001b[0m\n",
            "\u001b[0;31mKeyError\u001b[0m: 'beyond'"
          ]
        }
      ],
      "source": [
        "# remover un stopword\n",
        "nlp.Defaults.stop_words.remove('beyond')\n",
        "# Remover el stopwords del lexema\n"
      ]
    },
    {
      "cell_type": "code",
      "source": [
        "nlp.vocab['beyond'].is_stop=False"
      ],
      "metadata": {
        "id": "PJND53vqoqLl"
      },
      "execution_count": null,
      "outputs": []
    }
  ],
  "metadata": {
    "kernelspec": {
      "display_name": "Python 3 (ipykernel)",
      "language": "python",
      "name": "python3"
    },
    "language_info": {
      "codemirror_mode": {
        "name": "ipython",
        "version": 3
      },
      "file_extension": ".py",
      "mimetype": "text/x-python",
      "name": "python",
      "nbconvert_exporter": "python",
      "pygments_lexer": "ipython3",
      "version": "3.8.8"
    },
    "colab": {
      "provenance": []
    }
  },
  "nbformat": 4,
  "nbformat_minor": 0
}