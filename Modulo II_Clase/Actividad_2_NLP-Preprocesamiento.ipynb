{
 "cells": [
  {
   "cell_type": "markdown",
   "metadata": {},
   "source": [
    "<img style=\"float: left;;\" src='Figures/alinco.png' /></a>\n",
    "\n",
    "# Actividad 2: Preprocesamiento NLP "
   ]
  },
  {
   "cell_type": "markdown",
   "metadata": {},
   "source": [
    "Para esta actividad usaremos el cuento [_An Occurrence at Owl Creek Bridge_] (https://en.wikipedia.org/wiki/An_Occurrence_at_Owl_Creek_Bridge) de Ambrose Bierce (1890). <br> La historia es de dominio público; el archivo de texto se obtuvo del [Proyecto Gutenberg] (https://www.gutenberg.org/ebooks/375.txt.utf-8)."
   ]
  },
  {
   "cell_type": "code",
   "execution_count": 1,
   "metadata": {},
   "outputs": [],
   "source": [
    "import spacy\n",
    "nlp = spacy.load('en_core_web_sm')"
   ]
  },
  {
   "cell_type": "markdown",
   "metadata": {},
   "source": [
    "**1. Crea un objeto Doc a partir del archivo `owlcreek.txt`**<br>\n",
    "> HINT: Use `with open('owlcreek.txt') as f:`"
   ]
  },
  {
   "cell_type": "code",
   "execution_count": 2,
   "metadata": {},
   "outputs": [],
   "source": [
    "# Ingrese su código aquí:\n",
    "with open('owlcreek.txt') as f:\n",
    "    doc = nlp(f.read())\n"
   ]
  },
  {
   "cell_type": "code",
   "execution_count": 3,
   "metadata": {},
   "outputs": [
    {
     "data": {
      "text/plain": [
       "AN OCCURRENCE AT OWL CREEK BRIDGE\n",
       "\n",
       "by Ambrose Bierce\n",
       "\n",
       "I\n",
       "\n",
       "A man stood upon a railroad bridge in northern Alabama, looking down\n",
       "into the swift water twenty feet below.  "
      ]
     },
     "execution_count": 3,
     "metadata": {},
     "output_type": "execute_result"
    }
   ],
   "source": [
    "# Corra esta celda para ver si funciona:\n",
    "\n",
    "doc[:36]"
   ]
  },
  {
   "cell_type": "markdown",
   "metadata": {},
   "source": [
    "**2. ¿Cuántos tokens contiene el archivo?**"
   ]
  },
  {
   "cell_type": "code",
   "execution_count": 4,
   "metadata": {},
   "outputs": [
    {
     "name": "stdout",
     "output_type": "stream",
     "text": [
      "4835\n"
     ]
    }
   ],
   "source": [
    "print(len(doc))"
   ]
  },
  {
   "cell_type": "markdown",
   "metadata": {},
   "source": [
    "**3. ¿Cuántas sentencias  contiene el archivo?**<br>HINT: Primero podrías crear una lista!"
   ]
  },
  {
   "cell_type": "code",
   "execution_count": 6,
   "metadata": {},
   "outputs": [],
   "source": [
    "s = [sentencias for sentencias in doc.sents]\n"
   ]
  },
  {
   "cell_type": "code",
   "execution_count": 8,
   "metadata": {},
   "outputs": [
    {
     "name": "stdout",
     "output_type": "stream",
     "text": [
      "229\n"
     ]
    }
   ],
   "source": [
    "print(len(s))"
   ]
  },
  {
   "cell_type": "markdown",
   "metadata": {},
   "source": [
    "**4. Imprime la segunda oración del documento.**<br> HINT: La indexación comienza en cero y el título cuenta como la primera oración."
   ]
  },
  {
   "cell_type": "code",
   "execution_count": 12,
   "metadata": {},
   "outputs": [
    {
     "data": {
      "text/plain": [
       "\"The man's hands were behind\\n\""
      ]
     },
     "execution_count": 12,
     "metadata": {},
     "output_type": "execute_result"
    }
   ],
   "source": [
    "s[3].text"
   ]
  },
  {
   "cell_type": "markdown",
   "metadata": {},
   "source": [
    "** 5. For each token in the sentence above, print its `text`, `POS` tag, `dep` tag and `lemma`<br>\n",
    "CHALLENGE: Have values line up in columns in the print output.**"
   ]
  },
  {
   "cell_type": "code",
   "execution_count": 15,
   "metadata": {},
   "outputs": [
    {
     "name": "stdout",
     "output_type": "stream",
     "text": [
      "The DET det the\n",
      "man NOUN poss man\n",
      "'s PART case 's\n",
      "hands NOUN nsubj hand\n",
      "were AUX ROOT be\n",
      "behind ADV prep behind\n",
      "\n",
      " SPACE  \n",
      "\n"
     ]
    }
   ],
   "source": [
    "# Solución normal:\n",
    "for token in s[3]:\n",
    "    print(token, token.pos_, token.dep_, token.lemma_)\n"
   ]
  },
  {
   "cell_type": "code",
   "execution_count": 17,
   "metadata": {},
   "outputs": [
    {
     "name": "stdout",
     "output_type": "stream",
     "text": [
      "The           DET   det        the            \n",
      "man           NOUN  poss       man            \n",
      "'s            PART  case       's             \n",
      "hands         NOUN  nsubj      hand           \n",
      "were          AUX   ROOT       be             \n",
      "behind        ADV   prep       behind         \n",
      "\n",
      "             SPACE            \n",
      "              \n"
     ]
    }
   ],
   "source": [
    "# CHALLENGE: Obtenga la impresión como se muestra abajo\n",
    "for token in s[3]:\n",
    "    print(f'{token.text:{13}} {token.pos_:{5}} {token.dep_:{10}} {token.lemma_:{15}}')"
   ]
  },
  {
   "cell_type": "markdown",
   "metadata": {},
   "source": [
    "A               DET   det        a              \n",
    "man             NOUN  nsubj      man            \n",
    "stood           VERB  ROOT       stand          \n",
    "upon            ADP   prep       upon           \n",
    "a               DET   det        a              \n",
    "railroad        NOUN  compound   railroad       \n",
    "bridge          NOUN  pobj       bridge         \n",
    "in              ADP   prep       in             \n",
    "northern        ADJ   amod       northern       \n",
    "Alabama         PROPN pobj       alabama        \n",
    ",               PUNCT punct      ,              \n",
    "looking         VERB  advcl      look           \n",
    "down            PART  prt        down           \n",
    "\n",
    "               SPACE            \n",
    "              \n",
    "into            ADP   prep       into           \n",
    "the             DET   det        the            \n",
    "swift           ADJ   amod       swift          \n",
    "water           NOUN  pobj       water          \n",
    "twenty          NUM   nummod     twenty         \n",
    "feet            NOUN  npadvmod   foot           \n",
    "below           ADV   advmod     below          \n",
    ".               PUNCT punct      .              \n",
    "                SPACE       "
   ]
  },
  {
   "cell_type": "code",
   "execution_count": null,
   "metadata": {},
   "outputs": [],
   "source": []
  }
 ],
 "metadata": {
  "kernelspec": {
   "display_name": "Python 3 (ipykernel)",
   "language": "python",
   "name": "python3"
  },
  "language_info": {
   "codemirror_mode": {
    "name": "ipython",
    "version": 3
   },
   "file_extension": ".py",
   "mimetype": "text/x-python",
   "name": "python",
   "nbconvert_exporter": "python",
   "pygments_lexer": "ipython3",
   "version": "3.8.8"
  }
 },
 "nbformat": 4,
 "nbformat_minor": 2
}
