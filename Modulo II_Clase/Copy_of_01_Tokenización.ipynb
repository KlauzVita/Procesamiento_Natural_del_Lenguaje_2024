{
  "cells": [
    {
      "cell_type": "markdown",
      "metadata": {
        "id": "RGTYYuUaB3hz"
      },
      "source": [
        "<img style=\"float: left;;\" src='https://github.com/gdesirena/Procesamiento_Natural_del_Lenguaje_2024/blob/main/Modulo%20II/Figures/alinco.png?raw=1' /></a>\n",
        "\n",
        "# Modulo I: Tokenización"
      ]
    },
    {
      "cell_type": "markdown",
      "metadata": {
        "id": "qZhMmNFqB3h0"
      },
      "source": [
        "\n",
        "El primer paso para crear un objeto `Doc` es dividir el texto entrante en partes componentes o\" tokens \"."
      ]
    },
    {
      "cell_type": "code",
      "execution_count": null,
      "metadata": {
        "id": "XCqm9JJTB3h1"
      },
      "outputs": [],
      "source": [
        "# Importar spacy y cargar 'en_core_web_sm'\n",
        "import spacy\n",
        "nlp = spacy.load('en_core_web_sm')"
      ]
    },
    {
      "cell_type": "code",
      "execution_count": null,
      "metadata": {
        "id": "YbxMX-E4B3h2",
        "outputId": "ea5325c9-2895-48ac-ec26-85430fbb046e",
        "colab": {
          "base_uri": "https://localhost:8080/"
        }
      },
      "outputs": [
        {
          "output_type": "stream",
          "name": "stdout",
          "text": [
            "\"We're moving to L.A.!\"\n"
          ]
        }
      ],
      "source": [
        "# Crear una cadena de texto que incluya al inicio y al final comillas\n",
        "mystring = '\"We\\'re moving to L.A.!\"'\n",
        "print(mystring)"
      ]
    },
    {
      "cell_type": "code",
      "execution_count": null,
      "metadata": {
        "id": "O0hWPawhB3h2"
      },
      "outputs": [],
      "source": [
        "# Crear un objeto tipo doc y explorar los tokens\n",
        "doc = nlp(mystring)"
      ]
    },
    {
      "cell_type": "code",
      "source": [
        "for token in doc:\n",
        "  print(token.text, end='|')\n"
      ],
      "metadata": {
        "id": "qFwV-4omR287",
        "outputId": "b376959b-b483-4c31-954f-1bd86f0ebade",
        "colab": {
          "base_uri": "https://localhost:8080/"
        }
      },
      "execution_count": null,
      "outputs": [
        {
          "output_type": "stream",
          "name": "stdout",
          "text": [
            "\"|We|'re|moving|to|L.A.|!|\"|"
          ]
        }
      ]
    },
    {
      "cell_type": "code",
      "source": [],
      "metadata": {
        "id": "qFu9NpfYR3Fr"
      },
      "execution_count": null,
      "outputs": []
    },
    {
      "cell_type": "markdown",
      "metadata": {
        "id": "nwFnaFu9B3h2"
      },
      "source": [
        "<img src=\"https://github.com/gdesirena/Procesamiento_Natural_del_Lenguaje_2024/blob/main/Modulo%20II/Figures/tokenization.png?raw=1\" width=\"600\">"
      ]
    },
    {
      "cell_type": "markdown",
      "metadata": {
        "id": "xOHy9VdVB3h2"
      },
      "source": [
        "-  **Prefijos**:\tcaracter(es) al inicio &#9656; `$ ( “ ¿`\n",
        "-  **Sufijos**:\tcaracter(es) al final &#9656; `km ) , . ! ”`\n",
        "-  **Infijo**:\tcaracter(es) en medio &#9656; `- -- / ...`\n",
        "-  **Excepción**: Una regla especial para dividir una cadena en varios tokens o evitar que un token se divida cuando se aplican reglas de puntuación &#9656; `St. U.S.`"
      ]
    },
    {
      "cell_type": "markdown",
      "metadata": {
        "id": "P0HBF-_pB3h3"
      },
      "source": [
        "Notar que los tokens son partes del texto original. Los tokens son los bloques de construcción básicos de un objeto Doc: todo lo que ayuda a entender el significado del texto se deriva de los tokens y su relación entre sí."
      ]
    },
    {
      "cell_type": "markdown",
      "metadata": {
        "id": "WGQl0iZOB3h3"
      },
      "source": [
        "## Prefijos, sufijos e infijos\n",
        "\n",
        "spaCy aislará la puntuación que *no* forma parte integral de una palabra. A las comillas, comas y los puntos finales de una oración se les asignará su propio token. Sin embargo, la puntuación que existe como parte de una dirección de correo electrónico, sitio web o valor numérico se mantendrá como parte del token."
      ]
    },
    {
      "cell_type": "code",
      "execution_count": null,
      "metadata": {
        "id": "TkMeHvRAB3h3",
        "outputId": "08024142-01f3-428c-a03f-057decb650b0",
        "colab": {
          "base_uri": "https://localhost:8080/"
        }
      },
      "outputs": [
        {
          "output_type": "stream",
          "name": "stdout",
          "text": [
            "We\n",
            "'re\n",
            "here\n",
            "to\n",
            "help\n",
            "!\n",
            "Send\n",
            "snail\n",
            "-\n",
            "mail\n",
            ",\n",
            "email\n",
            "support@oursite.com\n",
            "or\n",
            "visit\n",
            "us\n",
            "at\n",
            "http://www.oursite.com\n",
            "!\n"
          ]
        }
      ],
      "source": [
        "doc2 = nlp(u\"We're here to help! Send snail-mail, email support@oursite.com or visit us at http://www.oursite.com!\")\n",
        "for t in doc2:\n",
        "  print(t)\n"
      ]
    },
    {
      "cell_type": "markdown",
      "metadata": {
        "id": "4YMS_mxKB3h3"
      },
      "source": [
        "<font color=green>Hay que tener en cuenta que los signos de exclamación, la coma y el guión en 'snail-mail' tienen asignados sus propios tokens, pero se conservan tanto la dirección de correo electrónico como el sitio web.</font>"
      ]
    },
    {
      "cell_type": "code",
      "execution_count": null,
      "metadata": {
        "id": "ER22OelmB3h3",
        "outputId": "75b78e55-542d-4884-9d81-b05a765f2b76",
        "colab": {
          "base_uri": "https://localhost:8080/"
        }
      },
      "outputs": [
        {
          "output_type": "stream",
          "name": "stdout",
          "text": [
            "A\n",
            "5\n",
            "km\n",
            "NYC\n",
            "cab\n",
            "ride\n",
            "costs\n",
            "$\n",
            "10.30\n"
          ]
        }
      ],
      "source": [
        "doc3 = nlp(u'A 5km NYC cab ride costs $10.30')\n",
        "for t in doc3:\n",
        "  print(t)"
      ]
    },
    {
      "cell_type": "markdown",
      "metadata": {
        "id": "K9WnNYszB3h4"
      },
      "source": [
        "<font color=green>Aquí, a la unidad de distancia y al signo de dólar se les asignan sus propias fichas, pero se conserva la cantidad en dólares.</font>"
      ]
    },
    {
      "cell_type": "markdown",
      "metadata": {
        "id": "lGwet0QCB3h4"
      },
      "source": [
        "## Excepciones\n",
        "La puntuación que existe como parte de una abreviatura conocida se mantendrá como parte del token."
      ]
    },
    {
      "cell_type": "code",
      "execution_count": null,
      "metadata": {
        "id": "UaRSg251B3h4",
        "outputId": "730e907e-1125-4464-8b33-5c07f49213f2",
        "colab": {
          "base_uri": "https://localhost:8080/"
        }
      },
      "outputs": [
        {
          "output_type": "stream",
          "name": "stdout",
          "text": [
            "Let\n",
            "'s\n",
            "visit\n",
            "St.\n",
            "Louis\n",
            "in\n",
            "the\n",
            "U.S.\n",
            "next\n",
            "year\n",
            ".\n"
          ]
        }
      ],
      "source": [
        "doc4 = nlp(u\"Let's visit St. Louis in the U.S. next year.\")\n",
        "for t in doc4:\n",
        "  print(t)\n"
      ]
    },
    {
      "cell_type": "markdown",
      "metadata": {
        "id": "qOZMQXTDB3h4"
      },
      "source": [
        "<font color=green>Aquí se conservan las abreviaturas de \"Saint\" y \"United States\".</font>"
      ]
    },
    {
      "cell_type": "markdown",
      "metadata": {
        "id": "8P0hPXJWB3h4"
      },
      "source": [
        "## Contando Tokens\n",
        "Los objetos `Doc` tienen un número determinado de tokens:"
      ]
    },
    {
      "cell_type": "code",
      "execution_count": null,
      "metadata": {
        "id": "g7zB1HbOB3h4",
        "outputId": "38b16779-a6a4-4089-e9bc-bd7759e90b0b",
        "colab": {
          "base_uri": "https://localhost:8080/"
        }
      },
      "outputs": [
        {
          "output_type": "execute_result",
          "data": {
            "text/plain": [
              "11"
            ]
          },
          "metadata": {},
          "execution_count": 8
        }
      ],
      "source": [
        "len(doc4)"
      ]
    },
    {
      "cell_type": "markdown",
      "metadata": {
        "id": "xHZKgiO_B3h4"
      },
      "source": [
        "## Contar entradas de vocabulario\n",
        "¡Los objetos `Vocab` contienen una biblioteca completa de elementos!"
      ]
    },
    {
      "cell_type": "code",
      "execution_count": null,
      "metadata": {
        "id": "E-AYzJ65B3h4",
        "outputId": "ce5b7830-3ef7-477f-82ec-45ca51ac3df4",
        "colab": {
          "base_uri": "https://localhost:8080/"
        }
      },
      "outputs": [
        {
          "output_type": "execute_result",
          "data": {
            "text/plain": [
              "794"
            ]
          },
          "metadata": {},
          "execution_count": 9
        }
      ],
      "source": [
        "len(doc.vocab)"
      ]
    },
    {
      "cell_type": "markdown",
      "metadata": {
        "id": "s9VIoc9pB3h5"
      },
      "source": [
        "<font color=green>NOTA: Este número cambia según la biblioteca de idiomas cargada al principio y cualquier lexema nuevo introducido en el `vocab` cuando se creó el` Doc`.</font>"
      ]
    },
    {
      "cell_type": "markdown",
      "metadata": {
        "id": "-E06vPYEB3h5"
      },
      "source": [
        "## Recuperación de Tokens\n",
        "\n",
        "Los objetos `Doc` se pueden considerar como listas de objetos `token`. Como tal, los tokens individuales se pueden recuperar por posición de índice, y los tramos de tokens se pueden recuperar mediante el corte:"
      ]
    },
    {
      "cell_type": "code",
      "execution_count": null,
      "metadata": {
        "id": "5xcU2wh1B3h5",
        "outputId": "5dacc5fa-aa14-4839-e187-c25ef36d013e",
        "colab": {
          "base_uri": "https://localhost:8080/"
        }
      },
      "outputs": [
        {
          "output_type": "execute_result",
          "data": {
            "text/plain": [
              "better"
            ]
          },
          "metadata": {},
          "execution_count": 10
        }
      ],
      "source": [
        "doc5 = nlp(u'It is better to give than to receive.')\n",
        "\n",
        "# ver el tercer token:\n",
        "doc5[2]"
      ]
    },
    {
      "cell_type": "code",
      "execution_count": null,
      "metadata": {
        "id": "HLG9l4SLB3h5",
        "outputId": "5ab9fe85-c79e-4af0-cb27-f221e320becf",
        "colab": {
          "base_uri": "https://localhost:8080/"
        }
      },
      "outputs": [
        {
          "output_type": "execute_result",
          "data": {
            "text/plain": [
              "better to give"
            ]
          },
          "metadata": {},
          "execution_count": 11
        }
      ],
      "source": [
        "# tokens de en medio:\n",
        "doc5[2:5]"
      ]
    },
    {
      "cell_type": "code",
      "execution_count": null,
      "metadata": {
        "id": "mBJuHM8HB3h5",
        "outputId": "7e476f47-9fdc-40a8-f6b5-6951e3474315",
        "colab": {
          "base_uri": "https://localhost:8080/"
        }
      },
      "outputs": [
        {
          "output_type": "execute_result",
          "data": {
            "text/plain": [
              "than to receive."
            ]
          },
          "metadata": {},
          "execution_count": 13
        }
      ],
      "source": [
        "# los últimos 4 tokens:\n",
        "doc5[-4:]"
      ]
    },
    {
      "cell_type": "markdown",
      "metadata": {
        "id": "MHrKl1hAB3h5"
      },
      "source": [
        "## Los tokens no se pueden reasignar\n",
        "Aunque los objetos `Doc` pueden considerarse listas de tokens, *no* admiten la reasignación de elementos:"
      ]
    },
    {
      "cell_type": "code",
      "execution_count": null,
      "metadata": {
        "id": "ukRzMgyPB3h5"
      },
      "outputs": [],
      "source": [
        "doc6 = nlp(u'My dinner was horrible.')\n",
        "doc7 = nlp(u'Your dinner was delicious')"
      ]
    },
    {
      "cell_type": "code",
      "execution_count": null,
      "metadata": {
        "id": "Nt6tXOK4B3h5",
        "outputId": "0ce5037f-243f-447f-d45b-8d994f0cfd24",
        "colab": {
          "base_uri": "https://localhost:8080/",
          "height": 193
        }
      },
      "outputs": [
        {
          "output_type": "error",
          "ename": "TypeError",
          "evalue": "'spacy.tokens.doc.Doc' object does not support item assignment",
          "traceback": [
            "\u001b[0;31m---------------------------------------------------------------------------\u001b[0m",
            "\u001b[0;31mTypeError\u001b[0m                                 Traceback (most recent call last)",
            "\u001b[0;32m<ipython-input-15-3061222b68b6>\u001b[0m in \u001b[0;36m<cell line: 2>\u001b[0;34m()\u001b[0m\n\u001b[1;32m      1\u001b[0m \u001b[0;31m# tratar de reasignar los tokens\u001b[0m\u001b[0;34m\u001b[0m\u001b[0;34m\u001b[0m\u001b[0m\n\u001b[0;32m----> 2\u001b[0;31m \u001b[0mdoc6\u001b[0m\u001b[0;34m[\u001b[0m\u001b[0;36m3\u001b[0m\u001b[0;34m]\u001b[0m \u001b[0;34m=\u001b[0m\u001b[0mdoc7\u001b[0m\u001b[0;34m[\u001b[0m\u001b[0;36m3\u001b[0m\u001b[0;34m]\u001b[0m\u001b[0;34m\u001b[0m\u001b[0;34m\u001b[0m\u001b[0m\n\u001b[0m",
            "\u001b[0;31mTypeError\u001b[0m: 'spacy.tokens.doc.Doc' object does not support item assignment"
          ]
        }
      ],
      "source": [
        "# tratar de reasignar los tokens\n",
        "doc6[3] =doc7[3]"
      ]
    },
    {
      "cell_type": "markdown",
      "metadata": {
        "collapsed": true,
        "id": "htfQEcebB3h6"
      },
      "source": [
        "___\n",
        "# Entidades nombradas\n",
        "Yendo un paso más allá de los tokens, *entidades con nombre* agregan otra capa de contexto. El modelo de lenguaje reconoce que ciertas palabras son nombres de organizaciones mientras que otras son ubicaciones, y otras combinaciones se relacionan con dinero, fechas, etc. Las entidades nombradas son accesibles a través de la propiedad `ents` de un objeto` doc`."
      ]
    },
    {
      "cell_type": "code",
      "execution_count": null,
      "metadata": {
        "id": "3r7MEG3fB3h6",
        "outputId": "ae881144-8d05-4ed2-9a4a-c2b01fc3e3ca",
        "colab": {
          "base_uri": "https://localhost:8080/"
        }
      },
      "outputs": [
        {
          "output_type": "stream",
          "name": "stdout",
          "text": [
            "Apple|to|build|a|Hong|Kong|factory|for|$|6|million|"
          ]
        }
      ],
      "source": [
        "doc8 = nlp(u'Apple to build a Hong Kong factory for $6 million')\n",
        "for t in doc8:\n",
        "  print(t.text, end='|')\n"
      ]
    },
    {
      "cell_type": "code",
      "source": [
        "for ent in doc8.ents:\n",
        "  print(ent.text +' - '+ent.label_ + ' - '+str(spacy.explain(ent.label_)))"
      ],
      "metadata": {
        "id": "mxZ2vZUeVX0t",
        "outputId": "44ab8d03-cabd-40fa-cf08-47e6b73d99b2",
        "colab": {
          "base_uri": "https://localhost:8080/"
        }
      },
      "execution_count": null,
      "outputs": [
        {
          "output_type": "stream",
          "name": "stdout",
          "text": [
            "Apple - ORG - Companies, agencies, institutions, etc.\n",
            "Hong Kong - GPE - Countries, cities, states\n",
            "$6 million - MONEY - Monetary values, including unit\n"
          ]
        }
      ]
    },
    {
      "cell_type": "markdown",
      "metadata": {
        "id": "P6l5Kug5B3h6"
      },
      "source": [
        "<font color=green>Observe cómo dos tokens se combinan para formar la entidad \"Hong Kong\" y tres tokens se combinan para formar la entidad monetaria: \"$ 6 millones\".</font>"
      ]
    },
    {
      "cell_type": "code",
      "execution_count": null,
      "metadata": {
        "id": "MkCtS6cmB3h6",
        "outputId": "379590a7-eba7-477c-ed4b-ae2eb0469759",
        "colab": {
          "base_uri": "https://localhost:8080/"
        }
      },
      "outputs": [
        {
          "output_type": "execute_result",
          "data": {
            "text/plain": [
              "3"
            ]
          },
          "metadata": {},
          "execution_count": 18
        }
      ],
      "source": [
        "len(doc8.ents)"
      ]
    },
    {
      "cell_type": "markdown",
      "metadata": {
        "id": "mWouoznnB3h6"
      },
      "source": [
        "El reconocimiento de entidades con nombre (NER) es una importante herramienta de aprendizaje automático aplicada al procesamiento del lenguaje natural. <br> Haremos mucho más con ella en una próxima sección. Para obtener más información sobre **entidades nombradas**, visite https://spacy.io/usage/linguistic-features#named-entities"
      ]
    },
    {
      "cell_type": "markdown",
      "metadata": {
        "id": "K6W9lWiKB3h6"
      },
      "source": [
        "---\n",
        "# Noun chunks\n",
        "\n",
        "Similar a `Doc.ents`,` Doc.noun_chunks` son otra propiedad del objeto. *Noun chunks* son \"frases sustantivas básicas\": frases planas que tienen un sustantivo como encabezado. Puedes pensar en los fragmentos de sustantivo como un sustantivo más las palabras que describen el sustantivo, por ejemplo, en [la canción de Sheb Wooley de 1958] (https://en.wikipedia.org/wiki/The_Purple_People_Eater), un *\"one-eyed, one-horned, flying, purple people-eater\"* sería un fragmento de sustantivo largo."
      ]
    },
    {
      "cell_type": "code",
      "execution_count": null,
      "metadata": {
        "id": "74EaZ202B3h6",
        "outputId": "541e9733-fce5-42eb-e3c6-7a0594f5885b",
        "colab": {
          "base_uri": "https://localhost:8080/"
        }
      },
      "outputs": [
        {
          "output_type": "stream",
          "name": "stdout",
          "text": [
            "Autonomous cars\n",
            "insurance liability\n",
            "manufacturers\n"
          ]
        }
      ],
      "source": [
        "doc9 = nlp(u\"Autonomous cars shift insurance liability toward manufacturers.\")\n",
        "for chunk in doc9.noun_chunks:\n",
        "  print(chunk.text)"
      ]
    },
    {
      "cell_type": "code",
      "execution_count": null,
      "metadata": {
        "id": "oOJKyha5B3h6",
        "outputId": "3e026ce9-2079-4efc-f4a7-fc0047826b6a",
        "colab": {
          "base_uri": "https://localhost:8080/"
        }
      },
      "outputs": [
        {
          "output_type": "stream",
          "name": "stdout",
          "text": [
            "Red cars\n",
            "higher insurance rates\n"
          ]
        }
      ],
      "source": [
        "doc10 = nlp(u\"Red cars do not carry higher insurance rates.\")\n",
        "for chunk in doc10.noun_chunks:\n",
        "  print(chunk.text)\n"
      ]
    },
    {
      "cell_type": "code",
      "execution_count": null,
      "metadata": {
        "id": "86XcOBZ8B3h7",
        "outputId": "0b29d182-d4f0-4c9d-895c-171092f03bc7",
        "colab": {
          "base_uri": "https://localhost:8080/"
        }
      },
      "outputs": [
        {
          "output_type": "stream",
          "name": "stdout",
          "text": [
            "He\n",
            "a one-eyed, one-horned, flying, purple people-eater\n"
          ]
        }
      ],
      "source": [
        "doc11 = nlp(u\"He was a one-eyed, one-horned, flying, purple people-eater.\")\n",
        "for chunk in doc11.noun_chunks:\n",
        "  print(chunk.text)\n"
      ]
    },
    {
      "cell_type": "code",
      "execution_count": null,
      "metadata": {
        "id": "W8-isuPZB3h7"
      },
      "outputs": [],
      "source": []
    }
  ],
  "metadata": {
    "kernelspec": {
      "display_name": "Python 3 (ipykernel)",
      "language": "python",
      "name": "python3"
    },
    "language_info": {
      "codemirror_mode": {
        "name": "ipython",
        "version": 3
      },
      "file_extension": ".py",
      "mimetype": "text/x-python",
      "name": "python",
      "nbconvert_exporter": "python",
      "pygments_lexer": "ipython3",
      "version": "3.8.8"
    },
    "colab": {
      "provenance": []
    }
  },
  "nbformat": 4,
  "nbformat_minor": 0
}