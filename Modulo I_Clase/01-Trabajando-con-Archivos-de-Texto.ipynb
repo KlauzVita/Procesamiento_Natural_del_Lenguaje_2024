{
 "cells": [
  {
   "cell_type": "markdown",
   "metadata": {},
   "source": [
    "\n",
    "<img style=\"float: left;;\" src='Figures/alinco.png' /></a>\n",
    "\n",
    "# Introducción: Trabajando Con Archivos de Texto\n",
    "___"
   ]
  },
  {
   "cell_type": "markdown",
   "metadata": {},
   "source": [
    "En esta sección trabajaremos:\n",
    "\n",
    " * Con f-strings para impresión de texto\n",
    " * Con archivos: abrir, leer, escribir y agregar archivos de texto"
   ]
  },
  {
   "cell_type": "markdown",
   "metadata": {},
   "source": [
    "## f-strings"
   ]
  },
  {
   "cell_type": "markdown",
   "metadata": {},
   "source": [
    "Introducido en Python 3.6, <strong> f-strings </strong> ofrece varios beneficios sobre el antiguo método de impresión de una cadena `.format ()`. <br> Por un lado, puede traer variables externas inmediatamente a la cadena en lugar de pasarlas como argumentos en la función:"
   ]
  },
  {
   "cell_type": "code",
   "execution_count": 2,
   "metadata": {},
   "outputs": [
    {
     "name": "stdout",
     "output_type": "stream",
     "text": [
      "Mi nombre es Gaddiel\n",
      "Mi nombre es: Gaddiel\n"
     ]
    }
   ],
   "source": [
    "name='Gaddiel'\n",
    "\n",
    "# Using the old .format() method:\n",
    "print('Mi nombre es {var}'.format(var=name))\n",
    "\n",
    "# Using f-strings:\n",
    "print(f'Mi nombre es: {name}')"
   ]
  },
  {
   "cell_type": "markdown",
   "metadata": {},
   "source": [
    "Agregando `!r` se obtiene <strong>la representación de la cadena</strong>:"
   ]
  },
  {
   "cell_type": "code",
   "execution_count": 3,
   "metadata": {},
   "outputs": [
    {
     "name": "stdout",
     "output_type": "stream",
     "text": [
      "Mi nombre es: 'Gaddiel'\n"
     ]
    }
   ],
   "source": [
    "print(f'Mi nombre es: {name!r}')"
   ]
  },
  {
   "cell_type": "markdown",
   "metadata": {},
   "source": [
    "Hay que tener cuidado de no permitir que las comillas en los campos de reemplazo entren en conflicto con las comillas utilizadas en la cadena exterior:"
   ]
  },
  {
   "cell_type": "code",
   "execution_count": 4,
   "metadata": {},
   "outputs": [
    {
     "ename": "SyntaxError",
     "evalue": "invalid syntax (Temp/ipykernel_39416/1704976406.py, line 2)",
     "output_type": "error",
     "traceback": [
      "\u001b[1;36m  File \u001b[1;32m\"C:\\Users\\uie70742\\AppData\\Local\\Temp/ipykernel_39416/1704976406.py\"\u001b[1;36m, line \u001b[1;32m2\u001b[0m\n\u001b[1;33m    print(f'dirección: {d['a']} calle')\u001b[0m\n\u001b[1;37m                           ^\u001b[0m\n\u001b[1;31mSyntaxError\u001b[0m\u001b[1;31m:\u001b[0m invalid syntax\n"
     ]
    }
   ],
   "source": [
    "d = {'a':123, 'b':456}\n",
    "print(f'dirección: {d['a']} calle')"
   ]
  },
  {
   "cell_type": "markdown",
   "metadata": {},
   "source": [
    "En vez de eso, hay que usar diferentes estilos de comillas:"
   ]
  },
  {
   "cell_type": "code",
   "execution_count": 5,
   "metadata": {},
   "outputs": [
    {
     "name": "stdout",
     "output_type": "stream",
     "text": [
      "dirección: 123 calle\n"
     ]
    }
   ],
   "source": [
    "d = {'a':123, 'b':456}\n",
    "print(f\"dirección: {d['a']} calle\")"
   ]
  },
  {
   "cell_type": "markdown",
   "metadata": {},
   "source": [
    "### Anchos mínimos, alineación y rellenado\n",
    "Podemos pasar argumentos dentro de un conjunto anidado de llaves para establecer un ancho mínimo para el campo, la alineación e incluso los caracteres de relleno."
   ]
  },
  {
   "cell_type": "code",
   "execution_count": 6,
   "metadata": {},
   "outputs": [],
   "source": [
    "biblioteca = [('Autor', 'Tipo', 'Páginas'),('Twain', 'Rafting', 601),('Feyman', 'Physisc', 95),\n",
    "              ('Hamilton', 'Mythology',144)]"
   ]
  },
  {
   "cell_type": "code",
   "execution_count": 7,
   "metadata": {},
   "outputs": [
    {
     "data": {
      "text/plain": [
       "[('Autor', 'Tipo', 'Páginas'),\n",
       " ('Twain', 'Rafting', 601),\n",
       " ('Feyman', 'Physisc', 95),\n",
       " ('Hamilton', 'Mythology', 144)]"
      ]
     },
     "execution_count": 7,
     "metadata": {},
     "output_type": "execute_result"
    }
   ],
   "source": [
    "biblioteca"
   ]
  },
  {
   "cell_type": "code",
   "execution_count": 8,
   "metadata": {},
   "outputs": [
    {
     "name": "stdout",
     "output_type": "stream",
     "text": [
      "Autor      Tipo     Páginas\n",
      "Twain      Rafting      601\n",
      "Feyman     Physisc       95\n",
      "Hamilton   Mythology     144\n"
     ]
    }
   ],
   "source": [
    "for libros in biblioteca:\n",
    "    print(f'{libros[0]:{10}} {libros[1]:{8}} {libros[2]:{7}}')"
   ]
  },
  {
   "cell_type": "code",
   "execution_count": null,
   "metadata": {},
   "outputs": [],
   "source": []
  },
  {
   "cell_type": "markdown",
   "metadata": {},
   "source": [
    "Aquí las primeras tres líneas se alinean, excepto que `Pages` sigue una alineación predeterminada a la izquierda, mientras que los números están alineados a la derecha. Además, el número de página de la cuarta línea se desplaza hacia la derecha ya que \"Mitología\" supera el ancho de campo mínimo de \"8\". Al configurar los anchos de campo mínimos, asegúrese de tener en cuenta el elemento más largo.\n",
    "\n",
    "Para establecer la alineación, utilice el carácter `<` para alinear a la izquierda, `^` para el centro, `>` para la derecha. <br>\n",
    "Para configurar el relleno, preceda el carácter de alineación con el carácter de relleno (`-` y` .` son opciones comunes).\n",
    "\n",
    "Hagamos algunos ajustes:"
   ]
  },
  {
   "cell_type": "code",
   "execution_count": 9,
   "metadata": {},
   "outputs": [
    {
     "name": "stdout",
     "output_type": "stream",
     "text": [
      "Autor      Tipo       Páginas\n",
      "Twain      Rafting    ....601\n",
      "Feyman     Physisc    .....95\n",
      "Hamilton   Mythology  ....144\n"
     ]
    }
   ],
   "source": [
    "for libros in biblioteca:\n",
    "    print(f'{libros[0]:{10}} {libros[1]:{10}} {libros[2]:.>{7}}')\n",
    "    "
   ]
  },
  {
   "cell_type": "markdown",
   "metadata": {},
   "source": [
    "### Formato de fecha"
   ]
  },
  {
   "cell_type": "code",
   "execution_count": 10,
   "metadata": {},
   "outputs": [
    {
     "name": "stdout",
     "output_type": "stream",
     "text": [
      " January 19, 2024\n"
     ]
    }
   ],
   "source": [
    "from datetime import datetime\n",
    "\n",
    "today = datetime(year=2024, month=1, day=19)\n",
    "print(f'{today: %B %d, %Y}')"
   ]
  },
  {
   "cell_type": "markdown",
   "metadata": {},
   "source": [
    "Para mayor información: https://docs.python.org/3/reference/lexical_analysis.html#f-strings\n",
    "\n",
    "***"
   ]
  },
  {
   "cell_type": "markdown",
   "metadata": {},
   "source": [
    "# Archivos\n",
    "\n",
    "Python usa objetos de archivo para interactuar con archivos externos en su computadora. Estos objetos de archivo pueden ser cualquier tipo de archivo que tenga en su computadora, ya sea un archivo de audio, un archivo de texto, correos electrónicos, documentos de Excel, etc. Nota: Probablemente necesitará instalar ciertas bibliotecas o módulos para interactuar con esas diversas tipos de archivos, pero están fácilmente disponibles. \n",
    "\n",
    "Python tiene una función de apertura incorporada que nos permite abrir y jugar con tipos de archivos básicos. Sin embargo, primero necesitaremos un archivo. ¡Usaremos algo de magia de IPython para crear un archivo de texto!\n",
    "\n",
    "## Creación de un archivo con IPython\n",
    "#### ¡Esta función es específica de los cuadernos jupyter! Una manera alternativa es crear rápidamente un archivo .txt simple con algún editor de texto."
   ]
  },
  {
   "cell_type": "code",
   "execution_count": 11,
   "metadata": {},
   "outputs": [
    {
     "name": "stdout",
     "output_type": "stream",
     "text": [
      "Writing primer_archivo.txt\n"
     ]
    }
   ],
   "source": [
    "%%writefile primer_archivo.txt\n",
    "Hola, este es un archivo de texto de prueba rápida.\n",
    "Esta es una segunda lína del archivo"
   ]
  },
  {
   "cell_type": "markdown",
   "metadata": {},
   "source": [
    "## Abriendo un archivo en Python\n",
    "\n",
    "### Hay que conocer la ubicación de nuestro archivo\n",
    "\n",
    "Es fácil obtener un error en este paso:"
   ]
  },
  {
   "cell_type": "code",
   "execution_count": 12,
   "metadata": {},
   "outputs": [
    {
     "ename": "FileNotFoundError",
     "evalue": "[Errno 2] No such file or directory: 'archivo1.txt'",
     "output_type": "error",
     "traceback": [
      "\u001b[1;31m---------------------------------------------------------------------------\u001b[0m",
      "\u001b[1;31mFileNotFoundError\u001b[0m                         Traceback (most recent call last)",
      "\u001b[1;32m~\\AppData\\Local\\Temp/ipykernel_39416/1768524670.py\u001b[0m in \u001b[0;36m<module>\u001b[1;34m\u001b[0m\n\u001b[1;32m----> 1\u001b[1;33m \u001b[0mmyfile\u001b[0m \u001b[1;33m=\u001b[0m \u001b[0mopen\u001b[0m\u001b[1;33m(\u001b[0m\u001b[1;34m'archivo1.txt'\u001b[0m\u001b[1;33m)\u001b[0m\u001b[1;33m\u001b[0m\u001b[1;33m\u001b[0m\u001b[0m\n\u001b[0m",
      "\u001b[1;31mFileNotFoundError\u001b[0m: [Errno 2] No such file or directory: 'archivo1.txt'"
     ]
    }
   ],
   "source": [
    "myfile = open('archivo1.txt')"
   ]
  },
  {
   "cell_type": "markdown",
   "metadata": {},
   "source": [
    "Para evitar este error, asegúrese de que su archivo .txt esté guardado en la misma ubicación que su computadora portátil. Para verificar la ubicación de su computadora portátil, use ** pwd **:"
   ]
  },
  {
   "cell_type": "code",
   "execution_count": 13,
   "metadata": {},
   "outputs": [
    {
     "data": {
      "text/plain": [
       "'C:\\\\Users\\\\uie70742\\\\OneDrive - ITESO\\\\ALINNCO\\\\IA_Master\\\\Procesamiento_Natural_del_Lenguaje_2024\\\\Modulo I'"
      ]
     },
     "execution_count": 13,
     "metadata": {},
     "output_type": "execute_result"
    }
   ],
   "source": [
    "pwd"
   ]
  },
  {
   "cell_type": "markdown",
   "metadata": {},
   "source": [
    "**Alternativamente, para tomar archivos de cualquier ubicación en su computadora, simplemente pase la ruta completa del archivo.**\n",
    "\n",
    "Para Windows, debe usar doble \\ para que Python no trate el segundo \\ como un carácter de escape, una ruta de archivo tiene la forma:\n",
    "\n",
    "    myfile = open(\"C:\\\\Users\\\\YourUserName\\\\Home\\\\Folder\\\\myfile.txt\")\n",
    "\n",
    "Para MacOS y Linux hay que usar las diagonales invertidas:\n",
    "\n",
    "    myfile = open(\"/Users/YourUserName/Folder/myfile.txt\")"
   ]
  },
  {
   "cell_type": "code",
   "execution_count": 14,
   "metadata": {},
   "outputs": [],
   "source": [
    "# Abrir el archivo text.txt creado anteriormente\n",
    "myfile = open('C:\\\\Users\\\\uie70742\\\\OneDrive - ITESO\\\\ALINNCO\\\\IA_Master\\\\Procesamiento_Natural_del_Lenguaje_2024\\\\Modulo I\\\\primer_archivo.txt')"
   ]
  },
  {
   "cell_type": "code",
   "execution_count": 15,
   "metadata": {},
   "outputs": [
    {
     "data": {
      "text/plain": [
       "<_io.TextIOWrapper name='C:\\\\Users\\\\uie70742\\\\OneDrive - ITESO\\\\ALINNCO\\\\IA_Master\\\\Procesamiento_Natural_del_Lenguaje_2024\\\\Modulo I\\\\primer_archivo.txt' mode='r' encoding='cp1252'>"
      ]
     },
     "execution_count": 15,
     "metadata": {},
     "output_type": "execute_result"
    }
   ],
   "source": [
    "myfile"
   ]
  },
  {
   "cell_type": "markdown",
   "metadata": {},
   "source": [
    "`my_file` es ahora un objeto de archivo abierto almacenado en la memoria. Realizaremos algunos ejercicios de lectura y escritura, y luego tendremos que cerrar el archivo para liberar memoria.\n",
    "\n",
    "### .read() y .seek()"
   ]
  },
  {
   "cell_type": "code",
   "execution_count": 16,
   "metadata": {},
   "outputs": [
    {
     "data": {
      "text/plain": [
       "'Hola, este es un archivo de texto de prueba rÃ¡pida.\\nEsta es una segunda lÃ\\xadna del archivo\\n'"
      ]
     },
     "execution_count": 16,
     "metadata": {},
     "output_type": "execute_result"
    }
   ],
   "source": [
    "# Ahora podemos leer el archivo\n",
    "myfile.read()"
   ]
  },
  {
   "cell_type": "code",
   "execution_count": 17,
   "metadata": {},
   "outputs": [
    {
     "data": {
      "text/plain": [
       "''"
      ]
     },
     "execution_count": 17,
     "metadata": {},
     "output_type": "execute_result"
    }
   ],
   "source": [
    "# Pero que pasa si volvemos a leerla de nuevo?\n",
    "myfile.read()"
   ]
  },
  {
   "cell_type": "markdown",
   "metadata": {},
   "source": [
    "Esto sucede porque puedes imaginar que el \"cursor\" de lectura está al final del archivo después de haberlo leído. Entonces no queda nada por leer. Podemos restablecer el \"cursor\" así:"
   ]
  },
  {
   "cell_type": "code",
   "execution_count": 18,
   "metadata": {},
   "outputs": [
    {
     "data": {
      "text/plain": [
       "0"
      ]
     },
     "execution_count": 18,
     "metadata": {},
     "output_type": "execute_result"
    }
   ],
   "source": [
    "# Buscar el inicio del archivo (índice 0)\n",
    "myfile.seek(0)"
   ]
  },
  {
   "cell_type": "code",
   "execution_count": 19,
   "metadata": {},
   "outputs": [
    {
     "data": {
      "text/plain": [
       "'Hola, este es un archivo de texto de prueba rÃ¡pida.\\nEsta es una segunda lÃ\\xadna del archivo\\n'"
      ]
     },
     "execution_count": 19,
     "metadata": {},
     "output_type": "execute_result"
    }
   ],
   "source": [
    "# Ahora lo leemos de nuevo\n",
    "myfile.read()"
   ]
  },
  {
   "cell_type": "code",
   "execution_count": 20,
   "metadata": {},
   "outputs": [
    {
     "data": {
      "text/plain": [
       "5"
      ]
     },
     "execution_count": 20,
     "metadata": {},
     "output_type": "execute_result"
    }
   ],
   "source": [
    "myfile.seek(5)"
   ]
  },
  {
   "cell_type": "code",
   "execution_count": 21,
   "metadata": {},
   "outputs": [
    {
     "data": {
      "text/plain": [
       "' este es un archivo de texto de prueba rÃ¡pida.\\nEsta es una segunda lÃ\\xadna del archivo\\n'"
      ]
     },
     "execution_count": 21,
     "metadata": {},
     "output_type": "execute_result"
    }
   ],
   "source": [
    "myfile.read()"
   ]
  },
  {
   "cell_type": "code",
   "execution_count": 22,
   "metadata": {},
   "outputs": [
    {
     "data": {
      "text/plain": [
       "1000"
      ]
     },
     "execution_count": 22,
     "metadata": {},
     "output_type": "execute_result"
    }
   ],
   "source": [
    "myfile.seek(1000)"
   ]
  },
  {
   "cell_type": "code",
   "execution_count": 23,
   "metadata": {},
   "outputs": [
    {
     "data": {
      "text/plain": [
       "''"
      ]
     },
     "execution_count": 23,
     "metadata": {},
     "output_type": "execute_result"
    }
   ],
   "source": [
    "myfile.read()"
   ]
  },
  {
   "cell_type": "markdown",
   "metadata": {},
   "source": [
    "### .readlines()\n",
    "Puede leer un archivo línea por línea utilizando el método readlines. Tenga cuidado con los archivos grandes, ya que todo se guardará en la memoria. Aprenderemos cómo iterar sobre archivos grandes más adelante en el curso."
   ]
  },
  {
   "cell_type": "code",
   "execution_count": 24,
   "metadata": {},
   "outputs": [
    {
     "data": {
      "text/plain": [
       "0"
      ]
     },
     "execution_count": 24,
     "metadata": {},
     "output_type": "execute_result"
    }
   ],
   "source": [
    "# Readlines devuelve una lista de las líneas en el archivo\n",
    "myfile.seek(0)"
   ]
  },
  {
   "cell_type": "code",
   "execution_count": 25,
   "metadata": {},
   "outputs": [
    {
     "data": {
      "text/plain": [
       "['Hola, este es un archivo de texto de prueba rÃ¡pida.\\n',\n",
       " 'Esta es una segunda lÃ\\xadna del archivo\\n']"
      ]
     },
     "execution_count": 25,
     "metadata": {},
     "output_type": "execute_result"
    }
   ],
   "source": [
    "myfile.readlines()"
   ]
  },
  {
   "cell_type": "code",
   "execution_count": 28,
   "metadata": {},
   "outputs": [
    {
     "data": {
      "text/plain": [
       "0"
      ]
     },
     "execution_count": 28,
     "metadata": {},
     "output_type": "execute_result"
    }
   ],
   "source": [
    "myfile.seek(0)"
   ]
  },
  {
   "cell_type": "code",
   "execution_count": 29,
   "metadata": {},
   "outputs": [],
   "source": [
    "lineas = myfile.readlines()"
   ]
  },
  {
   "cell_type": "code",
   "execution_count": 30,
   "metadata": {},
   "outputs": [
    {
     "data": {
      "text/plain": [
       "['Hola, este es un archivo de texto de prueba rÃ¡pida.\\n',\n",
       " 'Esta es una segunda lÃ\\xadna del archivo\\n']"
      ]
     },
     "execution_count": 30,
     "metadata": {},
     "output_type": "execute_result"
    }
   ],
   "source": [
    "lineas"
   ]
  },
  {
   "cell_type": "markdown",
   "metadata": {},
   "source": [
    "Cuando haya terminado de usar un archivo, siempre es una buena práctica cerrarlo."
   ]
  },
  {
   "cell_type": "code",
   "execution_count": 31,
   "metadata": {},
   "outputs": [],
   "source": [
    "myfile.close()"
   ]
  },
  {
   "cell_type": "markdown",
   "metadata": {},
   "source": [
    "## Escribir en un archivo\n",
    "\n",
    "Por defecto, la función `open ()` solo nos permitirá leer el archivo. Necesitamos pasar el argumento `'w'` para escribir sobre el archivo. Por ejemplo:"
   ]
  },
  {
   "cell_type": "code",
   "execution_count": 32,
   "metadata": {},
   "outputs": [],
   "source": [
    "# Agregue un segundo argumento a la función, 'w' que significa escribir.\n",
    "# Agregando 'w +' nos permite leer y escribir en el archivo\n",
    "myfile = open('test.txt', 'w+')\n",
    "\n"
   ]
  },
  {
   "cell_type": "markdown",
   "metadata": {},
   "source": [
    "<div class=\"alert alert-danger\" style=\"margin: 20px\">**Cuidado!**<br>\n",
    "Abrir un archivo con 'w' o 'w +' * trunca el original *, lo que significa que todo lo que estaba en el archivo original ** se elimina **.</div>"
   ]
  },
  {
   "cell_type": "code",
   "execution_count": 33,
   "metadata": {},
   "outputs": [
    {
     "data": {
      "text/plain": [
       "38"
      ]
     },
     "execution_count": 33,
     "metadata": {},
     "output_type": "execute_result"
    }
   ],
   "source": [
    "# Escribir en un archivo\n",
    "myfile.write('Esta es una nueva linea en el archivo.')"
   ]
  },
  {
   "cell_type": "code",
   "execution_count": 34,
   "metadata": {},
   "outputs": [
    {
     "data": {
      "text/plain": [
       "0"
      ]
     },
     "execution_count": 34,
     "metadata": {},
     "output_type": "execute_result"
    }
   ],
   "source": [
    "# Leer el archivo\n",
    "myfile.seek(0)"
   ]
  },
  {
   "cell_type": "code",
   "execution_count": 35,
   "metadata": {},
   "outputs": [
    {
     "data": {
      "text/plain": [
       "'Esta es una nueva linea en el archivo.'"
      ]
     },
     "execution_count": 35,
     "metadata": {},
     "output_type": "execute_result"
    }
   ],
   "source": [
    "myfile.read()"
   ]
  },
  {
   "cell_type": "code",
   "execution_count": 36,
   "metadata": {},
   "outputs": [],
   "source": [
    " # siempre haz esto cuando hayas terminado con un archivo\n",
    "myfile.close()    "
   ]
  },
  {
   "cell_type": "markdown",
   "metadata": {},
   "source": [
    "## Agregar a un archivo\n",
    "Pasar el argumento `'a'` abre el archivo y coloca el puntero al final, por lo que se agrega todo lo escrito. Como `` 'w +' '', `` 'a +' 'nos permite leer y escribir en un archivo. Si el archivo no existe, se creará uno."
   ]
  },
  {
   "cell_type": "code",
   "execution_count": 37,
   "metadata": {},
   "outputs": [
    {
     "data": {
      "text/plain": [
       "24"
      ]
     },
     "execution_count": 37,
     "metadata": {},
     "output_type": "execute_result"
    }
   ],
   "source": [
    "myfile = open('test.txt','a+')\n",
    "myfile.write('\\nEsta linea es el comienzo del archivo')\n",
    "myfile.write('\\n aquí tienes otra linea')"
   ]
  },
  {
   "cell_type": "code",
   "execution_count": 38,
   "metadata": {},
   "outputs": [
    {
     "name": "stdout",
     "output_type": "stream",
     "text": [
      "Esta es una nueva linea en el archivo.\n",
      "Esta linea es el comienzo del archivo\n",
      " aquí tienes otra linea\n"
     ]
    }
   ],
   "source": [
    "myfile.seek(0)\n",
    "print(myfile.read())"
   ]
  },
  {
   "cell_type": "code",
   "execution_count": 39,
   "metadata": {},
   "outputs": [],
   "source": [
    "myfile.close()"
   ]
  },
  {
   "cell_type": "markdown",
   "metadata": {},
   "source": [
    "### Anexando con `%% writefile`\n",
    "Con jupyter notebook también se pueden hacer lo mismo con una celda mágica de IPython:"
   ]
  },
  {
   "cell_type": "code",
   "execution_count": 40,
   "metadata": {},
   "outputs": [
    {
     "name": "stdout",
     "output_type": "stream",
     "text": [
      "Appending to test.txt\n"
     ]
    }
   ],
   "source": [
    "%%writefile -a test.txt\n",
    "\n",
    "esta es otra linea con writefile en jupyter notebook.\n",
    "y aqui otra linea con jupyter"
   ]
  },
  {
   "cell_type": "markdown",
   "metadata": {},
   "source": [
    "Agregamos un espacio en blanco si desea que la primera línea comience en su propia línea, ya que Jupyter no reconocerá secuencias de escape como `\\ n`"
   ]
  },
  {
   "cell_type": "code",
   "execution_count": 41,
   "metadata": {},
   "outputs": [],
   "source": [
    "myfile = open('test.txt','a+')"
   ]
  },
  {
   "cell_type": "code",
   "execution_count": 43,
   "metadata": {},
   "outputs": [
    {
     "data": {
      "text/plain": [
       "0"
      ]
     },
     "execution_count": 43,
     "metadata": {},
     "output_type": "execute_result"
    }
   ],
   "source": [
    "myfile.seek(0)"
   ]
  },
  {
   "cell_type": "code",
   "execution_count": 44,
   "metadata": {},
   "outputs": [
    {
     "data": {
      "text/plain": [
       "'Esta es una nueva linea en el archivo.\\nEsta linea es el comienzo del archivo\\n aquí tienes otra linea\\nesta es otra linea con writefile en jupyter notebook.\\ny aqui otra linea con jupyter\\n'"
      ]
     },
     "execution_count": 44,
     "metadata": {},
     "output_type": "execute_result"
    }
   ],
   "source": [
    "myfile.read()"
   ]
  },
  {
   "cell_type": "code",
   "execution_count": 45,
   "metadata": {},
   "outputs": [],
   "source": [
    "myfile.close()"
   ]
  },
  {
   "cell_type": "markdown",
   "metadata": {},
   "source": [
    "## Alias y gestores de contexto\n",
    "Podemos asignar nombres de variables temporales como alias y administrar la apertura y el cierre de archivos automáticamente utilizando un administrador de contexto:"
   ]
  },
  {
   "cell_type": "code",
   "execution_count": 47,
   "metadata": {},
   "outputs": [
    {
     "name": "stdout",
     "output_type": "stream",
     "text": [
      "Esta es una nueva linea en el archivo.\n",
      "\n"
     ]
    }
   ],
   "source": [
    "with open('test.txt', 'r') as txt:\n",
    "    first_line = txt.readlines()[0]\n",
    "print(first_line)"
   ]
  },
  {
   "cell_type": "markdown",
   "metadata": {},
   "source": [
    "Tenga en cuenta que el administrador de contexto `with ... as ...:` cerró automáticamente `test.txt` después de asignar la primera línea de texto a first_line:"
   ]
  },
  {
   "cell_type": "code",
   "execution_count": 48,
   "metadata": {},
   "outputs": [
    {
     "ename": "ValueError",
     "evalue": "I/O operation on closed file.",
     "output_type": "error",
     "traceback": [
      "\u001b[1;31m---------------------------------------------------------------------------\u001b[0m",
      "\u001b[1;31mValueError\u001b[0m                                Traceback (most recent call last)",
      "\u001b[1;32m~\\AppData\\Local\\Temp/ipykernel_39416/1416744708.py\u001b[0m in \u001b[0;36m<module>\u001b[1;34m\u001b[0m\n\u001b[1;32m----> 1\u001b[1;33m \u001b[0mtxt\u001b[0m\u001b[1;33m.\u001b[0m\u001b[0mread\u001b[0m\u001b[1;33m(\u001b[0m\u001b[1;33m)\u001b[0m\u001b[1;33m\u001b[0m\u001b[1;33m\u001b[0m\u001b[0m\n\u001b[0m",
      "\u001b[1;31mValueError\u001b[0m: I/O operation on closed file."
     ]
    }
   ],
   "source": [
    "txt.read()"
   ]
  },
  {
   "cell_type": "markdown",
   "metadata": {},
   "source": [
    "## Iterar sobre un archivo"
   ]
  },
  {
   "cell_type": "code",
   "execution_count": 49,
   "metadata": {},
   "outputs": [
    {
     "name": "stdout",
     "output_type": "stream",
     "text": [
      "Esta es una nueva linea en el archivo.\n",
      "Esta linea es el comienzo del archivo\n",
      " aquí tienes otra linea\n",
      "esta es otra linea con writefile en jupyter notebook.\n",
      "y aqui otra linea con jupyter\n"
     ]
    }
   ],
   "source": [
    "  # the end='' argument removes extra linebreaks\n",
    "with open('test.txt', 'r') as txt:\n",
    "    for line in txt:\n",
    "        print(line, end='')"
   ]
  },
  {
   "cell_type": "code",
   "execution_count": 51,
   "metadata": {},
   "outputs": [
    {
     "name": "stdout",
     "output_type": "stream",
     "text": [
      "['Esta es una nueva linea en el archivo.\\n', 'Esta linea es el comienzo del archivo\\n', ' aquí tienes otra linea\\n', 'esta es otra linea con writefile en jupyter notebook.\\n', 'y aqui otra linea con jupyter\\n']\n"
     ]
    }
   ],
   "source": [
    "with open('test.txt', 'r') as txt:\n",
    "    lines = txt.readlines()\n",
    "print(lines)"
   ]
  },
  {
   "cell_type": "code",
   "execution_count": 53,
   "metadata": {},
   "outputs": [
    {
     "data": {
      "text/plain": [
       "['Esta', 'es', 'una', 'nueva', 'linea', 'en', 'el', 'archivo.']"
      ]
     },
     "execution_count": 53,
     "metadata": {},
     "output_type": "execute_result"
    }
   ],
   "source": [
    "lines[0].split()"
   ]
  },
  {
   "cell_type": "code",
   "execution_count": null,
   "metadata": {},
   "outputs": [],
   "source": []
  }
 ],
 "metadata": {
  "kernelspec": {
   "display_name": "Python 3 (ipykernel)",
   "language": "python",
   "name": "python3"
  },
  "language_info": {
   "codemirror_mode": {
    "name": "ipython",
    "version": 3
   },
   "file_extension": ".py",
   "mimetype": "text/x-python",
   "name": "python",
   "nbconvert_exporter": "python",
   "pygments_lexer": "ipython3",
   "version": "3.8.8"
  }
 },
 "nbformat": 4,
 "nbformat_minor": 2
}
