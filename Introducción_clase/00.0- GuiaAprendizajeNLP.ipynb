{
 "cells": [
  {
   "cell_type": "markdown",
   "metadata": {},
   "source": [
    "<img style=\"float: left;;\" src='Figures/alinco.png' /></a>\n",
    "    \n",
    "# <center> <font color= #000047> Procesamiento Natural del Lenguaje.</font>"
   ]
  },
  {
   "cell_type": "markdown",
   "metadata": {},
   "source": [
    "___\n",
    "<img style=\"float: right; margin: 0px 0px 15px 15px;\" src=\"https://cdn-ccbna.nitrocdn.com/rxuueJAJYZmZuFXEuYmMdFFzuzKhmoOH/assets/images/source/rev-fef191a/www.visiblethread.com/wp-content/uploads/2023/04/NLP-Natural-Language-Processing-VisibleThread-768x454.png\" width=\"500px\" height=\"500px\" />\n",
    "\n",
    "\n",
    "\n",
    "#### <font color= #2E9AFE>  `Viernes (17:00 a 21:00 hrs)`</font>\n",
    "#### <font color= #2E9AFE>` Sábados (9:00 a 13:00 hrs) ` </font>\n",
    "- <Strong> Gaddiel Desirena López </Strong>\n",
    "\n",
    "- <Strong> Año </Strong>: 2024\n",
    "\n",
    "- <Strong> Email: </Strong>  <font color=\"blue\"> `gdesirena@gmail.com` </font>\n",
    "___"
   ]
  },
  {
   "cell_type": "markdown",
   "metadata": {},
   "source": [
    "### `Presentación mía`\n",
    "___"
   ]
  },
  {
   "cell_type": "markdown",
   "metadata": {},
   "source": [
    "### `Presentación de ustedes`\n",
    "___"
   ]
  },
  {
   "cell_type": "markdown",
   "metadata": {},
   "source": [
    "### `Algunas reglas de juego`\n",
    "\n",
    "- Deben asistir, mínimo, al 80% de las clases para tener derecho a calificación.\n",
    "- La regla más importante de todas (regla de oro): todas las entregas se realizan a través de la plataforma de ALINNCO los plazos asignados. No se aceptan trabajos fuera de la plataforma ni fuera de plazo. \n",
    "___"
   ]
  },
  {
   "cell_type": "markdown",
   "metadata": {},
   "source": [
    "### `Horario de asesoría`\n",
    "\n",
    "Miércoles 18:00 hrs, otros días: **Escribirme mensaje/correo con anticipación para coordinarnos**\n",
    "___"
   ]
  },
  {
   "cell_type": "markdown",
   "metadata": {},
   "source": [
    "### `Descripción de la asignatura`\n",
    "\n",
    "El Procesamiento del Lenguaje Natural o **NLP** es una disciplina que se encuentra en la intersección de varias ciencias, tales como las Ciencias de la Computación, la Inteligencia Artificial y Psicología Cognitiva. Su idea central es la de darle a las máquinas la capacidad de leer y comprender los idiomas que hablamos los humanos. La investigación del Procesamiento del Lenguaje Natural tiene como objetivo responder a la pregunta de cómo las personas son capaces de comprender el significado de una oración oral / escrita y cómo las personas entienden lo que sucedió, cuándo y dónde sucedió; y las diferencias entre una suposición, una creencia o un hecho.\n"
   ]
  },
  {
   "cell_type": "markdown",
   "metadata": {},
   "source": [
    "#### `OBJETIVO GENERAL `\n",
    ">  <p style='text-align: justify;'> Introducir al análisis y transformación del lenguaje mediante técnicas computacionales. Representar al texto y discurso que pueden ayudar a la predicción, la extracción y el razonamiento semántico sobre el lenguaje. Comprender el lenguaje natural para su aplicación en los hardwares y software.</p>\n",
    "\n",
    "#### `OBJETIVOS ESPECÍFICOS`\n",
    "\n",
    "* Desarrollar un claro entendimiento del flujo de trabajo requerido por proyectos de NLP con aprendizaje automático.\n",
    "* Estar en capacidad de aplicar el paradigma de aprendizaje supervisado a problemas de NLP.\n",
    "* Conocer la problemática y las principales aplicaciones del aprendizaje automático al NLP.\n",
    "___"
   ]
  },
  {
   "cell_type": "markdown",
   "metadata": {},
   "source": [
    "### `CONTENIDO TEMÁTICO`"
   ]
  },
  {
   "cell_type": "markdown",
   "metadata": {},
   "source": [
    "`Introducción.` **Introducción a NLP**\n",
    "    \n",
    "    1. Introducción. \n",
    "    2. Áreas de aplicación en NLP (análisis de sentimientos, extracción de información, clasificación, etc).\n",
    "    3. Introducción al NLP con Python\n",
    "\n",
    "`Módulo 1.` **NLP con Python**\n",
    "  \n",
    "    1. Análisis básico de textos con Python.\n",
    "    2. Archivos de texto con Python.\n",
    "    3. Expresiones Regulares.\n",
    "    4. Librerías de NLP en Python (spaCy, NLTK)\n",
    "    \n",
    "`Módulo 2.` **Procesamiento del Lenguaje**\n",
    "\n",
    "    1. Preprocesamiento: \n",
    "        - Tokenization.\n",
    "        - Stemming.\n",
    "        - Lemmatization.\n",
    "        - StopWords.\n",
    "    2. Clasificación de documentos (Regresión logística)\n",
    "    \n",
    "    3. Naive Bayes para clasificación de documentos.\n",
    "        - Análisis de sentimientos.\n",
    "    \n",
    "    4. Modelos Líneales para la clasificación de documentos.\n",
    "        - N-gramas de palabras y caracteres.\n",
    "        - Funciones de pérdida.\n",
    "        - Entrenamiento con Gradient Descent.\n",
    "        \n",
    "   \n",
    "`Módulo 3.` **Modelos de Lenguaje y Etiquetado de Secuencia.**\n",
    "    \n",
    "    1. Vectores Palabra (Word Embeddings).\n",
    "        - Matrices palabra-contexto.\n",
    "        - Modelo Skip-gram.\n",
    "        - Modelo Continuos Bag of Words.\n",
    "        - Negative Sampling.   \n",
    "        \n",
    "   \n",
    "    2. Modelos de Lenguaje.\n",
    "        - Procesos de Markov\n",
    "        - Modelos de unigramas, bigramas y trigramas\n",
    "        - Evaluación de modelos de lenguaje: perplejidad\n",
    "        - Interpolación de modelos de Lenguaje\n",
    "        \n",
    "    3. Cadenas ocultas de Markov        \n"
   ]
  },
  {
   "cell_type": "markdown",
   "metadata": {},
   "source": [
    "### `Evaluación`\n",
    "\n",
    "- Tareas 30%\n",
    "- Actividades 30%\n",
    "- Proyecto Final 40%"
   ]
  },
  {
   "cell_type": "markdown",
   "metadata": {},
   "source": [
    "### `Bibliografía `"
   ]
  },
  {
   "cell_type": "markdown",
   "metadata": {},
   "source": [
    "> \n",
    "```\n",
    "\n",
    "- MACKAY, D. J.C. Information Theory, Inference, and Learning Algorithms. Cambridge: Cambridge\n",
    "University Press, 2003. 640 pp. (Cuarta impresión, versión 7.2)\n",
    "- DEISENROTH, M. P., Aldo Faisal, and Cheng Soon Ong. Mathematics for Machine Learning.\n",
    "Published by Cambridge University Press.2020. On line ISBN: 9781108679930\n",
    "- BISHOP, C. M. Pattern Recognition and Machine Learning. Singapore: Springer, 2006. 758 pp. ISBN10: 0-387-31073-8\n",
    "- MOHRI, M., A. Rostamizadeh, and A. Talwalkar. Foundations of Machine Learning. Cambridge: The MIT Press,2012. 427 pp. ISBN 978-0-262-01825-8\n",
    "- Eisenstein, J. (2018). Natural Language Processing.\n",
    "https://github.com/jacobeisenstein/gt-nlpclass/blob/master/notes/eisenstein-nlp-notes.pdf\n",
    "- Jurafsky, D. and Martin, J. (2020). Speech and Language Processing (3rd\n",
    "ed. Draft)\n",
    "- Goldberg, Y. (2015). A Primer on Neural Network Models for Natural Language Processing\n",
    "```\n"
   ]
  },
  {
   "cell_type": "code",
   "execution_count": null,
   "metadata": {},
   "outputs": [],
   "source": []
  }
 ],
 "metadata": {
  "anaconda-cloud": {},
  "kernelspec": {
   "display_name": "Python 3 (ipykernel)",
   "language": "python",
   "name": "python3"
  },
  "language_info": {
   "codemirror_mode": {
    "name": "ipython",
    "version": 3
   },
   "file_extension": ".py",
   "mimetype": "text/x-python",
   "name": "python",
   "nbconvert_exporter": "python",
   "pygments_lexer": "ipython3",
   "version": "3.8.8"
  }
 },
 "nbformat": 4,
 "nbformat_minor": 1
}
